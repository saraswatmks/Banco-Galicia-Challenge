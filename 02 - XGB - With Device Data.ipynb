{
 "cells": [
  {
   "cell_type": "code",
   "execution_count": 1,
   "metadata": {
    "collapsed": true
   },
   "outputs": [],
   "source": [
    "import pandas as pd\n",
    "from pandas import np\n",
    "import matplotlib.pyplot as plt\n",
    "%matplotlib inline\n",
    "import seaborn as sns"
   ]
  },
  {
   "cell_type": "markdown",
   "metadata": {},
   "source": [
    "### With device - cv score decreases"
   ]
  },
  {
   "cell_type": "code",
   "execution_count": 2,
   "metadata": {
    "scrolled": true
   },
   "outputs": [],
   "source": [
    "X_train = (pd.read_csv('data/train.csv', compression=\"gzip\")\n",
    "           .merge(pd.read_csv('data/device_train.csv', compression='gzip'), on='USER_ID', how='left'))"
   ]
  },
  {
   "cell_type": "code",
   "execution_count": 3,
   "metadata": {
    "scrolled": true
   },
   "outputs": [
    {
     "ename": "KeyboardInterrupt",
     "evalue": "",
     "output_type": "error",
     "traceback": [
      "\u001b[0;31m---------------------------------------------------------------------------\u001b[0m",
      "\u001b[0;31mKeyboardInterrupt\u001b[0m                         Traceback (most recent call last)",
      "\u001b[0;32m<ipython-input-3-969127b1bc92>\u001b[0m in \u001b[0;36m<module>\u001b[0;34m\u001b[0m\n\u001b[0;32m----> 1\u001b[0;31m X_test = (pd.read_csv('data/test.csv', compression=\"gzip\")\n\u001b[0m\u001b[1;32m      2\u001b[0m            .merge(pd.read_csv('data/device_test.csv', compression='gzip'), on='USER_ID', how='left'))\n",
      "\u001b[0;32m/anaconda3/envs/pyenv/lib/python3.7/site-packages/pandas/io/parsers.py\u001b[0m in \u001b[0;36mparser_f\u001b[0;34m(filepath_or_buffer, sep, delimiter, header, names, index_col, usecols, squeeze, prefix, mangle_dupe_cols, dtype, engine, converters, true_values, false_values, skipinitialspace, skiprows, skipfooter, nrows, na_values, keep_default_na, na_filter, verbose, skip_blank_lines, parse_dates, infer_datetime_format, keep_date_col, date_parser, dayfirst, cache_dates, iterator, chunksize, compression, thousands, decimal, lineterminator, quotechar, quoting, doublequote, escapechar, comment, encoding, dialect, error_bad_lines, warn_bad_lines, delim_whitespace, low_memory, memory_map, float_precision)\u001b[0m\n\u001b[1;32m    683\u001b[0m         )\n\u001b[1;32m    684\u001b[0m \u001b[0;34m\u001b[0m\u001b[0m\n\u001b[0;32m--> 685\u001b[0;31m         \u001b[0;32mreturn\u001b[0m \u001b[0m_read\u001b[0m\u001b[0;34m(\u001b[0m\u001b[0mfilepath_or_buffer\u001b[0m\u001b[0;34m,\u001b[0m \u001b[0mkwds\u001b[0m\u001b[0;34m)\u001b[0m\u001b[0;34m\u001b[0m\u001b[0;34m\u001b[0m\u001b[0m\n\u001b[0m\u001b[1;32m    686\u001b[0m \u001b[0;34m\u001b[0m\u001b[0m\n\u001b[1;32m    687\u001b[0m     \u001b[0mparser_f\u001b[0m\u001b[0;34m.\u001b[0m\u001b[0m__name__\u001b[0m \u001b[0;34m=\u001b[0m \u001b[0mname\u001b[0m\u001b[0;34m\u001b[0m\u001b[0;34m\u001b[0m\u001b[0m\n",
      "\u001b[0;32m/anaconda3/envs/pyenv/lib/python3.7/site-packages/pandas/io/parsers.py\u001b[0m in \u001b[0;36m_read\u001b[0;34m(filepath_or_buffer, kwds)\u001b[0m\n\u001b[1;32m    461\u001b[0m \u001b[0;34m\u001b[0m\u001b[0m\n\u001b[1;32m    462\u001b[0m     \u001b[0;32mtry\u001b[0m\u001b[0;34m:\u001b[0m\u001b[0;34m\u001b[0m\u001b[0;34m\u001b[0m\u001b[0m\n\u001b[0;32m--> 463\u001b[0;31m         \u001b[0mdata\u001b[0m \u001b[0;34m=\u001b[0m \u001b[0mparser\u001b[0m\u001b[0;34m.\u001b[0m\u001b[0mread\u001b[0m\u001b[0;34m(\u001b[0m\u001b[0mnrows\u001b[0m\u001b[0;34m)\u001b[0m\u001b[0;34m\u001b[0m\u001b[0;34m\u001b[0m\u001b[0m\n\u001b[0m\u001b[1;32m    464\u001b[0m     \u001b[0;32mfinally\u001b[0m\u001b[0;34m:\u001b[0m\u001b[0;34m\u001b[0m\u001b[0;34m\u001b[0m\u001b[0m\n\u001b[1;32m    465\u001b[0m         \u001b[0mparser\u001b[0m\u001b[0;34m.\u001b[0m\u001b[0mclose\u001b[0m\u001b[0;34m(\u001b[0m\u001b[0;34m)\u001b[0m\u001b[0;34m\u001b[0m\u001b[0;34m\u001b[0m\u001b[0m\n",
      "\u001b[0;32m/anaconda3/envs/pyenv/lib/python3.7/site-packages/pandas/io/parsers.py\u001b[0m in \u001b[0;36mread\u001b[0;34m(self, nrows)\u001b[0m\n\u001b[1;32m   1152\u001b[0m     \u001b[0;32mdef\u001b[0m \u001b[0mread\u001b[0m\u001b[0;34m(\u001b[0m\u001b[0mself\u001b[0m\u001b[0;34m,\u001b[0m \u001b[0mnrows\u001b[0m\u001b[0;34m=\u001b[0m\u001b[0;32mNone\u001b[0m\u001b[0;34m)\u001b[0m\u001b[0;34m:\u001b[0m\u001b[0;34m\u001b[0m\u001b[0;34m\u001b[0m\u001b[0m\n\u001b[1;32m   1153\u001b[0m         \u001b[0mnrows\u001b[0m \u001b[0;34m=\u001b[0m \u001b[0m_validate_integer\u001b[0m\u001b[0;34m(\u001b[0m\u001b[0;34m\"nrows\"\u001b[0m\u001b[0;34m,\u001b[0m \u001b[0mnrows\u001b[0m\u001b[0;34m)\u001b[0m\u001b[0;34m\u001b[0m\u001b[0;34m\u001b[0m\u001b[0m\n\u001b[0;32m-> 1154\u001b[0;31m         \u001b[0mret\u001b[0m \u001b[0;34m=\u001b[0m \u001b[0mself\u001b[0m\u001b[0;34m.\u001b[0m\u001b[0m_engine\u001b[0m\u001b[0;34m.\u001b[0m\u001b[0mread\u001b[0m\u001b[0;34m(\u001b[0m\u001b[0mnrows\u001b[0m\u001b[0;34m)\u001b[0m\u001b[0;34m\u001b[0m\u001b[0;34m\u001b[0m\u001b[0m\n\u001b[0m\u001b[1;32m   1155\u001b[0m \u001b[0;34m\u001b[0m\u001b[0m\n\u001b[1;32m   1156\u001b[0m         \u001b[0;31m# May alter columns / col_dict\u001b[0m\u001b[0;34m\u001b[0m\u001b[0;34m\u001b[0m\u001b[0;34m\u001b[0m\u001b[0m\n",
      "\u001b[0;32m/anaconda3/envs/pyenv/lib/python3.7/site-packages/pandas/io/parsers.py\u001b[0m in \u001b[0;36mread\u001b[0;34m(self, nrows)\u001b[0m\n\u001b[1;32m   2057\u001b[0m     \u001b[0;32mdef\u001b[0m \u001b[0mread\u001b[0m\u001b[0;34m(\u001b[0m\u001b[0mself\u001b[0m\u001b[0;34m,\u001b[0m \u001b[0mnrows\u001b[0m\u001b[0;34m=\u001b[0m\u001b[0;32mNone\u001b[0m\u001b[0;34m)\u001b[0m\u001b[0;34m:\u001b[0m\u001b[0;34m\u001b[0m\u001b[0;34m\u001b[0m\u001b[0m\n\u001b[1;32m   2058\u001b[0m         \u001b[0;32mtry\u001b[0m\u001b[0;34m:\u001b[0m\u001b[0;34m\u001b[0m\u001b[0;34m\u001b[0m\u001b[0m\n\u001b[0;32m-> 2059\u001b[0;31m             \u001b[0mdata\u001b[0m \u001b[0;34m=\u001b[0m \u001b[0mself\u001b[0m\u001b[0;34m.\u001b[0m\u001b[0m_reader\u001b[0m\u001b[0;34m.\u001b[0m\u001b[0mread\u001b[0m\u001b[0;34m(\u001b[0m\u001b[0mnrows\u001b[0m\u001b[0;34m)\u001b[0m\u001b[0;34m\u001b[0m\u001b[0;34m\u001b[0m\u001b[0m\n\u001b[0m\u001b[1;32m   2060\u001b[0m         \u001b[0;32mexcept\u001b[0m \u001b[0mStopIteration\u001b[0m\u001b[0;34m:\u001b[0m\u001b[0;34m\u001b[0m\u001b[0;34m\u001b[0m\u001b[0m\n\u001b[1;32m   2061\u001b[0m             \u001b[0;32mif\u001b[0m \u001b[0mself\u001b[0m\u001b[0;34m.\u001b[0m\u001b[0m_first_chunk\u001b[0m\u001b[0;34m:\u001b[0m\u001b[0;34m\u001b[0m\u001b[0;34m\u001b[0m\u001b[0m\n",
      "\u001b[0;32mpandas/_libs/parsers.pyx\u001b[0m in \u001b[0;36mpandas._libs.parsers.TextReader.read\u001b[0;34m()\u001b[0m\n",
      "\u001b[0;32mpandas/_libs/parsers.pyx\u001b[0m in \u001b[0;36mpandas._libs.parsers.TextReader._read_low_memory\u001b[0;34m()\u001b[0m\n",
      "\u001b[0;32mpandas/_libs/parsers.pyx\u001b[0m in \u001b[0;36mpandas._libs.parsers.TextReader._read_rows\u001b[0;34m()\u001b[0m\n",
      "\u001b[0;32mpandas/_libs/parsers.pyx\u001b[0m in \u001b[0;36mpandas._libs.parsers.TextReader._convert_column_data\u001b[0;34m()\u001b[0m\n",
      "\u001b[0;32mpandas/_libs/parsers.pyx\u001b[0m in \u001b[0;36mpandas._libs.parsers.TextReader._convert_tokens\u001b[0;34m()\u001b[0m\n",
      "\u001b[0;32mpandas/_libs/parsers.pyx\u001b[0m in \u001b[0;36mpandas._libs.parsers.TextReader._convert_with_dtype\u001b[0;34m()\u001b[0m\n",
      "\u001b[0;32m/anaconda3/envs/pyenv/lib/python3.7/site-packages/pandas/core/dtypes/common.py\u001b[0m in \u001b[0;36mis_categorical_dtype\u001b[0;34m(arr_or_dtype)\u001b[0m\n\u001b[1;32m    676\u001b[0m \u001b[0;34m\u001b[0m\u001b[0m\n\u001b[1;32m    677\u001b[0m \u001b[0;34m\u001b[0m\u001b[0m\n\u001b[0;32m--> 678\u001b[0;31m \u001b[0;32mdef\u001b[0m \u001b[0mis_categorical_dtype\u001b[0m\u001b[0;34m(\u001b[0m\u001b[0marr_or_dtype\u001b[0m\u001b[0;34m)\u001b[0m\u001b[0;34m:\u001b[0m\u001b[0;34m\u001b[0m\u001b[0;34m\u001b[0m\u001b[0m\n\u001b[0m\u001b[1;32m    679\u001b[0m     \"\"\"\n\u001b[1;32m    680\u001b[0m     \u001b[0mCheck\u001b[0m \u001b[0mwhether\u001b[0m \u001b[0man\u001b[0m \u001b[0marray\u001b[0m\u001b[0;34m-\u001b[0m\u001b[0mlike\u001b[0m \u001b[0;32mor\u001b[0m \u001b[0mdtype\u001b[0m \u001b[0;32mis\u001b[0m \u001b[0mof\u001b[0m \u001b[0mthe\u001b[0m \u001b[0mCategorical\u001b[0m \u001b[0mdtype\u001b[0m\u001b[0;34m.\u001b[0m\u001b[0;34m\u001b[0m\u001b[0;34m\u001b[0m\u001b[0m\n",
      "\u001b[0;31mKeyboardInterrupt\u001b[0m: "
     ]
    }
   ],
   "source": [
    "X_test = (pd.read_csv('data/test.csv', compression=\"gzip\")\n",
    "           .merge(pd.read_csv('data/device_test.csv', compression='gzip'), on='USER_ID', how='left'))"
   ]
  },
  {
   "cell_type": "code",
   "execution_count": null,
   "metadata": {
    "collapsed": true
   },
   "outputs": [],
   "source": [
    "y_train = X_train.pop('target')"
   ]
  },
  {
   "cell_type": "markdown",
   "metadata": {},
   "source": [
    "### Without Device"
   ]
  },
  {
   "cell_type": "code",
   "execution_count": 2,
   "metadata": {
    "scrolled": true
   },
   "outputs": [],
   "source": [
    "X_train = pd.read_csv('data/train.csv', compression=\"gzip\").drop('USER_ID', axis=1)\n",
    "X_test = pd.read_csv('data/test.csv', compression=\"gzip\").drop('USER_ID', axis=1)"
   ]
  },
  {
   "cell_type": "code",
   "execution_count": 115,
   "metadata": {
    "scrolled": true
   },
   "outputs": [],
   "source": [
    "X_train = pd.read_csv('data/train_counts.csv', compression=\"gzip\").drop('USER_ID', axis=1)\n",
    "X_test = pd.read_csv('data/test_counts.csv', compression=\"gzip\").drop('USER_ID', axis=1)"
   ]
  },
  {
   "cell_type": "markdown",
   "metadata": {},
   "source": [
    "test_user = X_test.pop('USER_ID')"
   ]
  },
  {
   "cell_type": "code",
   "execution_count": 107,
   "metadata": {
    "collapsed": true
   },
   "outputs": [],
   "source": [
    "y_train = X_train.pop('target')"
   ]
  },
  {
   "cell_type": "code",
   "execution_count": 108,
   "metadata": {
    "scrolled": false
   },
   "outputs": [
    {
     "data": {
      "text/plain": [
       "((11529, 2026), (11676, 2026), (11529,))"
      ]
     },
     "execution_count": 108,
     "metadata": {},
     "output_type": "execute_result"
    }
   ],
   "source": [
    "X_train.shape, X_test.shape, y_train.shape"
   ]
  },
  {
   "cell_type": "code",
   "execution_count": 89,
   "metadata": {
    "scrolled": false
   },
   "outputs": [
    {
     "data": {
      "text/html": [
       "<div>\n",
       "<style scoped>\n",
       "    .dataframe tbody tr th:only-of-type {\n",
       "        vertical-align: middle;\n",
       "    }\n",
       "\n",
       "    .dataframe tbody tr th {\n",
       "        vertical-align: top;\n",
       "    }\n",
       "\n",
       "    .dataframe thead th {\n",
       "        text-align: right;\n",
       "    }\n",
       "</style>\n",
       "<table border=\"1\" class=\"dataframe\">\n",
       "  <thead>\n",
       "    <tr style=\"text-align: right;\">\n",
       "      <th></th>\n",
       "      <th>ON_SITE_SEARCH_TERM_124</th>\n",
       "      <th>PAGE_222</th>\n",
       "      <th>PAGE_1304</th>\n",
       "      <th>PAGE_405</th>\n",
       "      <th>CONTENT_CATEGORY_BOTTOM_11</th>\n",
       "      <th>PAGE_1256</th>\n",
       "      <th>PAGE_835</th>\n",
       "      <th>PAGE_1405</th>\n",
       "      <th>CONTENT_CATEGORY_BOTTOM_41</th>\n",
       "      <th>PAGE_43</th>\n",
       "      <th>...</th>\n",
       "      <th>PAGE_1290</th>\n",
       "      <th>ON_SITE_SEARCH_TERM_59</th>\n",
       "      <th>PAGE_346</th>\n",
       "      <th>PAGE_398</th>\n",
       "      <th>PAGE_1504</th>\n",
       "      <th>PAGE_646</th>\n",
       "      <th>PAGE_1456</th>\n",
       "      <th>PAGE_712</th>\n",
       "      <th>PAGE_667</th>\n",
       "      <th>PAGE_1334</th>\n",
       "    </tr>\n",
       "  </thead>\n",
       "  <tbody>\n",
       "    <tr>\n",
       "      <td>0</td>\n",
       "      <td>0</td>\n",
       "      <td>0</td>\n",
       "      <td>0</td>\n",
       "      <td>0</td>\n",
       "      <td>0</td>\n",
       "      <td>0</td>\n",
       "      <td>0</td>\n",
       "      <td>0</td>\n",
       "      <td>0</td>\n",
       "      <td>2</td>\n",
       "      <td>...</td>\n",
       "      <td>0</td>\n",
       "      <td>0</td>\n",
       "      <td>0</td>\n",
       "      <td>0</td>\n",
       "      <td>0</td>\n",
       "      <td>0</td>\n",
       "      <td>0</td>\n",
       "      <td>0</td>\n",
       "      <td>0</td>\n",
       "      <td>0</td>\n",
       "    </tr>\n",
       "    <tr>\n",
       "      <td>1</td>\n",
       "      <td>0</td>\n",
       "      <td>0</td>\n",
       "      <td>0</td>\n",
       "      <td>0</td>\n",
       "      <td>0</td>\n",
       "      <td>0</td>\n",
       "      <td>0</td>\n",
       "      <td>0</td>\n",
       "      <td>0</td>\n",
       "      <td>1</td>\n",
       "      <td>...</td>\n",
       "      <td>0</td>\n",
       "      <td>0</td>\n",
       "      <td>0</td>\n",
       "      <td>0</td>\n",
       "      <td>0</td>\n",
       "      <td>0</td>\n",
       "      <td>0</td>\n",
       "      <td>0</td>\n",
       "      <td>0</td>\n",
       "      <td>0</td>\n",
       "    </tr>\n",
       "    <tr>\n",
       "      <td>2</td>\n",
       "      <td>0</td>\n",
       "      <td>0</td>\n",
       "      <td>0</td>\n",
       "      <td>0</td>\n",
       "      <td>9</td>\n",
       "      <td>0</td>\n",
       "      <td>0</td>\n",
       "      <td>0</td>\n",
       "      <td>0</td>\n",
       "      <td>1</td>\n",
       "      <td>...</td>\n",
       "      <td>0</td>\n",
       "      <td>0</td>\n",
       "      <td>0</td>\n",
       "      <td>0</td>\n",
       "      <td>0</td>\n",
       "      <td>0</td>\n",
       "      <td>0</td>\n",
       "      <td>0</td>\n",
       "      <td>0</td>\n",
       "      <td>0</td>\n",
       "    </tr>\n",
       "    <tr>\n",
       "      <td>3</td>\n",
       "      <td>0</td>\n",
       "      <td>0</td>\n",
       "      <td>0</td>\n",
       "      <td>0</td>\n",
       "      <td>2</td>\n",
       "      <td>0</td>\n",
       "      <td>0</td>\n",
       "      <td>0</td>\n",
       "      <td>0</td>\n",
       "      <td>0</td>\n",
       "      <td>...</td>\n",
       "      <td>0</td>\n",
       "      <td>0</td>\n",
       "      <td>1</td>\n",
       "      <td>0</td>\n",
       "      <td>0</td>\n",
       "      <td>0</td>\n",
       "      <td>0</td>\n",
       "      <td>0</td>\n",
       "      <td>0</td>\n",
       "      <td>0</td>\n",
       "    </tr>\n",
       "    <tr>\n",
       "      <td>4</td>\n",
       "      <td>0</td>\n",
       "      <td>0</td>\n",
       "      <td>0</td>\n",
       "      <td>1</td>\n",
       "      <td>1</td>\n",
       "      <td>0</td>\n",
       "      <td>0</td>\n",
       "      <td>0</td>\n",
       "      <td>0</td>\n",
       "      <td>18</td>\n",
       "      <td>...</td>\n",
       "      <td>0</td>\n",
       "      <td>0</td>\n",
       "      <td>0</td>\n",
       "      <td>0</td>\n",
       "      <td>0</td>\n",
       "      <td>0</td>\n",
       "      <td>0</td>\n",
       "      <td>0</td>\n",
       "      <td>0</td>\n",
       "      <td>0</td>\n",
       "    </tr>\n",
       "  </tbody>\n",
       "</table>\n",
       "<p>5 rows × 2026 columns</p>\n",
       "</div>"
      ],
      "text/plain": [
       "   ON_SITE_SEARCH_TERM_124  PAGE_222  PAGE_1304  PAGE_405  \\\n",
       "0                        0         0          0         0   \n",
       "1                        0         0          0         0   \n",
       "2                        0         0          0         0   \n",
       "3                        0         0          0         0   \n",
       "4                        0         0          0         1   \n",
       "\n",
       "   CONTENT_CATEGORY_BOTTOM_11  PAGE_1256  PAGE_835  PAGE_1405  \\\n",
       "0                           0          0         0          0   \n",
       "1                           0          0         0          0   \n",
       "2                           9          0         0          0   \n",
       "3                           2          0         0          0   \n",
       "4                           1          0         0          0   \n",
       "\n",
       "   CONTENT_CATEGORY_BOTTOM_41  PAGE_43  ...  PAGE_1290  \\\n",
       "0                           0        2  ...          0   \n",
       "1                           0        1  ...          0   \n",
       "2                           0        1  ...          0   \n",
       "3                           0        0  ...          0   \n",
       "4                           0       18  ...          0   \n",
       "\n",
       "   ON_SITE_SEARCH_TERM_59  PAGE_346  PAGE_398  PAGE_1504  PAGE_646  PAGE_1456  \\\n",
       "0                       0         0         0          0         0          0   \n",
       "1                       0         0         0          0         0          0   \n",
       "2                       0         0         0          0         0          0   \n",
       "3                       0         1         0          0         0          0   \n",
       "4                       0         0         0          0         0          0   \n",
       "\n",
       "   PAGE_712  PAGE_667  PAGE_1334  \n",
       "0         0         0          0  \n",
       "1         0         0          0  \n",
       "2         0         0          0  \n",
       "3         0         0          0  \n",
       "4         0         0          0  \n",
       "\n",
       "[5 rows x 2026 columns]"
      ]
     },
     "execution_count": 89,
     "metadata": {},
     "output_type": "execute_result"
    }
   ],
   "source": [
    "X_train.head()"
   ]
  },
  {
   "cell_type": "code",
   "execution_count": 90,
   "metadata": {},
   "outputs": [
    {
     "data": {
      "text/html": [
       "<div>\n",
       "<style scoped>\n",
       "    .dataframe tbody tr th:only-of-type {\n",
       "        vertical-align: middle;\n",
       "    }\n",
       "\n",
       "    .dataframe tbody tr th {\n",
       "        vertical-align: top;\n",
       "    }\n",
       "\n",
       "    .dataframe thead th {\n",
       "        text-align: right;\n",
       "    }\n",
       "</style>\n",
       "<table border=\"1\" class=\"dataframe\">\n",
       "  <thead>\n",
       "    <tr style=\"text-align: right;\">\n",
       "      <th></th>\n",
       "      <th>ON_SITE_SEARCH_TERM_124</th>\n",
       "      <th>PAGE_222</th>\n",
       "      <th>PAGE_1304</th>\n",
       "      <th>PAGE_405</th>\n",
       "      <th>CONTENT_CATEGORY_BOTTOM_11</th>\n",
       "      <th>PAGE_1256</th>\n",
       "      <th>PAGE_835</th>\n",
       "      <th>PAGE_1405</th>\n",
       "      <th>CONTENT_CATEGORY_BOTTOM_41</th>\n",
       "      <th>PAGE_43</th>\n",
       "      <th>...</th>\n",
       "      <th>PAGE_1290</th>\n",
       "      <th>ON_SITE_SEARCH_TERM_59</th>\n",
       "      <th>PAGE_346</th>\n",
       "      <th>PAGE_398</th>\n",
       "      <th>PAGE_1504</th>\n",
       "      <th>PAGE_646</th>\n",
       "      <th>PAGE_1456</th>\n",
       "      <th>PAGE_712</th>\n",
       "      <th>PAGE_667</th>\n",
       "      <th>PAGE_1334</th>\n",
       "    </tr>\n",
       "  </thead>\n",
       "  <tbody>\n",
       "    <tr>\n",
       "      <td>0</td>\n",
       "      <td>0</td>\n",
       "      <td>0</td>\n",
       "      <td>0</td>\n",
       "      <td>0</td>\n",
       "      <td>0</td>\n",
       "      <td>0</td>\n",
       "      <td>0</td>\n",
       "      <td>0</td>\n",
       "      <td>0</td>\n",
       "      <td>2</td>\n",
       "      <td>...</td>\n",
       "      <td>0</td>\n",
       "      <td>0</td>\n",
       "      <td>0</td>\n",
       "      <td>0</td>\n",
       "      <td>0</td>\n",
       "      <td>0</td>\n",
       "      <td>0</td>\n",
       "      <td>0</td>\n",
       "      <td>0</td>\n",
       "      <td>0</td>\n",
       "    </tr>\n",
       "    <tr>\n",
       "      <td>1</td>\n",
       "      <td>0</td>\n",
       "      <td>0</td>\n",
       "      <td>0</td>\n",
       "      <td>0</td>\n",
       "      <td>0</td>\n",
       "      <td>0</td>\n",
       "      <td>0</td>\n",
       "      <td>0</td>\n",
       "      <td>0</td>\n",
       "      <td>1</td>\n",
       "      <td>...</td>\n",
       "      <td>0</td>\n",
       "      <td>0</td>\n",
       "      <td>0</td>\n",
       "      <td>0</td>\n",
       "      <td>0</td>\n",
       "      <td>0</td>\n",
       "      <td>0</td>\n",
       "      <td>0</td>\n",
       "      <td>0</td>\n",
       "      <td>0</td>\n",
       "    </tr>\n",
       "    <tr>\n",
       "      <td>2</td>\n",
       "      <td>0</td>\n",
       "      <td>0</td>\n",
       "      <td>0</td>\n",
       "      <td>0</td>\n",
       "      <td>18</td>\n",
       "      <td>0</td>\n",
       "      <td>0</td>\n",
       "      <td>0</td>\n",
       "      <td>0</td>\n",
       "      <td>1</td>\n",
       "      <td>...</td>\n",
       "      <td>0</td>\n",
       "      <td>0</td>\n",
       "      <td>0</td>\n",
       "      <td>0</td>\n",
       "      <td>0</td>\n",
       "      <td>0</td>\n",
       "      <td>0</td>\n",
       "      <td>0</td>\n",
       "      <td>0</td>\n",
       "      <td>0</td>\n",
       "    </tr>\n",
       "    <tr>\n",
       "      <td>3</td>\n",
       "      <td>0</td>\n",
       "      <td>0</td>\n",
       "      <td>0</td>\n",
       "      <td>0</td>\n",
       "      <td>2</td>\n",
       "      <td>0</td>\n",
       "      <td>0</td>\n",
       "      <td>0</td>\n",
       "      <td>0</td>\n",
       "      <td>0</td>\n",
       "      <td>...</td>\n",
       "      <td>0</td>\n",
       "      <td>0</td>\n",
       "      <td>1</td>\n",
       "      <td>0</td>\n",
       "      <td>0</td>\n",
       "      <td>0</td>\n",
       "      <td>0</td>\n",
       "      <td>0</td>\n",
       "      <td>0</td>\n",
       "      <td>0</td>\n",
       "    </tr>\n",
       "    <tr>\n",
       "      <td>4</td>\n",
       "      <td>0</td>\n",
       "      <td>0</td>\n",
       "      <td>0</td>\n",
       "      <td>1</td>\n",
       "      <td>1</td>\n",
       "      <td>0</td>\n",
       "      <td>0</td>\n",
       "      <td>0</td>\n",
       "      <td>0</td>\n",
       "      <td>18</td>\n",
       "      <td>...</td>\n",
       "      <td>0</td>\n",
       "      <td>0</td>\n",
       "      <td>0</td>\n",
       "      <td>0</td>\n",
       "      <td>0</td>\n",
       "      <td>0</td>\n",
       "      <td>0</td>\n",
       "      <td>0</td>\n",
       "      <td>0</td>\n",
       "      <td>0</td>\n",
       "    </tr>\n",
       "  </tbody>\n",
       "</table>\n",
       "<p>5 rows × 2026 columns</p>\n",
       "</div>"
      ],
      "text/plain": [
       "   ON_SITE_SEARCH_TERM_124  PAGE_222  PAGE_1304  PAGE_405  \\\n",
       "0                        0         0          0         0   \n",
       "1                        0         0          0         0   \n",
       "2                        0         0          0         0   \n",
       "3                        0         0          0         0   \n",
       "4                        0         0          0         1   \n",
       "\n",
       "   CONTENT_CATEGORY_BOTTOM_11  PAGE_1256  PAGE_835  PAGE_1405  \\\n",
       "0                           0          0         0          0   \n",
       "1                           0          0         0          0   \n",
       "2                          18          0         0          0   \n",
       "3                           2          0         0          0   \n",
       "4                           1          0         0          0   \n",
       "\n",
       "   CONTENT_CATEGORY_BOTTOM_41  PAGE_43  ...  PAGE_1290  \\\n",
       "0                           0        2  ...          0   \n",
       "1                           0        1  ...          0   \n",
       "2                           0        1  ...          0   \n",
       "3                           0        0  ...          0   \n",
       "4                           0       18  ...          0   \n",
       "\n",
       "   ON_SITE_SEARCH_TERM_59  PAGE_346  PAGE_398  PAGE_1504  PAGE_646  PAGE_1456  \\\n",
       "0                       0         0         0          0         0          0   \n",
       "1                       0         0         0          0         0          0   \n",
       "2                       0         0         0          0         0          0   \n",
       "3                       0         1         0          0         0          0   \n",
       "4                       0         0         0          0         0          0   \n",
       "\n",
       "   PAGE_712  PAGE_667  PAGE_1334  \n",
       "0         0         0          0  \n",
       "1         0         0          0  \n",
       "2         0         0          0  \n",
       "3         0         0          0  \n",
       "4         0         0          0  \n",
       "\n",
       "[5 rows x 2026 columns]"
      ]
     },
     "execution_count": 90,
     "metadata": {},
     "output_type": "execute_result"
    }
   ],
   "source": [
    "X_test.head()"
   ]
  },
  {
   "cell_type": "code",
   "execution_count": 91,
   "metadata": {},
   "outputs": [
    {
     "data": {
      "text/plain": [
       "1818"
      ]
     },
     "execution_count": 91,
     "metadata": {},
     "output_type": "execute_result"
    }
   ],
   "source": [
    "cols = []\n",
    "found = 0\n",
    "for c in X_train.columns:\n",
    "    # print(c)\n",
    "    val = X_train[c].value_counts(normalize=True).values[0]\n",
    "    if val >= 0.90:\n",
    "        found += 1\n",
    "        # print(found)\n",
    "        cols.append(c)\n",
    "len(cols)"
   ]
  },
  {
   "cell_type": "code",
   "execution_count": 92,
   "metadata": {
    "collapsed": true
   },
   "outputs": [],
   "source": [
    "cols_to_keep = X_train.columns.difference(cols)"
   ]
  },
  {
   "cell_type": "code",
   "execution_count": 118,
   "metadata": {
    "collapsed": true
   },
   "outputs": [],
   "source": [
    "X_train = X_train[cols_to_keep]\n",
    "X_test = X_test[cols_to_keep]"
   ]
  },
  {
   "cell_type": "code",
   "execution_count": 119,
   "metadata": {
    "scrolled": true
   },
   "outputs": [
    {
     "data": {
      "text/plain": [
       "((11529, 208), (11529, 208))"
      ]
     },
     "execution_count": 119,
     "metadata": {},
     "output_type": "execute_result"
    }
   ],
   "source": [
    "X_train.shape, X_train.shape"
   ]
  },
  {
   "cell_type": "code",
   "execution_count": 95,
   "metadata": {
    "collapsed": true
   },
   "outputs": [],
   "source": [
    "import xgboost as xgb\n",
    "from sklearn.model_selection import train_test_split\n",
    "from sklearn.metrics import roc_auc_score"
   ]
  },
  {
   "cell_type": "code",
   "execution_count": 96,
   "metadata": {},
   "outputs": [],
   "source": [
    "XX_train, XX_valid, yy_train, yy_valid = train_test_split(X_train, y_train, test_size = 0.2, stratify = y_train, random_state=42, )\n",
    "\n",
    "\n"
   ]
  },
  {
   "cell_type": "code",
   "execution_count": 97,
   "metadata": {},
   "outputs": [],
   "source": [
    "ratio = y_train.value_counts()[0] / y_train.value_counts()[1]"
   ]
  },
  {
   "cell_type": "code",
   "execution_count": 98,
   "metadata": {},
   "outputs": [],
   "source": [
    "clf = xgb.XGBClassifier(max_depth = 2,\n",
    "                n_estimators=10000,\n",
    "                learning_rate=0.1, \n",
    "                # nthread=4,\n",
    "                subsample=0.8,\n",
    "                colsample_bytree=0.8,\n",
    "                #min_child_weight = 3,\n",
    "                #scale_pos_weight = ratio,\n",
    "                #reg_alpha=50,\n",
    "                #reg_lambda = 50,\n",
    "                seed=42)"
   ]
  },
  {
   "cell_type": "code",
   "execution_count": 99,
   "metadata": {
    "scrolled": true
   },
   "outputs": [
    {
     "name": "stdout",
     "output_type": "stream",
     "text": [
      "[0]\tvalidation_0-auc:0.78914\tvalidation_1-auc:0.793635\n",
      "Multiple eval metrics have been passed: 'validation_1-auc' will be used for early stopping.\n",
      "\n",
      "Will train until validation_1-auc hasn't improved in 50 rounds.\n",
      "[1]\tvalidation_0-auc:0.799522\tvalidation_1-auc:0.802818\n",
      "[2]\tvalidation_0-auc:0.826211\tvalidation_1-auc:0.840118\n",
      "[3]\tvalidation_0-auc:0.829845\tvalidation_1-auc:0.843835\n",
      "[4]\tvalidation_0-auc:0.837995\tvalidation_1-auc:0.848182\n",
      "[5]\tvalidation_0-auc:0.83831\tvalidation_1-auc:0.847745\n",
      "[6]\tvalidation_0-auc:0.837814\tvalidation_1-auc:0.848487\n",
      "[7]\tvalidation_0-auc:0.843889\tvalidation_1-auc:0.850918\n",
      "[8]\tvalidation_0-auc:0.845082\tvalidation_1-auc:0.852599\n",
      "[9]\tvalidation_0-auc:0.848647\tvalidation_1-auc:0.851074\n",
      "[10]\tvalidation_0-auc:0.853512\tvalidation_1-auc:0.85459\n",
      "[11]\tvalidation_0-auc:0.854663\tvalidation_1-auc:0.856143\n",
      "[12]\tvalidation_0-auc:0.855485\tvalidation_1-auc:0.855533\n",
      "[13]\tvalidation_0-auc:0.855402\tvalidation_1-auc:0.855556\n",
      "[14]\tvalidation_0-auc:0.85564\tvalidation_1-auc:0.856825\n",
      "[15]\tvalidation_0-auc:0.856062\tvalidation_1-auc:0.855991\n",
      "[16]\tvalidation_0-auc:0.856329\tvalidation_1-auc:0.855798\n",
      "[17]\tvalidation_0-auc:0.856476\tvalidation_1-auc:0.856238\n",
      "[18]\tvalidation_0-auc:0.858658\tvalidation_1-auc:0.860488\n",
      "[19]\tvalidation_0-auc:0.859343\tvalidation_1-auc:0.861057\n",
      "[20]\tvalidation_0-auc:0.859043\tvalidation_1-auc:0.860629\n",
      "[21]\tvalidation_0-auc:0.859057\tvalidation_1-auc:0.861167\n",
      "[22]\tvalidation_0-auc:0.859181\tvalidation_1-auc:0.860896\n",
      "[23]\tvalidation_0-auc:0.859093\tvalidation_1-auc:0.860784\n",
      "[24]\tvalidation_0-auc:0.858699\tvalidation_1-auc:0.860168\n",
      "[25]\tvalidation_0-auc:0.859667\tvalidation_1-auc:0.859061\n",
      "[26]\tvalidation_0-auc:0.859577\tvalidation_1-auc:0.859095\n",
      "[27]\tvalidation_0-auc:0.860231\tvalidation_1-auc:0.858914\n",
      "[28]\tvalidation_0-auc:0.86088\tvalidation_1-auc:0.858747\n",
      "[29]\tvalidation_0-auc:0.86148\tvalidation_1-auc:0.8589\n",
      "[30]\tvalidation_0-auc:0.861481\tvalidation_1-auc:0.85982\n",
      "[31]\tvalidation_0-auc:0.864924\tvalidation_1-auc:0.860528\n",
      "[32]\tvalidation_0-auc:0.865367\tvalidation_1-auc:0.860522\n",
      "[33]\tvalidation_0-auc:0.868986\tvalidation_1-auc:0.860836\n",
      "[34]\tvalidation_0-auc:0.869351\tvalidation_1-auc:0.859308\n",
      "[35]\tvalidation_0-auc:0.871651\tvalidation_1-auc:0.860384\n",
      "[36]\tvalidation_0-auc:0.873939\tvalidation_1-auc:0.862007\n",
      "[37]\tvalidation_0-auc:0.878157\tvalidation_1-auc:0.860724\n",
      "[38]\tvalidation_0-auc:0.878251\tvalidation_1-auc:0.861501\n",
      "[39]\tvalidation_0-auc:0.8788\tvalidation_1-auc:0.861213\n",
      "[40]\tvalidation_0-auc:0.87788\tvalidation_1-auc:0.863851\n",
      "[41]\tvalidation_0-auc:0.878199\tvalidation_1-auc:0.869928\n",
      "[42]\tvalidation_0-auc:0.881258\tvalidation_1-auc:0.865088\n",
      "[43]\tvalidation_0-auc:0.881296\tvalidation_1-auc:0.865152\n",
      "[44]\tvalidation_0-auc:0.881234\tvalidation_1-auc:0.87151\n",
      "[45]\tvalidation_0-auc:0.881194\tvalidation_1-auc:0.871038\n",
      "[46]\tvalidation_0-auc:0.881283\tvalidation_1-auc:0.871461\n",
      "[47]\tvalidation_0-auc:0.880074\tvalidation_1-auc:0.872575\n",
      "[48]\tvalidation_0-auc:0.880366\tvalidation_1-auc:0.87239\n",
      "[49]\tvalidation_0-auc:0.879373\tvalidation_1-auc:0.873524\n",
      "[50]\tvalidation_0-auc:0.880254\tvalidation_1-auc:0.873138\n",
      "[51]\tvalidation_0-auc:0.880582\tvalidation_1-auc:0.87281\n",
      "[52]\tvalidation_0-auc:0.880737\tvalidation_1-auc:0.872529\n",
      "[53]\tvalidation_0-auc:0.880782\tvalidation_1-auc:0.874456\n",
      "[54]\tvalidation_0-auc:0.880924\tvalidation_1-auc:0.874318\n",
      "[55]\tvalidation_0-auc:0.882505\tvalidation_1-auc:0.87378\n",
      "[56]\tvalidation_0-auc:0.883816\tvalidation_1-auc:0.874146\n",
      "[57]\tvalidation_0-auc:0.884858\tvalidation_1-auc:0.872517\n",
      "[58]\tvalidation_0-auc:0.886183\tvalidation_1-auc:0.872224\n",
      "[59]\tvalidation_0-auc:0.887684\tvalidation_1-auc:0.873374\n",
      "[60]\tvalidation_0-auc:0.888345\tvalidation_1-auc:0.873377\n",
      "[61]\tvalidation_0-auc:0.889022\tvalidation_1-auc:0.873487\n",
      "[62]\tvalidation_0-auc:0.890021\tvalidation_1-auc:0.875127\n",
      "[63]\tvalidation_0-auc:0.890082\tvalidation_1-auc:0.874022\n",
      "[64]\tvalidation_0-auc:0.891415\tvalidation_1-auc:0.874171\n",
      "[65]\tvalidation_0-auc:0.89175\tvalidation_1-auc:0.874402\n",
      "[66]\tvalidation_0-auc:0.892685\tvalidation_1-auc:0.873717\n",
      "[67]\tvalidation_0-auc:0.895063\tvalidation_1-auc:0.87477\n",
      "[68]\tvalidation_0-auc:0.895298\tvalidation_1-auc:0.874286\n",
      "[69]\tvalidation_0-auc:0.898001\tvalidation_1-auc:0.875224\n",
      "[70]\tvalidation_0-auc:0.898783\tvalidation_1-auc:0.876882\n",
      "[71]\tvalidation_0-auc:0.898628\tvalidation_1-auc:0.876439\n",
      "[72]\tvalidation_0-auc:0.899283\tvalidation_1-auc:0.876231\n",
      "[73]\tvalidation_0-auc:0.899569\tvalidation_1-auc:0.876105\n",
      "[74]\tvalidation_0-auc:0.899938\tvalidation_1-auc:0.875742\n",
      "[75]\tvalidation_0-auc:0.900624\tvalidation_1-auc:0.876157\n",
      "[76]\tvalidation_0-auc:0.900898\tvalidation_1-auc:0.876542\n",
      "[77]\tvalidation_0-auc:0.902342\tvalidation_1-auc:0.876928\n",
      "[78]\tvalidation_0-auc:0.902404\tvalidation_1-auc:0.87668\n",
      "[79]\tvalidation_0-auc:0.902959\tvalidation_1-auc:0.878136\n",
      "[80]\tvalidation_0-auc:0.903715\tvalidation_1-auc:0.879488\n",
      "[81]\tvalidation_0-auc:0.904112\tvalidation_1-auc:0.879425\n",
      "[82]\tvalidation_0-auc:0.90494\tvalidation_1-auc:0.879465\n",
      "[83]\tvalidation_0-auc:0.90559\tvalidation_1-auc:0.879011\n",
      "[84]\tvalidation_0-auc:0.905887\tvalidation_1-auc:0.87904\n",
      "[85]\tvalidation_0-auc:0.906164\tvalidation_1-auc:0.878947\n",
      "[86]\tvalidation_0-auc:0.906324\tvalidation_1-auc:0.878878\n",
      "[87]\tvalidation_0-auc:0.906548\tvalidation_1-auc:0.878855\n",
      "[88]\tvalidation_0-auc:0.907093\tvalidation_1-auc:0.878907\n",
      "[89]\tvalidation_0-auc:0.908044\tvalidation_1-auc:0.879552\n",
      "[90]\tvalidation_0-auc:0.908248\tvalidation_1-auc:0.879667\n",
      "[91]\tvalidation_0-auc:0.908531\tvalidation_1-auc:0.879701\n",
      "[92]\tvalidation_0-auc:0.908776\tvalidation_1-auc:0.880679\n",
      "[93]\tvalidation_0-auc:0.908996\tvalidation_1-auc:0.880363\n",
      "[94]\tvalidation_0-auc:0.909298\tvalidation_1-auc:0.880127\n",
      "[95]\tvalidation_0-auc:0.909646\tvalidation_1-auc:0.880064\n",
      "[96]\tvalidation_0-auc:0.910106\tvalidation_1-auc:0.880674\n",
      "[97]\tvalidation_0-auc:0.910619\tvalidation_1-auc:0.880409\n",
      "[98]\tvalidation_0-auc:0.911307\tvalidation_1-auc:0.879799\n",
      "[99]\tvalidation_0-auc:0.911794\tvalidation_1-auc:0.880265\n",
      "[100]\tvalidation_0-auc:0.912064\tvalidation_1-auc:0.881238\n",
      "[101]\tvalidation_0-auc:0.912912\tvalidation_1-auc:0.881865\n",
      "[102]\tvalidation_0-auc:0.913544\tvalidation_1-auc:0.88194\n",
      "[103]\tvalidation_0-auc:0.914148\tvalidation_1-auc:0.8816\n",
      "[104]\tvalidation_0-auc:0.914622\tvalidation_1-auc:0.881882\n",
      "[105]\tvalidation_0-auc:0.914945\tvalidation_1-auc:0.881163\n",
      "[106]\tvalidation_0-auc:0.915155\tvalidation_1-auc:0.880743\n",
      "[107]\tvalidation_0-auc:0.915484\tvalidation_1-auc:0.880668\n",
      "[108]\tvalidation_0-auc:0.915417\tvalidation_1-auc:0.880731\n",
      "[109]\tvalidation_0-auc:0.916241\tvalidation_1-auc:0.880823\n",
      "[110]\tvalidation_0-auc:0.916739\tvalidation_1-auc:0.881709\n",
      "[111]\tvalidation_0-auc:0.917109\tvalidation_1-auc:0.881813\n",
      "[112]\tvalidation_0-auc:0.917576\tvalidation_1-auc:0.88164\n",
      "[113]\tvalidation_0-auc:0.917641\tvalidation_1-auc:0.881451\n",
      "[114]\tvalidation_0-auc:0.917958\tvalidation_1-auc:0.881134\n",
      "[115]\tvalidation_0-auc:0.918414\tvalidation_1-auc:0.881318\n",
      "[116]\tvalidation_0-auc:0.918698\tvalidation_1-auc:0.881341\n",
      "[117]\tvalidation_0-auc:0.919129\tvalidation_1-auc:0.881111\n",
      "[118]\tvalidation_0-auc:0.919424\tvalidation_1-auc:0.881209\n",
      "[119]\tvalidation_0-auc:0.919459\tvalidation_1-auc:0.881963\n",
      "[120]\tvalidation_0-auc:0.919939\tvalidation_1-auc:0.881957\n",
      "[121]\tvalidation_0-auc:0.921048\tvalidation_1-auc:0.880984\n",
      "[122]\tvalidation_0-auc:0.921354\tvalidation_1-auc:0.881048\n",
      "[123]\tvalidation_0-auc:0.921961\tvalidation_1-auc:0.881048\n",
      "[124]\tvalidation_0-auc:0.922125\tvalidation_1-auc:0.881007\n",
      "[125]\tvalidation_0-auc:0.922287\tvalidation_1-auc:0.881284\n",
      "[126]\tvalidation_0-auc:0.922432\tvalidation_1-auc:0.881174\n",
      "[127]\tvalidation_0-auc:0.922508\tvalidation_1-auc:0.881169\n",
      "[128]\tvalidation_0-auc:0.923023\tvalidation_1-auc:0.881071\n",
      "[129]\tvalidation_0-auc:0.923392\tvalidation_1-auc:0.881169\n",
      "[130]\tvalidation_0-auc:0.924562\tvalidation_1-auc:0.880409\n",
      "[131]\tvalidation_0-auc:0.924763\tvalidation_1-auc:0.880018\n",
      "[132]\tvalidation_0-auc:0.924983\tvalidation_1-auc:0.880196\n",
      "[133]\tvalidation_0-auc:0.925069\tvalidation_1-auc:0.880777\n",
      "[134]\tvalidation_0-auc:0.925083\tvalidation_1-auc:0.880662\n",
      "[135]\tvalidation_0-auc:0.925866\tvalidation_1-auc:0.880564\n",
      "[136]\tvalidation_0-auc:0.926044\tvalidation_1-auc:0.880173\n",
      "[137]\tvalidation_0-auc:0.925965\tvalidation_1-auc:0.880467\n",
      "[138]\tvalidation_0-auc:0.926226\tvalidation_1-auc:0.88034\n",
      "[139]\tvalidation_0-auc:0.92694\tvalidation_1-auc:0.880012\n",
      "[140]\tvalidation_0-auc:0.926853\tvalidation_1-auc:0.880576\n"
     ]
    },
    {
     "name": "stdout",
     "output_type": "stream",
     "text": [
      "[141]\tvalidation_0-auc:0.927059\tvalidation_1-auc:0.880288\n",
      "[142]\tvalidation_0-auc:0.926604\tvalidation_1-auc:0.880277\n",
      "[143]\tvalidation_0-auc:0.927091\tvalidation_1-auc:0.879897\n",
      "[144]\tvalidation_0-auc:0.927268\tvalidation_1-auc:0.87973\n",
      "[145]\tvalidation_0-auc:0.927455\tvalidation_1-auc:0.879483\n",
      "[146]\tvalidation_0-auc:0.92739\tvalidation_1-auc:0.879966\n",
      "[147]\tvalidation_0-auc:0.927612\tvalidation_1-auc:0.87935\n",
      "[148]\tvalidation_0-auc:0.928225\tvalidation_1-auc:0.879414\n",
      "[149]\tvalidation_0-auc:0.928358\tvalidation_1-auc:0.879189\n",
      "[150]\tvalidation_0-auc:0.928392\tvalidation_1-auc:0.879172\n",
      "[151]\tvalidation_0-auc:0.928657\tvalidation_1-auc:0.879655\n",
      "[152]\tvalidation_0-auc:0.929298\tvalidation_1-auc:0.879419\n",
      "[153]\tvalidation_0-auc:0.929892\tvalidation_1-auc:0.879178\n",
      "[154]\tvalidation_0-auc:0.93004\tvalidation_1-auc:0.879086\n",
      "[155]\tvalidation_0-auc:0.930324\tvalidation_1-auc:0.878919\n",
      "[156]\tvalidation_0-auc:0.931369\tvalidation_1-auc:0.879494\n",
      "[157]\tvalidation_0-auc:0.931695\tvalidation_1-auc:0.879908\n",
      "[158]\tvalidation_0-auc:0.932083\tvalidation_1-auc:0.881612\n",
      "[159]\tvalidation_0-auc:0.932695\tvalidation_1-auc:0.88061\n",
      "[160]\tvalidation_0-auc:0.932693\tvalidation_1-auc:0.880415\n",
      "[161]\tvalidation_0-auc:0.933071\tvalidation_1-auc:0.879943\n",
      "[162]\tvalidation_0-auc:0.933031\tvalidation_1-auc:0.879908\n",
      "[163]\tvalidation_0-auc:0.933298\tvalidation_1-auc:0.879206\n",
      "[164]\tvalidation_0-auc:0.933394\tvalidation_1-auc:0.879483\n",
      "[165]\tvalidation_0-auc:0.93346\tvalidation_1-auc:0.879229\n",
      "[166]\tvalidation_0-auc:0.933581\tvalidation_1-auc:0.878953\n",
      "[167]\tvalidation_0-auc:0.934088\tvalidation_1-auc:0.879218\n",
      "[168]\tvalidation_0-auc:0.934282\tvalidation_1-auc:0.879229\n",
      "[169]\tvalidation_0-auc:0.934225\tvalidation_1-auc:0.878481\n",
      "Stopping. Best iteration:\n",
      "[119]\tvalidation_0-auc:0.919459\tvalidation_1-auc:0.881963\n",
      "\n"
     ]
    },
    {
     "data": {
      "text/plain": [
       "XGBClassifier(base_score=0.5, booster='gbtree', colsample_bylevel=1,\n",
       "              colsample_bytree=0.8, gamma=0, learning_rate=0.1,\n",
       "              max_delta_step=0, max_depth=2, min_child_weight=1, missing=None,\n",
       "              n_estimators=10000, n_jobs=1, nthread=None,\n",
       "              objective='binary:logistic', random_state=0, reg_alpha=0,\n",
       "              reg_lambda=1, scale_pos_weight=1, seed=42, silent=True,\n",
       "              subsample=0.8)"
      ]
     },
     "execution_count": 99,
     "metadata": {},
     "output_type": "execute_result"
    }
   ],
   "source": [
    "clf.fit(XX_train, yy_train, early_stopping_rounds=50, eval_metric=\"auc\",\n",
    "        eval_set=[(XX_train, yy_train), (XX_valid, yy_valid)])"
   ]
  },
  {
   "cell_type": "code",
   "execution_count": 133,
   "metadata": {},
   "outputs": [],
   "source": [
    "pred = clf.predict(X_test)\n",
    "\n",
    "pred = pd.Series(pred, index=X_test.index)"
   ]
  },
  {
   "cell_type": "code",
   "execution_count": 134,
   "metadata": {
    "collapsed": true
   },
   "outputs": [],
   "source": [
    "pred = pd.DataFrame({'USER_ID': test_user, 'SCORE': pred})"
   ]
  },
  {
   "cell_type": "code",
   "execution_count": 135,
   "metadata": {},
   "outputs": [],
   "source": [
    "pred.to_csv(\"submit-counts-data-2019-09-05.zip\", compression=\"zip\", index=False)"
   ]
  },
  {
   "cell_type": "code",
   "execution_count": null,
   "metadata": {
    "collapsed": true
   },
   "outputs": [],
   "source": []
  },
  {
   "cell_type": "code",
   "execution_count": 100,
   "metadata": {
    "scrolled": true
   },
   "outputs": [
    {
     "data": {
      "image/png": "[encoded data removed]",
      "text/plain": [
       "<Figure size 1440x2160 with 1 Axes>"
      ]
     },
     "metadata": {
      "needs_background": "light"
     },
     "output_type": "display_data"
    }
   ],
   "source": [
    "feature_imp = pd.DataFrame(sorted(zip(clf.feature_importances_,X_train.columns)), columns=['Value','Feature'])\n",
    "\n",
    "plt.figure(figsize=(20, 30))\n",
    "sns.barplot(x=\"Value\", y=\"Feature\", data=feature_imp.sort_values(by=\"Value\", ascending=False).head(50))\n",
    "plt.title('LightGBM Features')\n",
    "plt.show()"
   ]
  },
  {
   "cell_type": "code",
   "execution_count": 33,
   "metadata": {
    "collapsed": true
   },
   "outputs": [],
   "source": [
    "from sklearn.model_selection import learning_curve"
   ]
  },
  {
   "cell_type": "code",
   "execution_count": 35,
   "metadata": {},
   "outputs": [],
   "source": [
    "train_sizes, train_scores, test_scores = learning_curve(clf, \n",
    "                                               X_train, y_train, cv=3, scoring='roc_auc', n_jobs=-1, \n",
    "                                               # 50 different sizes of the training set\n",
    "                                               train_sizes=np.linspace(0.01, 1.0, 2))"
   ]
  },
  {
   "cell_type": "code",
   "execution_count": 36,
   "metadata": {
    "scrolled": true
   },
   "outputs": [
    {
     "data": {
      "image/png": "[encoded data removed]",
      "text/plain": [
       "<Figure size 864x864 with 1 Axes>"
      ]
     },
     "metadata": {
      "needs_background": "light"
     },
     "output_type": "display_data"
    },
    {
     "ename": "NameError",
     "evalue": "name 'Snippet_188' is not defined",
     "output_type": "error",
     "traceback": [
      "\u001b[0;31m---------------------------------------------------------------------------\u001b[0m",
      "\u001b[0;31mNameError\u001b[0m                                 Traceback (most recent call last)",
      "\u001b[0;32m<ipython-input-36-d64b7d707df1>\u001b[0m in \u001b[0;36m<module>\u001b[0;34m\u001b[0m\n\u001b[1;32m     20\u001b[0m \u001b[0mplt\u001b[0m\u001b[0;34m.\u001b[0m\u001b[0mxlabel\u001b[0m\u001b[0;34m(\u001b[0m\u001b[0;34m\"Training Set Size\"\u001b[0m\u001b[0;34m)\u001b[0m\u001b[0;34m,\u001b[0m \u001b[0mplt\u001b[0m\u001b[0;34m.\u001b[0m\u001b[0mylabel\u001b[0m\u001b[0;34m(\u001b[0m\u001b[0;34m\"Accuracy Score\"\u001b[0m\u001b[0;34m)\u001b[0m\u001b[0;34m,\u001b[0m \u001b[0mplt\u001b[0m\u001b[0;34m.\u001b[0m\u001b[0mlegend\u001b[0m\u001b[0;34m(\u001b[0m\u001b[0mloc\u001b[0m\u001b[0;34m=\u001b[0m\u001b[0;34m\"best\"\u001b[0m\u001b[0;34m)\u001b[0m\u001b[0;34m\u001b[0m\u001b[0;34m\u001b[0m\u001b[0m\n\u001b[1;32m     21\u001b[0m \u001b[0mplt\u001b[0m\u001b[0;34m.\u001b[0m\u001b[0mtight_layout\u001b[0m\u001b[0;34m(\u001b[0m\u001b[0;34m)\u001b[0m\u001b[0;34m;\u001b[0m \u001b[0mplt\u001b[0m\u001b[0;34m.\u001b[0m\u001b[0mshow\u001b[0m\u001b[0;34m(\u001b[0m\u001b[0;34m)\u001b[0m\u001b[0;34m\u001b[0m\u001b[0;34m\u001b[0m\u001b[0m\n\u001b[0;32m---> 22\u001b[0;31m \u001b[0mSnippet_188\u001b[0m\u001b[0;34m(\u001b[0m\u001b[0;34m)\u001b[0m\u001b[0;34m\u001b[0m\u001b[0;34m\u001b[0m\u001b[0m\n\u001b[0m",
      "\u001b[0;31mNameError\u001b[0m: name 'Snippet_188' is not defined"
     ]
    }
   ],
   "source": [
    "# Create means and standard deviations of training set scores\n",
    "train_mean = np.mean(train_scores, axis=1)\n",
    "train_std = np.std(train_scores, axis=1)\n",
    "\n",
    "# Create means and standard deviations of test set scores\n",
    "test_mean = np.mean(test_scores, axis=1)\n",
    "test_std = np.std(test_scores, axis=1)\n",
    "\n",
    "# Draw lines\n",
    "plt.subplots(figsize=(12,12))\n",
    "plt.plot(train_sizes, train_mean, '--', color=\"#111111\",  label=\"Training score\")\n",
    "plt.plot(train_sizes, test_mean, color=\"#111111\", label=\"Cross-validation score\")\n",
    "\n",
    "# Draw bands\n",
    "plt.fill_between(train_sizes, train_mean - train_std, train_mean + train_std, color=\"#DDDDDD\")\n",
    "plt.fill_between(train_sizes, test_mean - test_std, test_mean + test_std, color=\"#DDDDDD\")\n",
    "\n",
    "# Create plot\n",
    "plt.title(\"Learning Curve\")\n",
    "plt.xlabel(\"Training Set Size\"), plt.ylabel(\"Accuracy Score\"), plt.legend(loc=\"best\")\n",
    "plt.tight_layout(); plt.show()"
   ]
  },
  {
   "cell_type": "code",
   "execution_count": null,
   "metadata": {
    "collapsed": true
   },
   "outputs": [],
   "source": []
  },
  {
   "cell_type": "markdown",
   "metadata": {},
   "source": [
    "### Tune hyperparameter"
   ]
  },
  {
   "cell_type": "code",
   "execution_count": 88,
   "metadata": {
    "collapsed": true
   },
   "outputs": [],
   "source": [
    "from sklearn.model_selection import StratifiedKFold, RandomizedSearchCV"
   ]
  },
  {
   "cell_type": "code",
   "execution_count": 90,
   "metadata": {
    "collapsed": true
   },
   "outputs": [],
   "source": [
    "params = {\n",
    "        'min_child_weight': [1, 5, 10],\n",
    "        'gamma': [0.5, 1, 1.5, 2, 5],\n",
    "        'subsample': [0.6, 0.8, 1.0],\n",
    "        'colsample_bytree': [0.6, 0.8, 1.0],\n",
    "        'max_depth': [3, 4, 5]\n",
    "        }"
   ]
  },
  {
   "cell_type": "code",
   "execution_count": 91,
   "metadata": {
    "collapsed": true
   },
   "outputs": [],
   "source": [
    "xgb = xgb.XGBClassifier(learning_rate=0.1, n_estimators=56, objective='binary:logistic', nthread=1, random_state=42)\n"
   ]
  },
  {
   "cell_type": "code",
   "execution_count": 92,
   "metadata": {},
   "outputs": [],
   "source": [
    "folds = 5\n",
    "param_comb = 10\n",
    "\n",
    "skf = StratifiedKFold(n_splits=folds, shuffle = True, random_state = 1001)\n",
    "random_search = RandomizedSearchCV(xgb, \n",
    "                                   param_distributions=params, \n",
    "                                   n_iter=param_comb, \n",
    "                                   scoring='roc_auc', \n",
    "                                   n_jobs=4, \n",
    "                                   cv=skf.split(X_train,y_train), \n",
    "                                   verbose=3, \n",
    "                                   random_state=1001)"
   ]
  },
  {
   "cell_type": "code",
   "execution_count": 93,
   "metadata": {
    "scrolled": true
   },
   "outputs": [
    {
     "name": "stdout",
     "output_type": "stream",
     "text": [
      "Fitting 5 folds for each of 10 candidates, totalling 50 fits\n"
     ]
    },
    {
     "name": "stderr",
     "output_type": "stream",
     "text": [
      "[Parallel(n_jobs=4)]: Using backend LokyBackend with 4 concurrent workers.\n",
      "[Parallel(n_jobs=4)]: Done  24 tasks      | elapsed:  1.9min\n",
      "[Parallel(n_jobs=4)]: Done  50 out of  50 | elapsed:  3.4min finished\n"
     ]
    },
    {
     "data": {
      "text/plain": [
       "RandomizedSearchCV(cv=<generator object _BaseKFold.split at 0x1a21b1e0c0>,\n",
       "                   error_score='raise-deprecating',\n",
       "                   estimator=XGBClassifier(base_score=0.5, booster='gbtree',\n",
       "                                           colsample_bylevel=1,\n",
       "                                           colsample_bytree=1, gamma=0,\n",
       "                                           learning_rate=0.1, max_delta_step=0,\n",
       "                                           max_depth=3, min_child_weight=1,\n",
       "                                           missing=None, n_estimators=56,\n",
       "                                           n_jobs=1, nthread=1,\n",
       "                                           objective='binary:logistic',\n",
       "                                           ran...\n",
       "                                           reg_lambda=1, scale_pos_weight=1,\n",
       "                                           seed=None, silent=True,\n",
       "                                           subsample=1),\n",
       "                   iid='warn', n_iter=10, n_jobs=4,\n",
       "                   param_distributions={'colsample_bytree': [0.6, 0.8, 1.0],\n",
       "                                        'gamma': [0.5, 1, 1.5, 2, 5],\n",
       "                                        'max_depth': [3, 4, 5],\n",
       "                                        'min_child_weight': [1, 5, 10],\n",
       "                                        'subsample': [0.6, 0.8, 1.0]},\n",
       "                   pre_dispatch='2*n_jobs', random_state=1001, refit=True,\n",
       "                   return_train_score=False, scoring='roc_auc', verbose=3)"
      ]
     },
     "execution_count": 93,
     "metadata": {},
     "output_type": "execute_result"
    }
   ],
   "source": [
    "random_search.fit(X_train, y_train)"
   ]
  },
  {
   "cell_type": "code",
   "execution_count": 94,
   "metadata": {},
   "outputs": [
    {
     "data": {
      "text/plain": [
       "{'subsample': 0.8,\n",
       " 'min_child_weight': 1,\n",
       " 'max_depth': 3,\n",
       " 'gamma': 2,\n",
       " 'colsample_bytree': 0.8}"
      ]
     },
     "execution_count": 94,
     "metadata": {},
     "output_type": "execute_result"
    }
   ],
   "source": [
    "random_search.best_params_"
   ]
  },
  {
   "cell_type": "code",
   "execution_count": 95,
   "metadata": {},
   "outputs": [
    {
     "data": {
      "text/plain": [
       "0.8525890699092249"
      ]
     },
     "execution_count": 95,
     "metadata": {},
     "output_type": "execute_result"
    }
   ],
   "source": [
    "random_search.best_score_"
   ]
  },
  {
   "cell_type": "code",
   "execution_count": null,
   "metadata": {
    "collapsed": true
   },
   "outputs": [],
   "source": []
  },
  {
   "cell_type": "markdown",
   "metadata": {},
   "source": [
    "### XGB"
   ]
  },
  {
   "cell_type": "code",
   "execution_count": 79,
   "metadata": {},
   "outputs": [],
   "source": [
    "def create_feature_map(features):\n",
    "    outfile = open('xgb.fmap', 'w')\n",
    "    for i, feat in enumerate(features):\n",
    "        outfile.write('{0}\\t{1}\\tq\\n'.format(i, feat))\n",
    "    outfile.close()\n",
    "\n",
    "\n",
    "def runXGB(train_X, train_y, test_X, test_y=None, test_X2=None,feature_names=None):\n",
    "    \n",
    "    params = {}\n",
    "    params[\"objective\"] = \"binary:logistic\"\n",
    "    params['eval_metric'] = 'auc'\n",
    "    params[\"eta\"] = 0.1\n",
    "    # . params[\"min_child_weight\"] = 1 \n",
    "    params[\"subsample\"] = 0.8\n",
    "    params[\"colsample_bytree\"] = 0.8\n",
    "    params[\"silent\"] = 1\n",
    "    params[\"max_depth\"] = 2\n",
    "    params[\"seed\"] = 42\n",
    "    # params[\"gamma\"] = 0.5\n",
    "    num_rounds = 10000\n",
    "\n",
    "    plst = list(params.items())\n",
    "    xgtrain = xgb.DMatrix(train_X, label=train_y)\n",
    "    xg_test = xgb.DMatrix(test_X2)\n",
    "\n",
    "    if test_y is not None:\n",
    "        xgtest = xgb.DMatrix(test_X, label=test_y)\n",
    "        watchlist = [(xgtrain, 'train'), (xgtest, 'test')]\n",
    "        model = xgb.train(plst, xgtrain, num_rounds, watchlist, early_stopping_rounds=50)\n",
    "    else:\n",
    "        xgtest = xgb.DMatrix(test_X)\n",
    "        model = xgb.train(plst, xgtrain, num_rounds)\n",
    "\n",
    "\n",
    "    if feature_names:\n",
    "        create_feature_map(feature_names)\n",
    "        importance = model.get_fscore(fmap='xgb.fmap')\n",
    "        importance = sorted(importance.items(), key=lambda x: x[1], reverse=True)\n",
    "        imp_df = pd.DataFrame(importance, columns=['feature', 'fscore'])\n",
    "        imp_df['fscore'] = imp_df['fscore'] / imp_df['fscore'].sum()\n",
    "        imp_df.to_csv(\"imp_feat.txt\", index=False)\n",
    "    \n",
    "    pred_test_y = model.predict(xgtest, ntree_limit=model.best_iteration)\n",
    "    pred_test_y2 = model.predict(xg_test, ntree_limit=model.best_iteration)\n",
    "    print('done')\n",
    "    loss= 0\n",
    "    if test_y is not None:\n",
    "        loss = roc_auc_score(test_y, pred_test_y)\n",
    "        print('roc:', loss)\n",
    "        return pred_test_y, loss, pred_test_y2\n",
    "    else:\n",
    "        return pred_test_y, pred_test_y2"
   ]
  },
  {
   "cell_type": "code",
   "execution_count": 80,
   "metadata": {
    "collapsed": true
   },
   "outputs": [],
   "source": [
    "from sklearn.model_selection import KFold, StratifiedKFold"
   ]
  },
  {
   "cell_type": "code",
   "execution_count": 82,
   "metadata": {},
   "outputs": [
    {
     "data": {
      "text/plain": [
       "0.8283140954341335"
      ]
     },
     "execution_count": 82,
     "metadata": {},
     "output_type": "execute_result"
    }
   ],
   "source": [
    "roc_auc_score(y_train, pred_val_full)"
   ]
  },
  {
   "cell_type": "code",
   "execution_count": 84,
   "metadata": {
    "scrolled": true
   },
   "outputs": [
    {
     "name": "stdout",
     "output_type": "stream",
     "text": [
      "Model building..\n"
     ]
    },
    {
     "name": "stderr",
     "output_type": "stream",
     "text": [
      "/anaconda3/envs/pyenv/lib/python3.7/site-packages/xgboost/core.py:587: FutureWarning: Series.base is deprecated and will be removed in a future version\n",
      "  if getattr(data, 'base', None) is not None and \\\n"
     ]
    },
    {
     "name": "stdout",
     "output_type": "stream",
     "text": [
      "[0]\ttrain-auc:0.740714\ttest-auc:0.743307\n",
      "Multiple eval metrics have been passed: 'test-auc' will be used for early stopping.\n",
      "\n",
      "Will train until test-auc hasn't improved in 50 rounds.\n",
      "[1]\ttrain-auc:0.793092\ttest-auc:0.789722\n",
      "[2]\ttrain-auc:0.829021\ttest-auc:0.81654\n",
      "[3]\ttrain-auc:0.82917\ttest-auc:0.819886\n",
      "[4]\ttrain-auc:0.83859\ttest-auc:0.823518\n",
      "[5]\ttrain-auc:0.839444\ttest-auc:0.823774\n",
      "[6]\ttrain-auc:0.840979\ttest-auc:0.822247\n",
      "[7]\ttrain-auc:0.843825\ttest-auc:0.827203\n",
      "[8]\ttrain-auc:0.845592\ttest-auc:0.828939\n",
      "[9]\ttrain-auc:0.84592\ttest-auc:0.831266\n",
      "[10]\ttrain-auc:0.857205\ttest-auc:0.83268\n",
      "[11]\ttrain-auc:0.860388\ttest-auc:0.838912\n",
      "[12]\ttrain-auc:0.859352\ttest-auc:0.838692\n",
      "[13]\ttrain-auc:0.860686\ttest-auc:0.845305\n",
      "[14]\ttrain-auc:0.86131\ttest-auc:0.845286\n",
      "[15]\ttrain-auc:0.862507\ttest-auc:0.846404\n",
      "[16]\ttrain-auc:0.865021\ttest-auc:0.849102\n",
      "[17]\ttrain-auc:0.865811\ttest-auc:0.849585\n",
      "[18]\ttrain-auc:0.867416\ttest-auc:0.8491\n",
      "[19]\ttrain-auc:0.868552\ttest-auc:0.848185\n",
      "[20]\ttrain-auc:0.868819\ttest-auc:0.847757\n",
      "[21]\ttrain-auc:0.868084\ttest-auc:0.847497\n",
      "[22]\ttrain-auc:0.869045\ttest-auc:0.847186\n",
      "[23]\ttrain-auc:0.869079\ttest-auc:0.846985\n",
      "[24]\ttrain-auc:0.870754\ttest-auc:0.850662\n",
      "[25]\ttrain-auc:0.87228\ttest-auc:0.850092\n",
      "[26]\ttrain-auc:0.875439\ttest-auc:0.852909\n",
      "[27]\ttrain-auc:0.877012\ttest-auc:0.854685\n",
      "[28]\ttrain-auc:0.877993\ttest-auc:0.854212\n",
      "[29]\ttrain-auc:0.878723\ttest-auc:0.853223\n",
      "[30]\ttrain-auc:0.880081\ttest-auc:0.852739\n",
      "[31]\ttrain-auc:0.880301\ttest-auc:0.853622\n",
      "[32]\ttrain-auc:0.880881\ttest-auc:0.853391\n",
      "[33]\ttrain-auc:0.881359\ttest-auc:0.853047\n",
      "[34]\ttrain-auc:0.88128\ttest-auc:0.85306\n",
      "[35]\ttrain-auc:0.88238\ttest-auc:0.852397\n",
      "[36]\ttrain-auc:0.882337\ttest-auc:0.852793\n",
      "[37]\ttrain-auc:0.885757\ttest-auc:0.851304\n",
      "[38]\ttrain-auc:0.886527\ttest-auc:0.851603\n",
      "[39]\ttrain-auc:0.886889\ttest-auc:0.851481\n",
      "[40]\ttrain-auc:0.887066\ttest-auc:0.851151\n",
      "[41]\ttrain-auc:0.886828\ttest-auc:0.851238\n",
      "[42]\ttrain-auc:0.888451\ttest-auc:0.852364\n",
      "[43]\ttrain-auc:0.889993\ttest-auc:0.85307\n",
      "[44]\ttrain-auc:0.891802\ttest-auc:0.85249\n",
      "[45]\ttrain-auc:0.892629\ttest-auc:0.853247\n",
      "[46]\ttrain-auc:0.894478\ttest-auc:0.854814\n",
      "[47]\ttrain-auc:0.89578\ttest-auc:0.85461\n",
      "[48]\ttrain-auc:0.89593\ttest-auc:0.855111\n",
      "[49]\ttrain-auc:0.89693\ttest-auc:0.854194\n",
      "[50]\ttrain-auc:0.898576\ttest-auc:0.854655\n",
      "[51]\ttrain-auc:0.900033\ttest-auc:0.854988\n",
      "[52]\ttrain-auc:0.90055\ttest-auc:0.855142\n",
      "[53]\ttrain-auc:0.901334\ttest-auc:0.855199\n",
      "[54]\ttrain-auc:0.901709\ttest-auc:0.854844\n",
      "[55]\ttrain-auc:0.903361\ttest-auc:0.858031\n",
      "[56]\ttrain-auc:0.905002\ttest-auc:0.857765\n",
      "[57]\ttrain-auc:0.905347\ttest-auc:0.857837\n",
      "[58]\ttrain-auc:0.905786\ttest-auc:0.858293\n",
      "[59]\ttrain-auc:0.906793\ttest-auc:0.858632\n",
      "[60]\ttrain-auc:0.907543\ttest-auc:0.857721\n",
      "[61]\ttrain-auc:0.908211\ttest-auc:0.858061\n",
      "[62]\ttrain-auc:0.909166\ttest-auc:0.858649\n",
      "[63]\ttrain-auc:0.909796\ttest-auc:0.858345\n",
      "[64]\ttrain-auc:0.910902\ttest-auc:0.857932\n",
      "[65]\ttrain-auc:0.911248\ttest-auc:0.857026\n",
      "[66]\ttrain-auc:0.912497\ttest-auc:0.857811\n",
      "[67]\ttrain-auc:0.91264\ttest-auc:0.858334\n",
      "[68]\ttrain-auc:0.913491\ttest-auc:0.85802\n",
      "[69]\ttrain-auc:0.914463\ttest-auc:0.857539\n",
      "[70]\ttrain-auc:0.915401\ttest-auc:0.857775\n",
      "[71]\ttrain-auc:0.915952\ttest-auc:0.85756\n",
      "[72]\ttrain-auc:0.916401\ttest-auc:0.857964\n",
      "[73]\ttrain-auc:0.91668\ttest-auc:0.857135\n",
      "[74]\ttrain-auc:0.917198\ttest-auc:0.856967\n",
      "[75]\ttrain-auc:0.917774\ttest-auc:0.857158\n",
      "[76]\ttrain-auc:0.918748\ttest-auc:0.855733\n",
      "[77]\ttrain-auc:0.919457\ttest-auc:0.855217\n",
      "[78]\ttrain-auc:0.920058\ttest-auc:0.854465\n",
      "[79]\ttrain-auc:0.92072\ttest-auc:0.854341\n",
      "[80]\ttrain-auc:0.921437\ttest-auc:0.85525\n",
      "[81]\ttrain-auc:0.92238\ttest-auc:0.856037\n",
      "[82]\ttrain-auc:0.923198\ttest-auc:0.855818\n",
      "[83]\ttrain-auc:0.923624\ttest-auc:0.854797\n",
      "[84]\ttrain-auc:0.924419\ttest-auc:0.854567\n",
      "[85]\ttrain-auc:0.924818\ttest-auc:0.854768\n",
      "[86]\ttrain-auc:0.92487\ttest-auc:0.854318\n",
      "[87]\ttrain-auc:0.925213\ttest-auc:0.854397\n",
      "[88]\ttrain-auc:0.925875\ttest-auc:0.854774\n",
      "[89]\ttrain-auc:0.926352\ttest-auc:0.854455\n",
      "[90]\ttrain-auc:0.927046\ttest-auc:0.85401\n",
      "[91]\ttrain-auc:0.926967\ttest-auc:0.854416\n",
      "[92]\ttrain-auc:0.927567\ttest-auc:0.85436\n",
      "[93]\ttrain-auc:0.927977\ttest-auc:0.853728\n",
      "[94]\ttrain-auc:0.928263\ttest-auc:0.85367\n",
      "[95]\ttrain-auc:0.928589\ttest-auc:0.853751\n",
      "[96]\ttrain-auc:0.929071\ttest-auc:0.853258\n",
      "[97]\ttrain-auc:0.929451\ttest-auc:0.853105\n",
      "[98]\ttrain-auc:0.929954\ttest-auc:0.853179\n",
      "[99]\ttrain-auc:0.930706\ttest-auc:0.852471\n",
      "[100]\ttrain-auc:0.931515\ttest-auc:0.852943\n",
      "[101]\ttrain-auc:0.931947\ttest-auc:0.852982\n",
      "[102]\ttrain-auc:0.932188\ttest-auc:0.852956\n",
      "[103]\ttrain-auc:0.932321\ttest-auc:0.852811\n",
      "[104]\ttrain-auc:0.932302\ttest-auc:0.852672\n",
      "[105]\ttrain-auc:0.932943\ttest-auc:0.852732\n",
      "[106]\ttrain-auc:0.933443\ttest-auc:0.852496\n",
      "[107]\ttrain-auc:0.933952\ttest-auc:0.852951\n",
      "[108]\ttrain-auc:0.934599\ttest-auc:0.852171\n",
      "[109]\ttrain-auc:0.934931\ttest-auc:0.852053\n",
      "[110]\ttrain-auc:0.935752\ttest-auc:0.851661\n",
      "[111]\ttrain-auc:0.936091\ttest-auc:0.85128\n",
      "[112]\ttrain-auc:0.936725\ttest-auc:0.851473\n",
      "Stopping. Best iteration:\n",
      "[62]\ttrain-auc:0.909166\ttest-auc:0.858649\n",
      "\n",
      "done\n",
      "roc: 0.8580609751045938\n",
      "cv scores: [0.8580609751045938]\n"
     ]
    },
    {
     "name": "stderr",
     "output_type": "stream",
     "text": [
      "/anaconda3/envs/pyenv/lib/python3.7/site-packages/xgboost/core.py:587: FutureWarning: Series.base is deprecated and will be removed in a future version\n",
      "  if getattr(data, 'base', None) is not None and \\\n"
     ]
    },
    {
     "name": "stdout",
     "output_type": "stream",
     "text": [
      "[0]\ttrain-auc:0.771462\ttest-auc:0.747164\n",
      "Multiple eval metrics have been passed: 'test-auc' will be used for early stopping.\n",
      "\n",
      "Will train until test-auc hasn't improved in 50 rounds.\n",
      "[1]\ttrain-auc:0.77548\ttest-auc:0.749709\n",
      "[2]\ttrain-auc:0.780923\ttest-auc:0.750437\n",
      "[3]\ttrain-auc:0.83063\ttest-auc:0.793533\n",
      "[4]\ttrain-auc:0.831907\ttest-auc:0.795175\n",
      "[5]\ttrain-auc:0.845757\ttest-auc:0.808377\n",
      "[6]\ttrain-auc:0.865897\ttest-auc:0.82987\n",
      "[7]\ttrain-auc:0.866314\ttest-auc:0.828708\n",
      "[8]\ttrain-auc:0.865944\ttest-auc:0.828395\n",
      "[9]\ttrain-auc:0.866464\ttest-auc:0.828103\n",
      "[10]\ttrain-auc:0.865781\ttest-auc:0.827247\n",
      "[11]\ttrain-auc:0.866509\ttest-auc:0.827154\n",
      "[12]\ttrain-auc:0.866962\ttest-auc:0.827663\n",
      "[13]\ttrain-auc:0.869056\ttest-auc:0.827317\n",
      "[14]\ttrain-auc:0.869951\ttest-auc:0.828357\n",
      "[15]\ttrain-auc:0.869192\ttest-auc:0.828529\n",
      "[16]\ttrain-auc:0.869388\ttest-auc:0.827964\n",
      "[17]\ttrain-auc:0.87111\ttest-auc:0.829876\n",
      "[18]\ttrain-auc:0.872061\ttest-auc:0.831278\n",
      "[19]\ttrain-auc:0.87365\ttest-auc:0.832886\n",
      "[20]\ttrain-auc:0.874138\ttest-auc:0.833566\n",
      "[21]\ttrain-auc:0.873869\ttest-auc:0.833376\n",
      "[22]\ttrain-auc:0.873873\ttest-auc:0.832444\n",
      "[23]\ttrain-auc:0.877639\ttest-auc:0.839898\n",
      "[24]\ttrain-auc:0.877662\ttest-auc:0.839693\n",
      "[25]\ttrain-auc:0.877354\ttest-auc:0.839765\n",
      "[26]\ttrain-auc:0.878412\ttest-auc:0.839141\n",
      "[27]\ttrain-auc:0.879033\ttest-auc:0.839951\n",
      "[28]\ttrain-auc:0.879623\ttest-auc:0.838854\n",
      "[29]\ttrain-auc:0.880264\ttest-auc:0.840311\n",
      "[30]\ttrain-auc:0.880258\ttest-auc:0.840043\n",
      "[31]\ttrain-auc:0.880506\ttest-auc:0.83988\n",
      "[32]\ttrain-auc:0.882621\ttest-auc:0.84003\n",
      "[33]\ttrain-auc:0.883046\ttest-auc:0.840133\n",
      "[34]\ttrain-auc:0.883352\ttest-auc:0.840667\n",
      "[35]\ttrain-auc:0.883359\ttest-auc:0.844058\n",
      "[36]\ttrain-auc:0.883511\ttest-auc:0.843017\n",
      "[37]\ttrain-auc:0.884335\ttest-auc:0.842988\n",
      "[38]\ttrain-auc:0.884839\ttest-auc:0.842754\n",
      "[39]\ttrain-auc:0.886883\ttest-auc:0.842585\n",
      "[40]\ttrain-auc:0.886805\ttest-auc:0.844364\n",
      "[41]\ttrain-auc:0.886845\ttest-auc:0.845033\n",
      "[42]\ttrain-auc:0.887784\ttest-auc:0.844734\n",
      "[43]\ttrain-auc:0.887552\ttest-auc:0.84661\n",
      "[44]\ttrain-auc:0.88852\ttest-auc:0.845465\n",
      "[45]\ttrain-auc:0.888839\ttest-auc:0.845952\n",
      "[46]\ttrain-auc:0.889076\ttest-auc:0.84632\n",
      "[47]\ttrain-auc:0.891336\ttest-auc:0.847451\n",
      "[48]\ttrain-auc:0.891823\ttest-auc:0.847204\n",
      "[49]\ttrain-auc:0.892944\ttest-auc:0.847225\n",
      "[50]\ttrain-auc:0.89359\ttest-auc:0.846984\n",
      "[51]\ttrain-auc:0.894039\ttest-auc:0.846597\n",
      "[52]\ttrain-auc:0.894123\ttest-auc:0.846904\n",
      "[53]\ttrain-auc:0.894236\ttest-auc:0.849105\n",
      "[54]\ttrain-auc:0.895436\ttest-auc:0.848207\n",
      "[55]\ttrain-auc:0.896888\ttest-auc:0.84713\n",
      "[56]\ttrain-auc:0.897755\ttest-auc:0.849001\n",
      "[57]\ttrain-auc:0.89861\ttest-auc:0.849997\n",
      "[58]\ttrain-auc:0.899195\ttest-auc:0.850223\n",
      "[59]\ttrain-auc:0.900309\ttest-auc:0.848768\n",
      "[60]\ttrain-auc:0.901947\ttest-auc:0.847886\n",
      "[61]\ttrain-auc:0.902155\ttest-auc:0.848057\n",
      "[62]\ttrain-auc:0.903081\ttest-auc:0.848266\n",
      "[63]\ttrain-auc:0.904192\ttest-auc:0.847986\n",
      "[64]\ttrain-auc:0.904214\ttest-auc:0.848465\n",
      "[65]\ttrain-auc:0.904839\ttest-auc:0.848337\n",
      "[66]\ttrain-auc:0.905761\ttest-auc:0.847714\n",
      "[67]\ttrain-auc:0.905999\ttest-auc:0.848241\n",
      "[68]\ttrain-auc:0.906735\ttest-auc:0.848755\n",
      "[69]\ttrain-auc:0.907584\ttest-auc:0.849043\n",
      "[70]\ttrain-auc:0.908176\ttest-auc:0.847958\n",
      "[71]\ttrain-auc:0.908764\ttest-auc:0.847772\n",
      "[72]\ttrain-auc:0.909547\ttest-auc:0.847159\n",
      "[73]\ttrain-auc:0.910726\ttest-auc:0.848359\n",
      "[74]\ttrain-auc:0.911125\ttest-auc:0.848263\n",
      "[75]\ttrain-auc:0.911509\ttest-auc:0.847919\n",
      "[76]\ttrain-auc:0.911983\ttest-auc:0.847973\n",
      "[77]\ttrain-auc:0.912648\ttest-auc:0.848282\n",
      "[78]\ttrain-auc:0.91335\ttest-auc:0.847324\n",
      "[79]\ttrain-auc:0.913837\ttest-auc:0.848646\n",
      "[80]\ttrain-auc:0.914482\ttest-auc:0.84829\n",
      "[81]\ttrain-auc:0.914984\ttest-auc:0.8475\n",
      "[82]\ttrain-auc:0.915323\ttest-auc:0.847403\n",
      "[83]\ttrain-auc:0.915771\ttest-auc:0.846759\n",
      "[84]\ttrain-auc:0.915938\ttest-auc:0.846235\n",
      "[85]\ttrain-auc:0.916259\ttest-auc:0.847038\n",
      "[86]\ttrain-auc:0.916953\ttest-auc:0.846038\n",
      "[87]\ttrain-auc:0.917098\ttest-auc:0.846137\n",
      "[88]\ttrain-auc:0.917592\ttest-auc:0.846421\n",
      "[89]\ttrain-auc:0.918177\ttest-auc:0.84582\n",
      "[90]\ttrain-auc:0.918644\ttest-auc:0.846438\n",
      "[91]\ttrain-auc:0.91933\ttest-auc:0.846467\n",
      "[92]\ttrain-auc:0.920144\ttest-auc:0.846858\n",
      "[93]\ttrain-auc:0.920423\ttest-auc:0.846599\n",
      "[94]\ttrain-auc:0.920623\ttest-auc:0.846579\n",
      "[95]\ttrain-auc:0.921228\ttest-auc:0.846473\n",
      "[96]\ttrain-auc:0.922109\ttest-auc:0.84634\n",
      "[97]\ttrain-auc:0.922622\ttest-auc:0.84616\n",
      "[98]\ttrain-auc:0.923127\ttest-auc:0.845872\n",
      "[99]\ttrain-auc:0.923675\ttest-auc:0.846444\n",
      "[100]\ttrain-auc:0.924361\ttest-auc:0.847225\n",
      "[101]\ttrain-auc:0.924991\ttest-auc:0.846635\n",
      "[102]\ttrain-auc:0.925358\ttest-auc:0.847262\n",
      "[103]\ttrain-auc:0.92568\ttest-auc:0.84703\n",
      "[104]\ttrain-auc:0.926044\ttest-auc:0.847295\n",
      "[105]\ttrain-auc:0.926307\ttest-auc:0.846684\n",
      "[106]\ttrain-auc:0.926414\ttest-auc:0.846253\n",
      "[107]\ttrain-auc:0.926788\ttest-auc:0.846798\n",
      "[108]\ttrain-auc:0.927007\ttest-auc:0.846614\n",
      "Stopping. Best iteration:\n",
      "[58]\ttrain-auc:0.899195\ttest-auc:0.850223\n",
      "\n",
      "done\n",
      "roc: 0.8499968924154219\n",
      "cv scores: [0.8580609751045938, 0.8499968924154219]\n"
     ]
    },
    {
     "name": "stderr",
     "output_type": "stream",
     "text": [
      "/anaconda3/envs/pyenv/lib/python3.7/site-packages/xgboost/core.py:587: FutureWarning: Series.base is deprecated and will be removed in a future version\n",
      "  if getattr(data, 'base', None) is not None and \\\n"
     ]
    },
    {
     "name": "stdout",
     "output_type": "stream",
     "text": [
      "[0]\ttrain-auc:0.718858\ttest-auc:0.701557\n",
      "Multiple eval metrics have been passed: 'test-auc' will be used for early stopping.\n",
      "\n",
      "Will train until test-auc hasn't improved in 50 rounds.\n",
      "[1]\ttrain-auc:0.805756\ttest-auc:0.791964\n",
      "[2]\ttrain-auc:0.80723\ttest-auc:0.789974\n",
      "[3]\ttrain-auc:0.810683\ttest-auc:0.791801\n",
      "[4]\ttrain-auc:0.809856\ttest-auc:0.791075\n",
      "[5]\ttrain-auc:0.810421\ttest-auc:0.799159\n",
      "[6]\ttrain-auc:0.811164\ttest-auc:0.806008\n",
      "[7]\ttrain-auc:0.838611\ttest-auc:0.833947\n",
      "[8]\ttrain-auc:0.840492\ttest-auc:0.833724\n",
      "[9]\ttrain-auc:0.841031\ttest-auc:0.833656\n",
      "[10]\ttrain-auc:0.843167\ttest-auc:0.833503\n",
      "[11]\ttrain-auc:0.843509\ttest-auc:0.833689\n",
      "[12]\ttrain-auc:0.854065\ttest-auc:0.853552\n",
      "[13]\ttrain-auc:0.8539\ttest-auc:0.853521\n",
      "[14]\ttrain-auc:0.853993\ttest-auc:0.853971\n",
      "[15]\ttrain-auc:0.851979\ttest-auc:0.858505\n",
      "[16]\ttrain-auc:0.860392\ttest-auc:0.858009\n",
      "[17]\ttrain-auc:0.860842\ttest-auc:0.857652\n",
      "[18]\ttrain-auc:0.86215\ttest-auc:0.856644\n",
      "[19]\ttrain-auc:0.861983\ttest-auc:0.855607\n",
      "[20]\ttrain-auc:0.862817\ttest-auc:0.854901\n",
      "[21]\ttrain-auc:0.863808\ttest-auc:0.855105\n",
      "[22]\ttrain-auc:0.86378\ttest-auc:0.854623\n",
      "[23]\ttrain-auc:0.864822\ttest-auc:0.85419\n",
      "[24]\ttrain-auc:0.870031\ttest-auc:0.852369\n",
      "[25]\ttrain-auc:0.87048\ttest-auc:0.852719\n",
      "[26]\ttrain-auc:0.871271\ttest-auc:0.852568\n",
      "[27]\ttrain-auc:0.872391\ttest-auc:0.854014\n",
      "[28]\ttrain-auc:0.872645\ttest-auc:0.855061\n",
      "[29]\ttrain-auc:0.873061\ttest-auc:0.854057\n",
      "[30]\ttrain-auc:0.87351\ttest-auc:0.854733\n",
      "[31]\ttrain-auc:0.875926\ttest-auc:0.854235\n",
      "[32]\ttrain-auc:0.876688\ttest-auc:0.855207\n",
      "[33]\ttrain-auc:0.877835\ttest-auc:0.858865\n",
      "[34]\ttrain-auc:0.879261\ttest-auc:0.858709\n",
      "[35]\ttrain-auc:0.881096\ttest-auc:0.85936\n",
      "[36]\ttrain-auc:0.884187\ttest-auc:0.858284\n",
      "[37]\ttrain-auc:0.884686\ttest-auc:0.858257\n",
      "[38]\ttrain-auc:0.885456\ttest-auc:0.857629\n",
      "[39]\ttrain-auc:0.885438\ttest-auc:0.856916\n",
      "[40]\ttrain-auc:0.885556\ttest-auc:0.856973\n",
      "[41]\ttrain-auc:0.88712\ttest-auc:0.856819\n",
      "[42]\ttrain-auc:0.887589\ttest-auc:0.857628\n",
      "[43]\ttrain-auc:0.890061\ttest-auc:0.858392\n",
      "[44]\ttrain-auc:0.890967\ttest-auc:0.859388\n",
      "[45]\ttrain-auc:0.890924\ttest-auc:0.859009\n",
      "[46]\ttrain-auc:0.891727\ttest-auc:0.859794\n",
      "[47]\ttrain-auc:0.892463\ttest-auc:0.860285\n",
      "[48]\ttrain-auc:0.893197\ttest-auc:0.860589\n",
      "[49]\ttrain-auc:0.894007\ttest-auc:0.860446\n",
      "[50]\ttrain-auc:0.894827\ttest-auc:0.860909\n",
      "[51]\ttrain-auc:0.895886\ttest-auc:0.862136\n",
      "[52]\ttrain-auc:0.896547\ttest-auc:0.861878\n",
      "[53]\ttrain-auc:0.89721\ttest-auc:0.862504\n",
      "[54]\ttrain-auc:0.897859\ttest-auc:0.862974\n",
      "[55]\ttrain-auc:0.898569\ttest-auc:0.863559\n",
      "[56]\ttrain-auc:0.899934\ttest-auc:0.865217\n",
      "[57]\ttrain-auc:0.900751\ttest-auc:0.865298\n",
      "[58]\ttrain-auc:0.902012\ttest-auc:0.86601\n",
      "[59]\ttrain-auc:0.90282\ttest-auc:0.866062\n",
      "[60]\ttrain-auc:0.904395\ttest-auc:0.866346\n",
      "[61]\ttrain-auc:0.904591\ttest-auc:0.8671\n",
      "[62]\ttrain-auc:0.905402\ttest-auc:0.866973\n",
      "[63]\ttrain-auc:0.906055\ttest-auc:0.867693\n",
      "[64]\ttrain-auc:0.907244\ttest-auc:0.868432\n",
      "[65]\ttrain-auc:0.907171\ttest-auc:0.86834\n",
      "[66]\ttrain-auc:0.9072\ttest-auc:0.86782\n",
      "[67]\ttrain-auc:0.90771\ttest-auc:0.868288\n",
      "[68]\ttrain-auc:0.908678\ttest-auc:0.86785\n",
      "[69]\ttrain-auc:0.90937\ttest-auc:0.867541\n",
      "[70]\ttrain-auc:0.9102\ttest-auc:0.86742\n",
      "[71]\ttrain-auc:0.911308\ttest-auc:0.867115\n",
      "[72]\ttrain-auc:0.912255\ttest-auc:0.866655\n",
      "[73]\ttrain-auc:0.912498\ttest-auc:0.86633\n",
      "[74]\ttrain-auc:0.912856\ttest-auc:0.866668\n",
      "[75]\ttrain-auc:0.913578\ttest-auc:0.866131\n",
      "[76]\ttrain-auc:0.914123\ttest-auc:0.86687\n",
      "[77]\ttrain-auc:0.915209\ttest-auc:0.867123\n",
      "[78]\ttrain-auc:0.91569\ttest-auc:0.867217\n",
      "[79]\ttrain-auc:0.91621\ttest-auc:0.866996\n",
      "[80]\ttrain-auc:0.916456\ttest-auc:0.866946\n",
      "[81]\ttrain-auc:0.916964\ttest-auc:0.86687\n",
      "[82]\ttrain-auc:0.918056\ttest-auc:0.867747\n",
      "[83]\ttrain-auc:0.918979\ttest-auc:0.867964\n",
      "[84]\ttrain-auc:0.91976\ttest-auc:0.868123\n",
      "[85]\ttrain-auc:0.920217\ttest-auc:0.868562\n",
      "[86]\ttrain-auc:0.920962\ttest-auc:0.868156\n",
      "[87]\ttrain-auc:0.92132\ttest-auc:0.868215\n",
      "[88]\ttrain-auc:0.92173\ttest-auc:0.867808\n",
      "[89]\ttrain-auc:0.922608\ttest-auc:0.867098\n",
      "[90]\ttrain-auc:0.923778\ttest-auc:0.866831\n",
      "[91]\ttrain-auc:0.924134\ttest-auc:0.867148\n",
      "[92]\ttrain-auc:0.924518\ttest-auc:0.867338\n",
      "[93]\ttrain-auc:0.924953\ttest-auc:0.867689\n",
      "[94]\ttrain-auc:0.925756\ttest-auc:0.86776\n",
      "[95]\ttrain-auc:0.926721\ttest-auc:0.86758\n",
      "[96]\ttrain-auc:0.927186\ttest-auc:0.867163\n",
      "[97]\ttrain-auc:0.927415\ttest-auc:0.866555\n",
      "[98]\ttrain-auc:0.927755\ttest-auc:0.866419\n",
      "[99]\ttrain-auc:0.92836\ttest-auc:0.866271\n",
      "[100]\ttrain-auc:0.929009\ttest-auc:0.86591\n",
      "[101]\ttrain-auc:0.928973\ttest-auc:0.866202\n",
      "[102]\ttrain-auc:0.929496\ttest-auc:0.867058\n",
      "[103]\ttrain-auc:0.92976\ttest-auc:0.867616\n",
      "[104]\ttrain-auc:0.930324\ttest-auc:0.867605\n",
      "[105]\ttrain-auc:0.930389\ttest-auc:0.867242\n",
      "[106]\ttrain-auc:0.930903\ttest-auc:0.867113\n",
      "[107]\ttrain-auc:0.931372\ttest-auc:0.867194\n",
      "[108]\ttrain-auc:0.932174\ttest-auc:0.867014\n",
      "[109]\ttrain-auc:0.932483\ttest-auc:0.866637\n",
      "[110]\ttrain-auc:0.933039\ttest-auc:0.866695\n",
      "[111]\ttrain-auc:0.933401\ttest-auc:0.86586\n",
      "[112]\ttrain-auc:0.933761\ttest-auc:0.866267\n",
      "[113]\ttrain-auc:0.934059\ttest-auc:0.866152\n",
      "[114]\ttrain-auc:0.934438\ttest-auc:0.866119\n",
      "[115]\ttrain-auc:0.934777\ttest-auc:0.865336\n",
      "[116]\ttrain-auc:0.935262\ttest-auc:0.864973\n",
      "[117]\ttrain-auc:0.935949\ttest-auc:0.865008\n",
      "[118]\ttrain-auc:0.936407\ttest-auc:0.864977\n",
      "[119]\ttrain-auc:0.936865\ttest-auc:0.865081\n",
      "[120]\ttrain-auc:0.937179\ttest-auc:0.864945\n",
      "[121]\ttrain-auc:0.937479\ttest-auc:0.864616\n",
      "[122]\ttrain-auc:0.937702\ttest-auc:0.864557\n",
      "[123]\ttrain-auc:0.937827\ttest-auc:0.864568\n",
      "[124]\ttrain-auc:0.938062\ttest-auc:0.86448\n",
      "[125]\ttrain-auc:0.938444\ttest-auc:0.864286\n",
      "[126]\ttrain-auc:0.938835\ttest-auc:0.8632\n",
      "[127]\ttrain-auc:0.939294\ttest-auc:0.863442\n",
      "[128]\ttrain-auc:0.939765\ttest-auc:0.863889\n",
      "[129]\ttrain-auc:0.94048\ttest-auc:0.864135\n",
      "[130]\ttrain-auc:0.940858\ttest-auc:0.864071\n",
      "[131]\ttrain-auc:0.941368\ttest-auc:0.863259\n",
      "[132]\ttrain-auc:0.941908\ttest-auc:0.863469\n",
      "[133]\ttrain-auc:0.942236\ttest-auc:0.863774\n",
      "[134]\ttrain-auc:0.942913\ttest-auc:0.863593\n",
      "[135]\ttrain-auc:0.943302\ttest-auc:0.863415\n",
      "Stopping. Best iteration:\n",
      "[85]\ttrain-auc:0.920217\ttest-auc:0.868562\n",
      "\n",
      "done\n",
      "roc: 0.8681231040321352\n",
      "cv scores: [0.8580609751045938, 0.8499968924154219, 0.8681231040321352]\n",
      "roc: 0.8576910828760389\n"
     ]
    }
   ],
   "source": [
    "print (\"Model building..\")\n",
    "\n",
    "for model_name in [\"XGB1\"]:\n",
    "\n",
    "    kf = StratifiedKFold(n_splits=3, shuffle=True, random_state=2018)\n",
    "    cv_scores = []\n",
    "    pred_test_full = 0\n",
    "    pred_val_full = np.zeros(X_train.shape[0])\n",
    "    for dev_index, val_index in kf.split(X_train, y_train):\n",
    "        dev_X, val_X = X_train.iloc[dev_index,:], X_train.iloc[val_index,:]\n",
    "        dev_y, val_y = y_train[dev_index], y_train[val_index]\n",
    "\n",
    "        if model_name == \"XGB1\":\n",
    "            pred_val, loss, pred_test = runXGB(train_X=dev_X, \n",
    "                                               train_y=dev_y, \n",
    "                                               test_X=val_X, \n",
    "                                               test_y=val_y, \n",
    "                                               test_X2=X_test, \n",
    "                                               feature_names=dev_X.columns.tolist())\n",
    "        elif model_name == \"LGB1\":\n",
    "            pred_val, loss, pred_test = runLGB(dev_X, dev_y, val_X, val_y, X_test, rounds=5000, dep=8)\n",
    "        pred_val_full[val_index] = pred_val\n",
    "        pred_test_full = pred_test_full + pred_test\n",
    "        cv_scores.append(loss)\n",
    "        print ('cv scores:', cv_scores)\n",
    "    pred_test_full /= 5.\n",
    "    print ('roc:', roc_auc_score(y_train, pred_val_full))"
   ]
  },
  {
   "cell_type": "code",
   "execution_count": null,
   "metadata": {
    "collapsed": true
   },
   "outputs": [],
   "source": []
  },
  {
   "cell_type": "code",
   "execution_count": null,
   "metadata": {
    "collapsed": true
   },
   "outputs": [],
   "source": []
  },
  {
   "cell_type": "markdown",
   "metadata": {},
   "source": [
    "### LGB"
   ]
  },
  {
   "cell_type": "code",
   "execution_count": 29,
   "metadata": {
    "collapsed": true
   },
   "outputs": [],
   "source": [
    "import lightgbm as lgb\n",
    "from sklearn import preprocessing, metrics, ensemble, neighbors, linear_model, tree, model_selection\n",
    "from sklearn.model_selection import KFold, StratifiedKFold"
   ]
  },
  {
   "cell_type": "code",
   "execution_count": 34,
   "metadata": {
    "collapsed": true
   },
   "outputs": [],
   "source": [
    "def runLGB(train_X, train_y, test_X, test_y=None, test_X2=None, feature_names=None, seed_val=0, rounds=500, dep=6, eta=0.05):\n",
    "\tparams = {}\n",
    "\tparams[\"objective\"] = \"binary\"\n",
    "\tparams['metric'] = 'auc'\n",
    "\tparams[\"max_depth\"] = dep\n",
    "\tparams[\"min_data_in_leaf\"] = 20\n",
    "\tparams[\"learning_rate\"] = eta\n",
    "\tparams[\"bagging_fraction\"] = 0.8\n",
    "\tparams[\"feature_fraction\"] = 0.8\n",
    "\tparams[\"bagging_freq\"] = 5\n",
    "\tparams[\"bagging_seed\"] = seed_val\n",
    "\tparams[\"verbosity\"] = 0\n",
    "\tnum_rounds = rounds\n",
    "\n",
    "\tplst = list(params.items())\n",
    "\tlgtrain = lgb.Dataset(train_X, label=train_y)\n",
    "\n",
    "\tif test_y is not None:\n",
    "\t\tlgtest = lgb.Dataset(test_X, label=test_y)\n",
    "\t\tmodel = lgb.train(params, lgtrain, num_rounds, valid_sets=[lgtest], early_stopping_rounds=100, verbose_eval=20)\n",
    "\telse:\n",
    "\t\tlgtest = lgb.DMatrix(test_X)\n",
    "\t\tmodel = lgb.train(params, lgtrain, num_rounds)\n",
    "\n",
    "\tpred_test_y = model.predict(test_X, num_iteration=model.best_iteration)\n",
    "\tpred_test_y2 = model.predict(test_X2, num_iteration=model.best_iteration)\n",
    "\n",
    "\tloss = 0\n",
    "\tif test_y is not None:\n",
    "\t\tloss = metrics.roc_auc_score(test_y, pred_test_y)\n",
    "\t\tprint (loss)\n",
    "\t\treturn pred_test_y, loss, pred_test_y2\n",
    "\telse:\n",
    "\t\treturn pred_test_y, loss, pred_test_y2"
   ]
  },
  {
   "cell_type": "code",
   "execution_count": 171,
   "metadata": {
    "scrolled": true
   },
   "outputs": [
    {
     "name": "stdout",
     "output_type": "stream",
     "text": [
      "Model building..\n",
      "Training until validation scores don't improve for 100 rounds.\n",
      "[20]\tvalid_0's auc: 0.822282\n",
      "[40]\tvalid_0's auc: 0.826048\n",
      "[60]\tvalid_0's auc: 0.826306\n",
      "[80]\tvalid_0's auc: 0.826656\n",
      "[100]\tvalid_0's auc: 0.824796\n",
      "[120]\tvalid_0's auc: 0.822485\n",
      "[140]\tvalid_0's auc: 0.816789\n",
      "Early stopping, best iteration is:\n",
      "[52]\tvalid_0's auc: 0.83123\n",
      "0.8312300760720277\n",
      "cv scores: [0.8312300760720277]\n",
      "Training until validation scores don't improve for 100 rounds.\n",
      "[20]\tvalid_0's auc: 0.842594\n",
      "[40]\tvalid_0's auc: 0.844892\n",
      "[60]\tvalid_0's auc: 0.840735\n",
      "[80]\tvalid_0's auc: 0.841112\n",
      "[100]\tvalid_0's auc: 0.842307\n",
      "[120]\tvalid_0's auc: 0.840006\n",
      "Early stopping, best iteration is:\n",
      "[28]\tvalid_0's auc: 0.851708\n",
      "0.8517077543702376\n",
      "cv scores: [0.8312300760720277, 0.8517077543702376]\n",
      "Training until validation scores don't improve for 100 rounds.\n",
      "[20]\tvalid_0's auc: 0.845353\n",
      "[40]\tvalid_0's auc: 0.848135\n",
      "[60]\tvalid_0's auc: 0.855476\n",
      "[80]\tvalid_0's auc: 0.855558\n",
      "[100]\tvalid_0's auc: 0.853304\n",
      "[120]\tvalid_0's auc: 0.853924\n",
      "[140]\tvalid_0's auc: 0.853877\n",
      "[160]\tvalid_0's auc: 0.849528\n",
      "Early stopping, best iteration is:\n",
      "[67]\tvalid_0's auc: 0.856007\n",
      "0.8560066084493745\n",
      "cv scores: [0.8312300760720277, 0.8517077543702376, 0.8560066084493745]\n",
      "Training until validation scores don't improve for 100 rounds.\n",
      "[20]\tvalid_0's auc: 0.834798\n",
      "[40]\tvalid_0's auc: 0.841903\n",
      "[60]\tvalid_0's auc: 0.839563\n",
      "[80]\tvalid_0's auc: 0.838975\n",
      "[100]\tvalid_0's auc: 0.841619\n",
      "[120]\tvalid_0's auc: 0.84141\n",
      "Early stopping, best iteration is:\n",
      "[34]\tvalid_0's auc: 0.845089\n",
      "0.8450892857142858\n",
      "cv scores: [0.8312300760720277, 0.8517077543702376, 0.8560066084493745, 0.8450892857142858]\n",
      "Training until validation scores don't improve for 100 rounds.\n",
      "[20]\tvalid_0's auc: 0.84436\n",
      "[40]\tvalid_0's auc: 0.856457\n",
      "[60]\tvalid_0's auc: 0.860475\n",
      "[80]\tvalid_0's auc: 0.8633\n",
      "[100]\tvalid_0's auc: 0.860432\n",
      "[120]\tvalid_0's auc: 0.858523\n",
      "[140]\tvalid_0's auc: 0.857216\n",
      "[160]\tvalid_0's auc: 0.855915\n",
      "[180]\tvalid_0's auc: 0.855254\n",
      "Early stopping, best iteration is:\n",
      "[83]\tvalid_0's auc: 0.863848\n",
      "0.8638478305661891\n",
      "cv scores: [0.8312300760720277, 0.8517077543702376, 0.8560066084493745, 0.8450892857142858, 0.8638478305661891]\n",
      "roc: 0.838741675243339\n"
     ]
    }
   ],
   "source": [
    "print (\"Model building..\")\n",
    "\n",
    "for model_name in [\"LGB1\"]:\n",
    "\n",
    "    kf = model_selection.KFold(n_splits=5, shuffle=True, random_state=2018)\n",
    "    cv_scores = []\n",
    "    pred_test_full = 0\n",
    "    pred_val_full = np.zeros(X_train.shape[0])\n",
    "    for dev_index, val_index in kf.split(X_train):\n",
    "        dev_X, val_X = X_train.iloc[dev_index,:], X_train.iloc[val_index,:]\n",
    "        dev_y, val_y = y_train[dev_index], y_train[val_index]\n",
    "\n",
    "        if model_name == \"XGB1\":\n",
    "            pred_val, loss, pred_test = runXGB(dev_X, dev_y, val_X, val_y, X_test, rounds=5000, dep=8, feature_names=dev_X.columns.tolist())\n",
    "        elif model_name == \"LGB1\":\n",
    "            pred_val, loss, pred_test = runLGB(dev_X, dev_y, val_X, val_y, X_test, rounds=5000, dep=8)\n",
    "        pred_val_full[val_index] = pred_val\n",
    "        pred_test_full = pred_test_full + pred_test\n",
    "        cv_scores.append(loss)\n",
    "        print ('cv scores:', cv_scores)\n",
    "    pred_test_full /= 5.\n",
    "    print ('roc:', metrics.roc_auc_score(y_train, pred_val_full))"
   ]
  },
  {
   "cell_type": "code",
   "execution_count": null,
   "metadata": {
    "collapsed": true
   },
   "outputs": [],
   "source": []
  },
  {
   "cell_type": "code",
   "execution_count": null,
   "metadata": {
    "collapsed": true
   },
   "outputs": [],
   "source": [
    "out_df = pd.DataFrame({\"UCIC_ID\":test_id})\n",
    "out_df[\"Responders\"] = pred_test_full\n",
    "out_df.to_csv(\"./meta_models/test/pred_test_v5_\"+model_name+\".csv\", index=False)\n",
    "\n",
    "out_df = pd.DataFrame({\"UCIC_ID\":train_id})\n",
    "out_df[\"Responders\"] = pred_val_full\n",
    "out_df.to_csv(\"./meta_models/val/pred_val_v5_\"+model_name+\".csv\", index=False)"
   ]
  },
  {
   "cell_type": "code",
   "execution_count": 84,
   "metadata": {
    "collapsed": true,
    "scrolled": false
   },
   "outputs": [],
   "source": [
    "from lightgbm import LGBMClassifier\n",
    "import lightgbm as lgb\n",
    "from sklearn import model_selection\n",
    "from sklearn.metrics import roc_auc_score"
   ]
  },
  {
   "cell_type": "code",
   "execution_count": 166,
   "metadata": {
    "scrolled": true
   },
   "outputs": [
    {
     "name": "stdout",
     "output_type": "stream",
     "text": [
      "[1]\ttraining's binary_logloss: 0.126145\ttraining's auc: 0.858384\tvalid_1's binary_logloss: 0.139452\tvalid_1's auc: 0.719383\n",
      "Training until validation scores don't improve for 50 rounds.\n",
      "[2]\ttraining's binary_logloss: 0.115389\ttraining's auc: 0.902577\tvalid_1's binary_logloss: 0.136807\tvalid_1's auc: 0.791728\n",
      "[3]\ttraining's binary_logloss: 0.106853\ttraining's auc: 0.913021\tvalid_1's binary_logloss: 0.134199\tvalid_1's auc: 0.800686\n",
      "[4]\ttraining's binary_logloss: 0.0998989\ttraining's auc: 0.927987\tvalid_1's binary_logloss: 0.132153\tvalid_1's auc: 0.796186\n",
      "[5]\ttraining's binary_logloss: 0.0940303\ttraining's auc: 0.934045\tvalid_1's binary_logloss: 0.130979\tvalid_1's auc: 0.796161\n",
      "[6]\ttraining's binary_logloss: 0.0890072\ttraining's auc: 0.940559\tvalid_1's binary_logloss: 0.129556\tvalid_1's auc: 0.806731\n",
      "[7]\ttraining's binary_logloss: 0.0844893\ttraining's auc: 0.944346\tvalid_1's binary_logloss: 0.128602\tvalid_1's auc: 0.80852\n",
      "[8]\ttraining's binary_logloss: 0.0806133\ttraining's auc: 0.949222\tvalid_1's binary_logloss: 0.127904\tvalid_1's auc: 0.807907\n",
      "[9]\ttraining's binary_logloss: 0.0768307\ttraining's auc: 0.959412\tvalid_1's binary_logloss: 0.127236\tvalid_1's auc: 0.817692\n",
      "[10]\ttraining's binary_logloss: 0.0732959\ttraining's auc: 0.968213\tvalid_1's binary_logloss: 0.126305\tvalid_1's auc: 0.821131\n",
      "[11]\ttraining's binary_logloss: 0.0702006\ttraining's auc: 0.969658\tvalid_1's binary_logloss: 0.125961\tvalid_1's auc: 0.817581\n",
      "[12]\ttraining's binary_logloss: 0.0673004\ttraining's auc: 0.97194\tvalid_1's binary_logloss: 0.125426\tvalid_1's auc: 0.819899\n",
      "[13]\ttraining's binary_logloss: 0.0647311\ttraining's auc: 0.974895\tvalid_1's binary_logloss: 0.125178\tvalid_1's auc: 0.820049\n",
      "[14]\ttraining's binary_logloss: 0.0621246\ttraining's auc: 0.977829\tvalid_1's binary_logloss: 0.124847\tvalid_1's auc: 0.820033\n",
      "[15]\ttraining's binary_logloss: 0.0596625\ttraining's auc: 0.980717\tvalid_1's binary_logloss: 0.124584\tvalid_1's auc: 0.822919\n",
      "[16]\ttraining's binary_logloss: 0.0571292\ttraining's auc: 0.98688\tvalid_1's binary_logloss: 0.124134\tvalid_1's auc: 0.823306\n",
      "[17]\ttraining's binary_logloss: 0.0548319\ttraining's auc: 0.991661\tvalid_1's binary_logloss: 0.12378\tvalid_1's auc: 0.823833\n",
      "[18]\ttraining's binary_logloss: 0.0527287\ttraining's auc: 0.994754\tvalid_1's binary_logloss: 0.12391\tvalid_1's auc: 0.821777\n",
      "[19]\ttraining's binary_logloss: 0.0507124\ttraining's auc: 0.995772\tvalid_1's binary_logloss: 0.124074\tvalid_1's auc: 0.822309\n",
      "[20]\ttraining's binary_logloss: 0.0490284\ttraining's auc: 0.997262\tvalid_1's binary_logloss: 0.124065\tvalid_1's auc: 0.822455\n",
      "[21]\ttraining's binary_logloss: 0.047192\ttraining's auc: 0.998439\tvalid_1's binary_logloss: 0.12451\tvalid_1's auc: 0.820813\n",
      "[22]\ttraining's binary_logloss: 0.0454424\ttraining's auc: 0.998923\tvalid_1's binary_logloss: 0.124892\tvalid_1's auc: 0.819708\n",
      "[23]\ttraining's binary_logloss: 0.0437388\ttraining's auc: 0.999402\tvalid_1's binary_logloss: 0.125297\tvalid_1's auc: 0.818569\n",
      "[24]\ttraining's binary_logloss: 0.0421955\ttraining's auc: 0.999647\tvalid_1's binary_logloss: 0.125505\tvalid_1's auc: 0.82001\n",
      "[25]\ttraining's binary_logloss: 0.0406365\ttraining's auc: 0.999796\tvalid_1's binary_logloss: 0.125293\tvalid_1's auc: 0.821076\n",
      "[26]\ttraining's binary_logloss: 0.0393583\ttraining's auc: 0.999844\tvalid_1's binary_logloss: 0.125782\tvalid_1's auc: 0.819628\n",
      "[27]\ttraining's binary_logloss: 0.0381513\ttraining's auc: 0.999882\tvalid_1's binary_logloss: 0.1258\tvalid_1's auc: 0.819997\n",
      "[28]\ttraining's binary_logloss: 0.0369115\ttraining's auc: 0.999908\tvalid_1's binary_logloss: 0.126033\tvalid_1's auc: 0.818347\n",
      "[29]\ttraining's binary_logloss: 0.0358091\ttraining's auc: 0.999925\tvalid_1's binary_logloss: 0.1265\tvalid_1's auc: 0.817562\n",
      "[30]\ttraining's binary_logloss: 0.0345994\ttraining's auc: 0.999949\tvalid_1's binary_logloss: 0.126369\tvalid_1's auc: 0.819908\n",
      "[31]\ttraining's binary_logloss: 0.0335735\ttraining's auc: 0.99996\tvalid_1's binary_logloss: 0.126647\tvalid_1's auc: 0.819705\n",
      "[32]\ttraining's binary_logloss: 0.0324522\ttraining's auc: 0.999974\tvalid_1's binary_logloss: 0.126458\tvalid_1's auc: 0.821713\n",
      "[33]\ttraining's binary_logloss: 0.03138\ttraining's auc: 0.999985\tvalid_1's binary_logloss: 0.12658\tvalid_1's auc: 0.821923\n",
      "[34]\ttraining's binary_logloss: 0.0304929\ttraining's auc: 0.99999\tvalid_1's binary_logloss: 0.126826\tvalid_1's auc: 0.824159\n",
      "[35]\ttraining's binary_logloss: 0.0294763\ttraining's auc: 0.999993\tvalid_1's binary_logloss: 0.127328\tvalid_1's auc: 0.824307\n",
      "[36]\ttraining's binary_logloss: 0.0285311\ttraining's auc: 0.999997\tvalid_1's binary_logloss: 0.127341\tvalid_1's auc: 0.824803\n",
      "[37]\ttraining's binary_logloss: 0.0275564\ttraining's auc: 0.999998\tvalid_1's binary_logloss: 0.127536\tvalid_1's auc: 0.82557\n",
      "[38]\ttraining's binary_logloss: 0.0266944\ttraining's auc: 0.999998\tvalid_1's binary_logloss: 0.127763\tvalid_1's auc: 0.826581\n",
      "[39]\ttraining's binary_logloss: 0.0258317\ttraining's auc: 1\tvalid_1's binary_logloss: 0.128331\tvalid_1's auc: 0.825271\n",
      "[40]\ttraining's binary_logloss: 0.0250127\ttraining's auc: 1\tvalid_1's binary_logloss: 0.128897\tvalid_1's auc: 0.825966\n",
      "[41]\ttraining's binary_logloss: 0.0242378\ttraining's auc: 1\tvalid_1's binary_logloss: 0.129387\tvalid_1's auc: 0.825159\n",
      "[42]\ttraining's binary_logloss: 0.0234938\ttraining's auc: 1\tvalid_1's binary_logloss: 0.129848\tvalid_1's auc: 0.824617\n",
      "[43]\ttraining's binary_logloss: 0.022696\ttraining's auc: 1\tvalid_1's binary_logloss: 0.130131\tvalid_1's auc: 0.823775\n",
      "[44]\ttraining's binary_logloss: 0.0219963\ttraining's auc: 1\tvalid_1's binary_logloss: 0.130387\tvalid_1's auc: 0.825231\n",
      "[45]\ttraining's binary_logloss: 0.0212978\ttraining's auc: 1\tvalid_1's binary_logloss: 0.131033\tvalid_1's auc: 0.824203\n",
      "[46]\ttraining's binary_logloss: 0.0206478\ttraining's auc: 1\tvalid_1's binary_logloss: 0.131483\tvalid_1's auc: 0.823324\n",
      "[47]\ttraining's binary_logloss: 0.0199815\ttraining's auc: 1\tvalid_1's binary_logloss: 0.132179\tvalid_1's auc: 0.821955\n",
      "[48]\ttraining's binary_logloss: 0.0193163\ttraining's auc: 1\tvalid_1's binary_logloss: 0.132791\tvalid_1's auc: 0.822688\n",
      "[49]\ttraining's binary_logloss: 0.0187318\ttraining's auc: 1\tvalid_1's binary_logloss: 0.133021\tvalid_1's auc: 0.823913\n",
      "[50]\ttraining's binary_logloss: 0.0181585\ttraining's auc: 1\tvalid_1's binary_logloss: 0.133582\tvalid_1's auc: 0.823439\n",
      "[51]\ttraining's binary_logloss: 0.017649\ttraining's auc: 1\tvalid_1's binary_logloss: 0.134033\tvalid_1's auc: 0.823854\n",
      "[52]\ttraining's binary_logloss: 0.0171129\ttraining's auc: 1\tvalid_1's binary_logloss: 0.134959\tvalid_1's auc: 0.822176\n",
      "[53]\ttraining's binary_logloss: 0.0165774\ttraining's auc: 1\tvalid_1's binary_logloss: 0.135236\tvalid_1's auc: 0.822595\n",
      "[54]\ttraining's binary_logloss: 0.0160674\ttraining's auc: 1\tvalid_1's binary_logloss: 0.135685\tvalid_1's auc: 0.822905\n",
      "[55]\ttraining's binary_logloss: 0.0156756\ttraining's auc: 1\tvalid_1's binary_logloss: 0.136363\tvalid_1's auc: 0.822299\n",
      "[56]\ttraining's binary_logloss: 0.0151693\ttraining's auc: 1\tvalid_1's binary_logloss: 0.136792\tvalid_1's auc: 0.822417\n",
      "[57]\ttraining's binary_logloss: 0.0147126\ttraining's auc: 1\tvalid_1's binary_logloss: 0.136809\tvalid_1's auc: 0.823663\n",
      "[58]\ttraining's binary_logloss: 0.0142422\ttraining's auc: 1\tvalid_1's binary_logloss: 0.137147\tvalid_1's auc: 0.824515\n",
      "[59]\ttraining's binary_logloss: 0.0138362\ttraining's auc: 1\tvalid_1's binary_logloss: 0.137844\tvalid_1's auc: 0.823763\n",
      "[60]\ttraining's binary_logloss: 0.0134268\ttraining's auc: 1\tvalid_1's binary_logloss: 0.138406\tvalid_1's auc: 0.822932\n",
      "[61]\ttraining's binary_logloss: 0.0130646\ttraining's auc: 1\tvalid_1's binary_logloss: 0.139329\tvalid_1's auc: 0.821019\n",
      "[62]\ttraining's binary_logloss: 0.0126739\ttraining's auc: 1\tvalid_1's binary_logloss: 0.139533\tvalid_1's auc: 0.821862\n",
      "[63]\ttraining's binary_logloss: 0.0123332\ttraining's auc: 1\tvalid_1's binary_logloss: 0.140541\tvalid_1's auc: 0.820716\n",
      "[64]\ttraining's binary_logloss: 0.0119706\ttraining's auc: 1\tvalid_1's binary_logloss: 0.140784\tvalid_1's auc: 0.821955\n",
      "[65]\ttraining's binary_logloss: 0.0115689\ttraining's auc: 1\tvalid_1's binary_logloss: 0.141384\tvalid_1's auc: 0.822311\n",
      "[66]\ttraining's binary_logloss: 0.0112473\ttraining's auc: 1\tvalid_1's binary_logloss: 0.141913\tvalid_1's auc: 0.821868\n",
      "[67]\ttraining's binary_logloss: 0.010899\ttraining's auc: 1\tvalid_1's binary_logloss: 0.142749\tvalid_1's auc: 0.820317\n",
      "Early stopping, best iteration is:\n",
      "[17]\ttraining's binary_logloss: 0.0548319\ttraining's auc: 0.991661\tvalid_1's binary_logloss: 0.12378\tvalid_1's auc: 0.823833\n"
     ]
    },
    {
     "name": "stdout",
     "output_type": "stream",
     "text": [
      "****************************************************************************************************\n",
      "[1]\ttraining's binary_logloss: 0.126331\ttraining's auc: 0.86006\tvalid_1's binary_logloss: 0.141773\tvalid_1's auc: 0.688795\n",
      "Training until validation scores don't improve for 50 rounds.\n",
      "[2]\ttraining's binary_logloss: 0.115392\ttraining's auc: 0.894527\tvalid_1's binary_logloss: 0.138845\tvalid_1's auc: 0.775107\n",
      "[3]\ttraining's binary_logloss: 0.107267\ttraining's auc: 0.909139\tvalid_1's binary_logloss: 0.136317\tvalid_1's auc: 0.800862\n",
      "[4]\ttraining's binary_logloss: 0.100222\ttraining's auc: 0.919017\tvalid_1's binary_logloss: 0.134387\tvalid_1's auc: 0.802316\n",
      "[5]\ttraining's binary_logloss: 0.0939713\ttraining's auc: 0.934957\tvalid_1's binary_logloss: 0.133776\tvalid_1's auc: 0.803204\n",
      "[6]\ttraining's binary_logloss: 0.0887733\ttraining's auc: 0.942664\tvalid_1's binary_logloss: 0.132936\tvalid_1's auc: 0.802072\n",
      "[7]\ttraining's binary_logloss: 0.0842822\ttraining's auc: 0.948386\tvalid_1's binary_logloss: 0.13204\tvalid_1's auc: 0.802987\n",
      "[8]\ttraining's binary_logloss: 0.0802062\ttraining's auc: 0.958432\tvalid_1's binary_logloss: 0.131325\tvalid_1's auc: 0.814213\n",
      "[9]\ttraining's binary_logloss: 0.0763598\ttraining's auc: 0.960917\tvalid_1's binary_logloss: 0.130487\tvalid_1's auc: 0.816669\n",
      "[10]\ttraining's binary_logloss: 0.0729061\ttraining's auc: 0.967657\tvalid_1's binary_logloss: 0.129227\tvalid_1's auc: 0.822097\n",
      "[11]\ttraining's binary_logloss: 0.0695367\ttraining's auc: 0.970097\tvalid_1's binary_logloss: 0.129342\tvalid_1's auc: 0.822155\n",
      "[12]\ttraining's binary_logloss: 0.0667035\ttraining's auc: 0.974941\tvalid_1's binary_logloss: 0.128444\tvalid_1's auc: 0.828191\n",
      "[13]\ttraining's binary_logloss: 0.0641782\ttraining's auc: 0.979961\tvalid_1's binary_logloss: 0.127316\tvalid_1's auc: 0.830489\n",
      "[14]\ttraining's binary_logloss: 0.0612904\ttraining's auc: 0.98538\tvalid_1's binary_logloss: 0.127367\tvalid_1's auc: 0.825965\n",
      "[15]\ttraining's binary_logloss: 0.0590564\ttraining's auc: 0.985914\tvalid_1's binary_logloss: 0.126906\tvalid_1's auc: 0.830161\n",
      "[16]\ttraining's binary_logloss: 0.056681\ttraining's auc: 0.990071\tvalid_1's binary_logloss: 0.127065\tvalid_1's auc: 0.827053\n",
      "[17]\ttraining's binary_logloss: 0.0545205\ttraining's auc: 0.993111\tvalid_1's binary_logloss: 0.126752\tvalid_1's auc: 0.827281\n",
      "[18]\ttraining's binary_logloss: 0.0526384\ttraining's auc: 0.994904\tvalid_1's binary_logloss: 0.126751\tvalid_1's auc: 0.830441\n",
      "[19]\ttraining's binary_logloss: 0.0505455\ttraining's auc: 0.996805\tvalid_1's binary_logloss: 0.126315\tvalid_1's auc: 0.83561\n",
      "[20]\ttraining's binary_logloss: 0.0485214\ttraining's auc: 0.998347\tvalid_1's binary_logloss: 0.126179\tvalid_1's auc: 0.838604\n",
      "[21]\ttraining's binary_logloss: 0.0467807\ttraining's auc: 0.99891\tvalid_1's binary_logloss: 0.125962\tvalid_1's auc: 0.839363\n",
      "[22]\ttraining's binary_logloss: 0.0451167\ttraining's auc: 0.999246\tvalid_1's binary_logloss: 0.125816\tvalid_1's auc: 0.840019\n",
      "[23]\ttraining's binary_logloss: 0.0435827\ttraining's auc: 0.999483\tvalid_1's binary_logloss: 0.12592\tvalid_1's auc: 0.839787\n",
      "[24]\ttraining's binary_logloss: 0.0420736\ttraining's auc: 0.999704\tvalid_1's binary_logloss: 0.1259\tvalid_1's auc: 0.84227\n",
      "[25]\ttraining's binary_logloss: 0.040651\ttraining's auc: 0.99977\tvalid_1's binary_logloss: 0.125857\tvalid_1's auc: 0.841908\n",
      "[26]\ttraining's binary_logloss: 0.0393096\ttraining's auc: 0.999827\tvalid_1's binary_logloss: 0.125906\tvalid_1's auc: 0.842037\n",
      "[27]\ttraining's binary_logloss: 0.0380601\ttraining's auc: 0.999875\tvalid_1's binary_logloss: 0.125896\tvalid_1's auc: 0.842431\n",
      "[28]\ttraining's binary_logloss: 0.0367597\ttraining's auc: 0.999905\tvalid_1's binary_logloss: 0.126139\tvalid_1's auc: 0.842332\n",
      "[29]\ttraining's binary_logloss: 0.0355762\ttraining's auc: 0.999939\tvalid_1's binary_logloss: 0.126352\tvalid_1's auc: 0.842761\n",
      "[30]\ttraining's binary_logloss: 0.0345102\ttraining's auc: 0.999949\tvalid_1's binary_logloss: 0.126577\tvalid_1's auc: 0.841375\n",
      "[31]\ttraining's binary_logloss: 0.0334145\ttraining's auc: 0.999967\tvalid_1's binary_logloss: 0.12685\tvalid_1's auc: 0.841117\n",
      "[32]\ttraining's binary_logloss: 0.0321739\ttraining's auc: 0.999984\tvalid_1's binary_logloss: 0.1271\tvalid_1's auc: 0.842203\n",
      "[33]\ttraining's binary_logloss: 0.0310936\ttraining's auc: 0.999988\tvalid_1's binary_logloss: 0.127382\tvalid_1's auc: 0.842118\n",
      "[34]\ttraining's binary_logloss: 0.0300559\ttraining's auc: 0.999994\tvalid_1's binary_logloss: 0.127792\tvalid_1's auc: 0.84107\n",
      "[35]\ttraining's binary_logloss: 0.0290591\ttraining's auc: 0.999996\tvalid_1's binary_logloss: 0.128144\tvalid_1's auc: 0.841678\n",
      "[36]\ttraining's binary_logloss: 0.0281319\ttraining's auc: 0.999998\tvalid_1's binary_logloss: 0.128487\tvalid_1's auc: 0.841169\n",
      "[37]\ttraining's binary_logloss: 0.0272297\ttraining's auc: 0.999999\tvalid_1's binary_logloss: 0.128513\tvalid_1's auc: 0.841538\n",
      "[38]\ttraining's binary_logloss: 0.0262928\ttraining's auc: 1\tvalid_1's binary_logloss: 0.128527\tvalid_1's auc: 0.842143\n",
      "[39]\ttraining's binary_logloss: 0.0254499\ttraining's auc: 1\tvalid_1's binary_logloss: 0.128628\tvalid_1's auc: 0.842218\n",
      "[40]\ttraining's binary_logloss: 0.024647\ttraining's auc: 1\tvalid_1's binary_logloss: 0.129111\tvalid_1's auc: 0.841093\n",
      "[41]\ttraining's binary_logloss: 0.0238641\ttraining's auc: 1\tvalid_1's binary_logloss: 0.129163\tvalid_1's auc: 0.843065\n",
      "[42]\ttraining's binary_logloss: 0.0231215\ttraining's auc: 1\tvalid_1's binary_logloss: 0.129411\tvalid_1's auc: 0.842445\n",
      "[43]\ttraining's binary_logloss: 0.0224215\ttraining's auc: 1\tvalid_1's binary_logloss: 0.130148\tvalid_1's auc: 0.841227\n",
      "[44]\ttraining's binary_logloss: 0.0217507\ttraining's auc: 1\tvalid_1's binary_logloss: 0.130677\tvalid_1's auc: 0.840508\n",
      "[45]\ttraining's binary_logloss: 0.0210707\ttraining's auc: 1\tvalid_1's binary_logloss: 0.130872\tvalid_1's auc: 0.841115\n",
      "[46]\ttraining's binary_logloss: 0.0204001\ttraining's auc: 1\tvalid_1's binary_logloss: 0.131421\tvalid_1's auc: 0.840817\n",
      "[47]\ttraining's binary_logloss: 0.0198442\ttraining's auc: 1\tvalid_1's binary_logloss: 0.131893\tvalid_1's auc: 0.840883\n",
      "[48]\ttraining's binary_logloss: 0.019278\ttraining's auc: 1\tvalid_1's binary_logloss: 0.132044\tvalid_1's auc: 0.841188\n",
      "[49]\ttraining's binary_logloss: 0.0187957\ttraining's auc: 1\tvalid_1's binary_logloss: 0.132464\tvalid_1's auc: 0.839949\n",
      "[50]\ttraining's binary_logloss: 0.0181738\ttraining's auc: 1\tvalid_1's binary_logloss: 0.133156\tvalid_1's auc: 0.839483\n",
      "[51]\ttraining's binary_logloss: 0.0175961\ttraining's auc: 1\tvalid_1's binary_logloss: 0.133437\tvalid_1's auc: 0.839274\n",
      "[52]\ttraining's binary_logloss: 0.0170688\ttraining's auc: 1\tvalid_1's binary_logloss: 0.134146\tvalid_1's auc: 0.838895\n",
      "[53]\ttraining's binary_logloss: 0.0166069\ttraining's auc: 1\tvalid_1's binary_logloss: 0.134403\tvalid_1's auc: 0.838677\n",
      "[54]\ttraining's binary_logloss: 0.0161648\ttraining's auc: 1\tvalid_1's binary_logloss: 0.135108\tvalid_1's auc: 0.837525\n",
      "[55]\ttraining's binary_logloss: 0.0156756\ttraining's auc: 1\tvalid_1's binary_logloss: 0.135223\tvalid_1's auc: 0.837784\n",
      "[56]\ttraining's binary_logloss: 0.0151777\ttraining's auc: 1\tvalid_1's binary_logloss: 0.135692\tvalid_1's auc: 0.837208\n",
      "[57]\ttraining's binary_logloss: 0.0146566\ttraining's auc: 1\tvalid_1's binary_logloss: 0.136196\tvalid_1's auc: 0.83633\n",
      "[58]\ttraining's binary_logloss: 0.0142951\ttraining's auc: 1\tvalid_1's binary_logloss: 0.136514\tvalid_1's auc: 0.837212\n",
      "[59]\ttraining's binary_logloss: 0.0138408\ttraining's auc: 1\tvalid_1's binary_logloss: 0.137236\tvalid_1's auc: 0.836587\n",
      "[60]\ttraining's binary_logloss: 0.0133977\ttraining's auc: 1\tvalid_1's binary_logloss: 0.13777\tvalid_1's auc: 0.835942\n",
      "[61]\ttraining's binary_logloss: 0.0130507\ttraining's auc: 1\tvalid_1's binary_logloss: 0.138179\tvalid_1's auc: 0.836514\n",
      "[62]\ttraining's binary_logloss: 0.0126757\ttraining's auc: 1\tvalid_1's binary_logloss: 0.13865\tvalid_1's auc: 0.836986\n",
      "[63]\ttraining's binary_logloss: 0.0122888\ttraining's auc: 1\tvalid_1's binary_logloss: 0.139294\tvalid_1's auc: 0.836705\n",
      "[64]\ttraining's binary_logloss: 0.0119334\ttraining's auc: 1\tvalid_1's binary_logloss: 0.139803\tvalid_1's auc: 0.836276\n",
      "[65]\ttraining's binary_logloss: 0.0116717\ttraining's auc: 1\tvalid_1's binary_logloss: 0.140277\tvalid_1's auc: 0.836133\n",
      "[66]\ttraining's binary_logloss: 0.0113593\ttraining's auc: 1\tvalid_1's binary_logloss: 0.140845\tvalid_1's auc: 0.835938\n",
      "[67]\ttraining's binary_logloss: 0.0109989\ttraining's auc: 1\tvalid_1's binary_logloss: 0.141565\tvalid_1's auc: 0.836087\n",
      "[68]\ttraining's binary_logloss: 0.0106599\ttraining's auc: 1\tvalid_1's binary_logloss: 0.141738\tvalid_1's auc: 0.836669\n"
     ]
    },
    {
     "name": "stdout",
     "output_type": "stream",
     "text": [
      "[69]\ttraining's binary_logloss: 0.0103586\ttraining's auc: 1\tvalid_1's binary_logloss: 0.142621\tvalid_1's auc: 0.83611\n",
      "[70]\ttraining's binary_logloss: 0.0100796\ttraining's auc: 1\tvalid_1's binary_logloss: 0.143238\tvalid_1's auc: 0.836141\n",
      "[71]\ttraining's binary_logloss: 0.00982507\ttraining's auc: 1\tvalid_1's binary_logloss: 0.143421\tvalid_1's auc: 0.837332\n",
      "[72]\ttraining's binary_logloss: 0.00954214\ttraining's auc: 1\tvalid_1's binary_logloss: 0.143905\tvalid_1's auc: 0.837463\n",
      "Early stopping, best iteration is:\n",
      "[22]\ttraining's binary_logloss: 0.0451167\ttraining's auc: 0.999246\tvalid_1's binary_logloss: 0.125816\tvalid_1's auc: 0.840019\n",
      "****************************************************************************************************\n",
      "[1]\ttraining's binary_logloss: 0.126282\ttraining's auc: 0.848134\tvalid_1's binary_logloss: 0.144133\tvalid_1's auc: 0.75482\n",
      "Training until validation scores don't improve for 50 rounds.\n",
      "[2]\ttraining's binary_logloss: 0.114914\ttraining's auc: 0.871369\tvalid_1's binary_logloss: 0.140947\tvalid_1's auc: 0.774032\n",
      "[3]\ttraining's binary_logloss: 0.106599\ttraining's auc: 0.889167\tvalid_1's binary_logloss: 0.138631\tvalid_1's auc: 0.814759\n",
      "[4]\ttraining's binary_logloss: 0.0997407\ttraining's auc: 0.914177\tvalid_1's binary_logloss: 0.137023\tvalid_1's auc: 0.808746\n",
      "[5]\ttraining's binary_logloss: 0.0941895\ttraining's auc: 0.930399\tvalid_1's binary_logloss: 0.135949\tvalid_1's auc: 0.821575\n",
      "[6]\ttraining's binary_logloss: 0.0886509\ttraining's auc: 0.946937\tvalid_1's binary_logloss: 0.134401\tvalid_1's auc: 0.830349\n",
      "[7]\ttraining's binary_logloss: 0.0841347\ttraining's auc: 0.958235\tvalid_1's binary_logloss: 0.133283\tvalid_1's auc: 0.828593\n",
      "[8]\ttraining's binary_logloss: 0.0799436\ttraining's auc: 0.967969\tvalid_1's binary_logloss: 0.132694\tvalid_1's auc: 0.832146\n",
      "[9]\ttraining's binary_logloss: 0.0762107\ttraining's auc: 0.970817\tvalid_1's binary_logloss: 0.13251\tvalid_1's auc: 0.832498\n",
      "[10]\ttraining's binary_logloss: 0.0725432\ttraining's auc: 0.976609\tvalid_1's binary_logloss: 0.131188\tvalid_1's auc: 0.841586\n",
      "[11]\ttraining's binary_logloss: 0.0695386\ttraining's auc: 0.978622\tvalid_1's binary_logloss: 0.130446\tvalid_1's auc: 0.842788\n",
      "[12]\ttraining's binary_logloss: 0.0664893\ttraining's auc: 0.981263\tvalid_1's binary_logloss: 0.129943\tvalid_1's auc: 0.843686\n",
      "[13]\ttraining's binary_logloss: 0.063499\ttraining's auc: 0.985564\tvalid_1's binary_logloss: 0.129263\tvalid_1's auc: 0.843438\n",
      "[14]\ttraining's binary_logloss: 0.0609046\ttraining's auc: 0.988434\tvalid_1's binary_logloss: 0.128301\tvalid_1's auc: 0.845644\n",
      "[15]\ttraining's binary_logloss: 0.0585628\ttraining's auc: 0.989409\tvalid_1's binary_logloss: 0.128031\tvalid_1's auc: 0.845241\n",
      "[16]\ttraining's binary_logloss: 0.0557697\ttraining's auc: 0.99496\tvalid_1's binary_logloss: 0.128023\tvalid_1's auc: 0.845236\n",
      "[17]\ttraining's binary_logloss: 0.0536368\ttraining's auc: 0.995358\tvalid_1's binary_logloss: 0.127602\tvalid_1's auc: 0.848545\n",
      "[18]\ttraining's binary_logloss: 0.051504\ttraining's auc: 0.996457\tvalid_1's binary_logloss: 0.127456\tvalid_1's auc: 0.850324\n",
      "[19]\ttraining's binary_logloss: 0.0495199\ttraining's auc: 0.996878\tvalid_1's binary_logloss: 0.127402\tvalid_1's auc: 0.849346\n",
      "[20]\ttraining's binary_logloss: 0.0475493\ttraining's auc: 0.997296\tvalid_1's binary_logloss: 0.127012\tvalid_1's auc: 0.850232\n",
      "[21]\ttraining's binary_logloss: 0.0457628\ttraining's auc: 0.998147\tvalid_1's binary_logloss: 0.126746\tvalid_1's auc: 0.849746\n",
      "[22]\ttraining's binary_logloss: 0.044046\ttraining's auc: 0.998634\tvalid_1's binary_logloss: 0.126805\tvalid_1's auc: 0.848831\n",
      "[23]\ttraining's binary_logloss: 0.0424157\ttraining's auc: 0.99921\tvalid_1's binary_logloss: 0.126627\tvalid_1's auc: 0.848772\n",
      "[24]\ttraining's binary_logloss: 0.0409892\ttraining's auc: 0.999473\tvalid_1's binary_logloss: 0.126997\tvalid_1's auc: 0.847413\n",
      "[25]\ttraining's binary_logloss: 0.0395634\ttraining's auc: 0.999688\tvalid_1's binary_logloss: 0.126953\tvalid_1's auc: 0.847239\n",
      "[26]\ttraining's binary_logloss: 0.038262\ttraining's auc: 0.999783\tvalid_1's binary_logloss: 0.12665\tvalid_1's auc: 0.847107\n",
      "[27]\ttraining's binary_logloss: 0.0369473\ttraining's auc: 0.999871\tvalid_1's binary_logloss: 0.12676\tvalid_1's auc: 0.847103\n",
      "[28]\ttraining's binary_logloss: 0.0357513\ttraining's auc: 0.999929\tvalid_1's binary_logloss: 0.127088\tvalid_1's auc: 0.846456\n",
      "[29]\ttraining's binary_logloss: 0.0346801\ttraining's auc: 0.999938\tvalid_1's binary_logloss: 0.127242\tvalid_1's auc: 0.846537\n",
      "[30]\ttraining's binary_logloss: 0.0336486\ttraining's auc: 0.99997\tvalid_1's binary_logloss: 0.127418\tvalid_1's auc: 0.846343\n",
      "[31]\ttraining's binary_logloss: 0.0325476\ttraining's auc: 0.999991\tvalid_1's binary_logloss: 0.127741\tvalid_1's auc: 0.845251\n",
      "[32]\ttraining's binary_logloss: 0.0313824\ttraining's auc: 0.999998\tvalid_1's binary_logloss: 0.127947\tvalid_1's auc: 0.847329\n",
      "[33]\ttraining's binary_logloss: 0.0303287\ttraining's auc: 1\tvalid_1's binary_logloss: 0.128155\tvalid_1's auc: 0.847719\n",
      "[34]\ttraining's binary_logloss: 0.0293654\ttraining's auc: 1\tvalid_1's binary_logloss: 0.128578\tvalid_1's auc: 0.847521\n",
      "[35]\ttraining's binary_logloss: 0.0283718\ttraining's auc: 1\tvalid_1's binary_logloss: 0.129013\tvalid_1's auc: 0.846986\n",
      "[36]\ttraining's binary_logloss: 0.0273982\ttraining's auc: 1\tvalid_1's binary_logloss: 0.129661\tvalid_1's auc: 0.846978\n",
      "[37]\ttraining's binary_logloss: 0.0265119\ttraining's auc: 1\tvalid_1's binary_logloss: 0.129987\tvalid_1's auc: 0.846909\n",
      "[38]\ttraining's binary_logloss: 0.0256151\ttraining's auc: 1\tvalid_1's binary_logloss: 0.130576\tvalid_1's auc: 0.845966\n",
      "[39]\ttraining's binary_logloss: 0.0248319\ttraining's auc: 1\tvalid_1's binary_logloss: 0.130833\tvalid_1's auc: 0.846156\n",
      "[40]\ttraining's binary_logloss: 0.0240933\ttraining's auc: 1\tvalid_1's binary_logloss: 0.131051\tvalid_1's auc: 0.845674\n",
      "[41]\ttraining's binary_logloss: 0.0233588\ttraining's auc: 1\tvalid_1's binary_logloss: 0.131771\tvalid_1's auc: 0.844286\n",
      "[42]\ttraining's binary_logloss: 0.0226336\ttraining's auc: 1\tvalid_1's binary_logloss: 0.132106\tvalid_1's auc: 0.844235\n",
      "[43]\ttraining's binary_logloss: 0.0219562\ttraining's auc: 1\tvalid_1's binary_logloss: 0.132606\tvalid_1's auc: 0.844469\n",
      "[44]\ttraining's binary_logloss: 0.0212872\ttraining's auc: 1\tvalid_1's binary_logloss: 0.132841\tvalid_1's auc: 0.844792\n",
      "[45]\ttraining's binary_logloss: 0.0206507\ttraining's auc: 1\tvalid_1's binary_logloss: 0.133052\tvalid_1's auc: 0.845451\n",
      "[46]\ttraining's binary_logloss: 0.0200644\ttraining's auc: 1\tvalid_1's binary_logloss: 0.133745\tvalid_1's auc: 0.844882\n",
      "[47]\ttraining's binary_logloss: 0.0194828\ttraining's auc: 1\tvalid_1's binary_logloss: 0.134543\tvalid_1's auc: 0.844067\n",
      "[48]\ttraining's binary_logloss: 0.0188788\ttraining's auc: 1\tvalid_1's binary_logloss: 0.135237\tvalid_1's auc: 0.842354\n",
      "[49]\ttraining's binary_logloss: 0.0183189\ttraining's auc: 1\tvalid_1's binary_logloss: 0.135366\tvalid_1's auc: 0.843063\n",
      "[50]\ttraining's binary_logloss: 0.0178593\ttraining's auc: 1\tvalid_1's binary_logloss: 0.135914\tvalid_1's auc: 0.841836\n",
      "[51]\ttraining's binary_logloss: 0.0174614\ttraining's auc: 1\tvalid_1's binary_logloss: 0.136431\tvalid_1's auc: 0.841281\n",
      "[52]\ttraining's binary_logloss: 0.0168703\ttraining's auc: 1\tvalid_1's binary_logloss: 0.136852\tvalid_1's auc: 0.841444\n",
      "[53]\ttraining's binary_logloss: 0.0163364\ttraining's auc: 1\tvalid_1's binary_logloss: 0.137472\tvalid_1's auc: 0.841109\n",
      "[54]\ttraining's binary_logloss: 0.0158803\ttraining's auc: 1\tvalid_1's binary_logloss: 0.137835\tvalid_1's auc: 0.841187\n",
      "[55]\ttraining's binary_logloss: 0.0154185\ttraining's auc: 1\tvalid_1's binary_logloss: 0.13813\tvalid_1's auc: 0.840791\n",
      "[56]\ttraining's binary_logloss: 0.0150188\ttraining's auc: 1\tvalid_1's binary_logloss: 0.138555\tvalid_1's auc: 0.839817\n",
      "[57]\ttraining's binary_logloss: 0.0146288\ttraining's auc: 1\tvalid_1's binary_logloss: 0.139285\tvalid_1's auc: 0.837782\n",
      "[58]\ttraining's binary_logloss: 0.0141671\ttraining's auc: 1\tvalid_1's binary_logloss: 0.139772\tvalid_1's auc: 0.837804\n",
      "[59]\ttraining's binary_logloss: 0.0137083\ttraining's auc: 1\tvalid_1's binary_logloss: 0.14019\tvalid_1's auc: 0.837416\n",
      "[60]\ttraining's binary_logloss: 0.0133052\ttraining's auc: 1\tvalid_1's binary_logloss: 0.140814\tvalid_1's auc: 0.836796\n",
      "[61]\ttraining's binary_logloss: 0.0128988\ttraining's auc: 1\tvalid_1's binary_logloss: 0.141344\tvalid_1's auc: 0.836663\n",
      "[62]\ttraining's binary_logloss: 0.0125285\ttraining's auc: 1\tvalid_1's binary_logloss: 0.141935\tvalid_1's auc: 0.836195\n",
      "[63]\ttraining's binary_logloss: 0.0121711\ttraining's auc: 1\tvalid_1's binary_logloss: 0.142322\tvalid_1's auc: 0.836814\n",
      "[64]\ttraining's binary_logloss: 0.0118152\ttraining's auc: 1\tvalid_1's binary_logloss: 0.143164\tvalid_1's auc: 0.836208\n",
      "[65]\ttraining's binary_logloss: 0.0114889\ttraining's auc: 1\tvalid_1's binary_logloss: 0.143674\tvalid_1's auc: 0.835646\n",
      "[66]\ttraining's binary_logloss: 0.0111595\ttraining's auc: 1\tvalid_1's binary_logloss: 0.144268\tvalid_1's auc: 0.835663\n"
     ]
    },
    {
     "name": "stdout",
     "output_type": "stream",
     "text": [
      "[67]\ttraining's binary_logloss: 0.0108488\ttraining's auc: 1\tvalid_1's binary_logloss: 0.145316\tvalid_1's auc: 0.833615\n",
      "[68]\ttraining's binary_logloss: 0.0105621\ttraining's auc: 1\tvalid_1's binary_logloss: 0.146085\tvalid_1's auc: 0.832956\n",
      "Early stopping, best iteration is:\n",
      "[18]\ttraining's binary_logloss: 0.051504\ttraining's auc: 0.996457\tvalid_1's binary_logloss: 0.127456\tvalid_1's auc: 0.850324\n",
      "****************************************************************************************************\n"
     ]
    }
   ],
   "source": [
    "fi = []\n",
    "test_probs = []\n",
    "i = 0\n",
    "categorical_features = []\n",
    "for train_idx, valid_idx in model_selection.KFold(n_splits=3, shuffle=True).split(X_train):\n",
    "    i += 1\n",
    "    Xt = X_train.iloc[train_idx]\n",
    "    yt = y_train.iloc[train_idx]\n",
    "\n",
    "    Xv = X_train.iloc[valid_idx]\n",
    "    yv = y_train.iloc[valid_idx]\n",
    "    \n",
    "    learner = LGBMClassifier(n_estimators=10000)\n",
    "    learner.fit(Xt, yt,  early_stopping_rounds=50, eval_metric=\"auc\",\n",
    "                eval_set=[(Xt, yt), (Xv, yv)])\n",
    "    \n",
    "    test_probs.append(pd.Series(learner.predict_proba(X_test)[:, -1],\n",
    "                                index=X_test.index, name=\"fold_\" + str(i)))\n",
    "    fi.append(pd.Series(learner.feature_importances_ / learner.feature_importances_.sum(), index=Xt.columns))\n",
    "    print('*'*100)\n",
    "\n",
    "test_probs = pd.concat(test_probs, axis=1).mean(axis=1)\n",
    "test_probs.index.name=\"USER_ID\"\n",
    "test_probs.name=\"SCORE\"\n",
    "fi = pd.concat(fi, axis=1).mean(axis=1)"
   ]
  },
  {
   "cell_type": "code",
   "execution_count": 167,
   "metadata": {
    "scrolled": true
   },
   "outputs": [
    {
     "data": {
      "text/plain": [
       "(11676,)"
      ]
     },
     "execution_count": 167,
     "metadata": {},
     "output_type": "execute_result"
    }
   ],
   "source": [
    "test_probs.shape"
   ]
  },
  {
   "cell_type": "code",
   "execution_count": 168,
   "metadata": {},
   "outputs": [
    {
     "data": {
      "text/plain": [
       "(11529, 476)"
      ]
     },
     "execution_count": 168,
     "metadata": {},
     "output_type": "execute_result"
    }
   ],
   "source": [
    "X_train.shape"
   ]
  },
  {
   "cell_type": "code",
   "execution_count": 169,
   "metadata": {
    "collapsed": true
   },
   "outputs": [],
   "source": [
    "test_probs.to_csv(\"benchmark_03-09-2019_remove_constant_columns_098.zip\", header=True, compression=\"zip\")"
   ]
  },
  {
   "cell_type": "code",
   "execution_count": 153,
   "metadata": {},
   "outputs": [
    {
     "data": {
      "text/plain": [
       "(11676,)"
      ]
     },
     "execution_count": 153,
     "metadata": {},
     "output_type": "execute_result"
    }
   ],
   "source": [
    "test_probs.shape"
   ]
  },
  {
   "cell_type": "markdown",
   "metadata": {},
   "source": [
    "* With 0.98 gives 0.839999 score, better than 0.99 but still lower than vanilla baseline"
   ]
  },
  {
   "cell_type": "markdown",
   "metadata": {},
   "source": [
    "### Using LGB CV"
   ]
  },
  {
   "cell_type": "code",
   "execution_count": 207,
   "metadata": {
    "collapsed": true
   },
   "outputs": [],
   "source": [
    "from sklearn.model_selection import RandomizedSearchCV, GridSearchCV\n"
   ]
  },
  {
   "cell_type": "code",
   "execution_count": 224,
   "metadata": {
    "collapsed": true
   },
   "outputs": [],
   "source": [
    "from scipy.stats import randint as sp_randint\n",
    "from scipy.stats import uniform as sp_uniform\n",
    "param_test ={'num_leaves': sp_randint(6, 50), \n",
    "             'min_child_samples': sp_randint(100, 500), \n",
    "             'min_child_weight': [1e-5, 1e-3, 1e-2, 1e-1, 1, 1e1, 1e2, 1e3, 1e4],\n",
    "             'subsample': sp_uniform(loc=0.2, scale=0.8), \n",
    "             'colsample_bytree': sp_uniform(loc=0.4, scale=0.6),\n",
    "             'reg_alpha': [0, 1e-1, 1, 2, 5, 7, 10, 50, 100],\n",
    "             'reg_lambda': [0, 1e-1, 1, 5, 10, 20, 50, 100],\n",
    "             'max_depth': sp_randint(1, 50),\n",
    "            }\n"
   ]
  },
  {
   "cell_type": "code",
   "execution_count": 226,
   "metadata": {
    "collapsed": true
   },
   "outputs": [],
   "source": [
    "clf = LGBMClassifier(random_state=314, silent=True, metric='None', n_jobs=4, n_estimators=5000)\n",
    "gs = RandomizedSearchCV(\n",
    "    estimator=clf, param_distributions=param_test, \n",
    "    n_iter=100,\n",
    "    scoring='roc_auc',\n",
    "    cv=3,\n",
    "    refit=True,\n",
    "    random_state=314,\n",
    "    verbose=True)"
   ]
  },
  {
   "cell_type": "code",
   "execution_count": 227,
   "metadata": {},
   "outputs": [
    {
     "name": "stdout",
     "output_type": "stream",
     "text": [
      "Fitting 3 folds for each of 100 candidates, totalling 300 fits\n"
     ]
    },
    {
     "name": "stderr",
     "output_type": "stream",
     "text": [
      "[Parallel(n_jobs=1)]: Using backend SequentialBackend with 1 concurrent workers.\n",
      "[Parallel(n_jobs=1)]: Done 300 out of 300 | elapsed: 34.8min finished\n"
     ]
    },
    {
     "data": {
      "text/plain": [
       "RandomizedSearchCV(cv=3, error_score='raise-deprecating',\n",
       "                   estimator=LGBMClassifier(boosting_type='gbdt',\n",
       "                                            class_weight=None,\n",
       "                                            colsample_bytree=1.0,\n",
       "                                            importance_type='split',\n",
       "                                            learning_rate=0.1, max_depth=-1,\n",
       "                                            metric='None', min_child_samples=20,\n",
       "                                            min_child_weight=0.001,\n",
       "                                            min_split_gain=0.0,\n",
       "                                            n_estimators=5000, n_jobs=4,\n",
       "                                            num_leaves=31, objective=None,\n",
       "                                            random_state=314, reg_...\n",
       "                                                             10000.0],\n",
       "                                        'num_leaves': <scipy.stats._distn_infrastructure.rv_frozen object at 0x1a28c86b00>,\n",
       "                                        'reg_alpha': [0, 0.1, 1, 2, 5, 7, 10,\n",
       "                                                      50, 100],\n",
       "                                        'reg_lambda': [0, 0.1, 1, 5, 10, 20, 50,\n",
       "                                                       100],\n",
       "                                        'subsample': <scipy.stats._distn_infrastructure.rv_frozen object at 0x1a2a7f79e8>},\n",
       "                   pre_dispatch='2*n_jobs', random_state=314, refit=True,\n",
       "                   return_train_score=False, scoring='roc_auc', verbose=True)"
      ]
     },
     "execution_count": 227,
     "metadata": {},
     "output_type": "execute_result"
    }
   ],
   "source": [
    "gs.fit(X_train, y_train)"
   ]
  },
  {
   "cell_type": "code",
   "execution_count": 229,
   "metadata": {},
   "outputs": [
    {
     "data": {
      "text/plain": [
       "{'colsample_bytree': 0.6519926489344068,\n",
       " 'max_depth': 4,\n",
       " 'min_child_samples': 107,\n",
       " 'min_child_weight': 0.1,\n",
       " 'num_leaves': 17,\n",
       " 'reg_alpha': 10,\n",
       " 'reg_lambda': 50,\n",
       " 'subsample': 0.7532869922328251}"
      ]
     },
     "execution_count": 229,
     "metadata": {},
     "output_type": "execute_result"
    }
   ],
   "source": [
    "gs.best_params_"
   ]
  },
  {
   "cell_type": "code",
   "execution_count": 231,
   "metadata": {
    "collapsed": true
   },
   "outputs": [],
   "source": [
    "params = gs.best_params_"
   ]
  },
  {
   "cell_type": "code",
   "execution_count": 230,
   "metadata": {},
   "outputs": [
    {
     "data": {
      "text/plain": [
       "0.8511421844197116"
      ]
     },
     "execution_count": 230,
     "metadata": {},
     "output_type": "execute_result"
    }
   ],
   "source": [
    "gs.best_score_"
   ]
  },
  {
   "cell_type": "markdown",
   "metadata": {},
   "source": [
    "### Train again with best params"
   ]
  },
  {
   "cell_type": "code",
   "execution_count": 232,
   "metadata": {
    "scrolled": true
   },
   "outputs": [
    {
     "name": "stdout",
     "output_type": "stream",
     "text": [
      "[1]\ttraining's binary_logloss: 0.149781\ttraining's auc: 0.826577\tvalid_1's binary_logloss: 0.132772\tvalid_1's auc: 0.81292\n",
      "Training until validation scores don't improve for 50 rounds.\n",
      "[2]\ttraining's binary_logloss: 0.146805\ttraining's auc: 0.859602\tvalid_1's binary_logloss: 0.130297\tvalid_1's auc: 0.840082\n",
      "[3]\ttraining's binary_logloss: 0.143917\ttraining's auc: 0.866112\tvalid_1's binary_logloss: 0.12801\tvalid_1's auc: 0.840966\n",
      "[4]\ttraining's binary_logloss: 0.141578\ttraining's auc: 0.870236\tvalid_1's binary_logloss: 0.126252\tvalid_1's auc: 0.842101\n",
      "[5]\ttraining's binary_logloss: 0.139263\ttraining's auc: 0.870831\tvalid_1's binary_logloss: 0.124483\tvalid_1's auc: 0.842587\n",
      "[6]\ttraining's binary_logloss: 0.137152\ttraining's auc: 0.875176\tvalid_1's binary_logloss: 0.122842\tvalid_1's auc: 0.843532\n",
      "[7]\ttraining's binary_logloss: 0.13532\ttraining's auc: 0.875573\tvalid_1's binary_logloss: 0.121327\tvalid_1's auc: 0.843251\n",
      "[8]\ttraining's binary_logloss: 0.13372\ttraining's auc: 0.879008\tvalid_1's binary_logloss: 0.120259\tvalid_1's auc: 0.845183\n",
      "[9]\ttraining's binary_logloss: 0.132188\ttraining's auc: 0.880573\tvalid_1's binary_logloss: 0.119172\tvalid_1's auc: 0.845533\n",
      "[10]\ttraining's binary_logloss: 0.13076\ttraining's auc: 0.881983\tvalid_1's binary_logloss: 0.118158\tvalid_1's auc: 0.845202\n",
      "[11]\ttraining's binary_logloss: 0.129536\ttraining's auc: 0.882569\tvalid_1's binary_logloss: 0.117368\tvalid_1's auc: 0.845254\n",
      "[12]\ttraining's binary_logloss: 0.128375\ttraining's auc: 0.883017\tvalid_1's binary_logloss: 0.116584\tvalid_1's auc: 0.845756\n",
      "[13]\ttraining's binary_logloss: 0.1273\ttraining's auc: 0.883337\tvalid_1's binary_logloss: 0.115867\tvalid_1's auc: 0.846455\n",
      "[14]\ttraining's binary_logloss: 0.126312\ttraining's auc: 0.885128\tvalid_1's binary_logloss: 0.115131\tvalid_1's auc: 0.847525\n",
      "[15]\ttraining's binary_logloss: 0.125359\ttraining's auc: 0.885576\tvalid_1's binary_logloss: 0.114477\tvalid_1's auc: 0.848069\n",
      "[16]\ttraining's binary_logloss: 0.124442\ttraining's auc: 0.886909\tvalid_1's binary_logloss: 0.113791\tvalid_1's auc: 0.849762\n",
      "[17]\ttraining's binary_logloss: 0.123632\ttraining's auc: 0.887443\tvalid_1's binary_logloss: 0.113407\tvalid_1's auc: 0.848458\n",
      "[18]\ttraining's binary_logloss: 0.122874\ttraining's auc: 0.887923\tvalid_1's binary_logloss: 0.11302\tvalid_1's auc: 0.847788\n",
      "[19]\ttraining's binary_logloss: 0.122105\ttraining's auc: 0.889583\tvalid_1's binary_logloss: 0.112563\tvalid_1's auc: 0.848027\n",
      "[20]\ttraining's binary_logloss: 0.121435\ttraining's auc: 0.88976\tvalid_1's binary_logloss: 0.112083\tvalid_1's auc: 0.848868\n",
      "[21]\ttraining's binary_logloss: 0.120743\ttraining's auc: 0.890904\tvalid_1's binary_logloss: 0.111784\tvalid_1's auc: 0.848194\n",
      "[22]\ttraining's binary_logloss: 0.120131\ttraining's auc: 0.891558\tvalid_1's binary_logloss: 0.11156\tvalid_1's auc: 0.848981\n",
      "[23]\ttraining's binary_logloss: 0.119536\ttraining's auc: 0.892362\tvalid_1's binary_logloss: 0.111197\tvalid_1's auc: 0.850483\n",
      "[24]\ttraining's binary_logloss: 0.118983\ttraining's auc: 0.893118\tvalid_1's binary_logloss: 0.110935\tvalid_1's auc: 0.850271\n",
      "[25]\ttraining's binary_logloss: 0.118359\ttraining's auc: 0.894178\tvalid_1's binary_logloss: 0.11088\tvalid_1's auc: 0.849288\n",
      "[26]\ttraining's binary_logloss: 0.117789\ttraining's auc: 0.894946\tvalid_1's binary_logloss: 0.110841\tvalid_1's auc: 0.848649\n",
      "[27]\ttraining's binary_logloss: 0.117351\ttraining's auc: 0.895195\tvalid_1's binary_logloss: 0.110666\tvalid_1's auc: 0.849439\n",
      "[28]\ttraining's binary_logloss: 0.116872\ttraining's auc: 0.895442\tvalid_1's binary_logloss: 0.110414\tvalid_1's auc: 0.849289\n",
      "[29]\ttraining's binary_logloss: 0.116308\ttraining's auc: 0.89756\tvalid_1's binary_logloss: 0.110342\tvalid_1's auc: 0.849611\n",
      "[30]\ttraining's binary_logloss: 0.115854\ttraining's auc: 0.897934\tvalid_1's binary_logloss: 0.110142\tvalid_1's auc: 0.84959\n",
      "[31]\ttraining's binary_logloss: 0.1155\ttraining's auc: 0.898243\tvalid_1's binary_logloss: 0.10999\tvalid_1's auc: 0.849406\n",
      "[32]\ttraining's binary_logloss: 0.11509\ttraining's auc: 0.8987\tvalid_1's binary_logloss: 0.109824\tvalid_1's auc: 0.849528\n",
      "[33]\ttraining's binary_logloss: 0.114767\ttraining's auc: 0.89885\tvalid_1's binary_logloss: 0.109709\tvalid_1's auc: 0.849472\n",
      "[34]\ttraining's binary_logloss: 0.114354\ttraining's auc: 0.89922\tvalid_1's binary_logloss: 0.109473\tvalid_1's auc: 0.85009\n",
      "[35]\ttraining's binary_logloss: 0.114071\ttraining's auc: 0.899622\tvalid_1's binary_logloss: 0.109374\tvalid_1's auc: 0.850813\n",
      "[36]\ttraining's binary_logloss: 0.113741\ttraining's auc: 0.899836\tvalid_1's binary_logloss: 0.109238\tvalid_1's auc: 0.850859\n",
      "[37]\ttraining's binary_logloss: 0.113355\ttraining's auc: 0.900367\tvalid_1's binary_logloss: 0.109118\tvalid_1's auc: 0.850683\n",
      "[38]\ttraining's binary_logloss: 0.113083\ttraining's auc: 0.901123\tvalid_1's binary_logloss: 0.109024\tvalid_1's auc: 0.850563\n",
      "[39]\ttraining's binary_logloss: 0.112777\ttraining's auc: 0.90147\tvalid_1's binary_logloss: 0.108853\tvalid_1's auc: 0.851311\n",
      "[40]\ttraining's binary_logloss: 0.112412\ttraining's auc: 0.902304\tvalid_1's binary_logloss: 0.108757\tvalid_1's auc: 0.852155\n",
      "[41]\ttraining's binary_logloss: 0.11208\ttraining's auc: 0.903021\tvalid_1's binary_logloss: 0.108652\tvalid_1's auc: 0.852323\n",
      "[42]\ttraining's binary_logloss: 0.111801\ttraining's auc: 0.903335\tvalid_1's binary_logloss: 0.108579\tvalid_1's auc: 0.85215\n",
      "[43]\ttraining's binary_logloss: 0.111465\ttraining's auc: 0.904044\tvalid_1's binary_logloss: 0.108539\tvalid_1's auc: 0.852154\n",
      "[44]\ttraining's binary_logloss: 0.111127\ttraining's auc: 0.904548\tvalid_1's binary_logloss: 0.108502\tvalid_1's auc: 0.852119\n",
      "[45]\ttraining's binary_logloss: 0.110825\ttraining's auc: 0.905402\tvalid_1's binary_logloss: 0.108464\tvalid_1's auc: 0.853093\n",
      "[46]\ttraining's binary_logloss: 0.110571\ttraining's auc: 0.905919\tvalid_1's binary_logloss: 0.108463\tvalid_1's auc: 0.853352\n",
      "[47]\ttraining's binary_logloss: 0.110301\ttraining's auc: 0.906524\tvalid_1's binary_logloss: 0.108396\tvalid_1's auc: 0.853545\n",
      "[48]\ttraining's binary_logloss: 0.109958\ttraining's auc: 0.907085\tvalid_1's binary_logloss: 0.108391\tvalid_1's auc: 0.853939\n",
      "[49]\ttraining's binary_logloss: 0.109727\ttraining's auc: 0.907408\tvalid_1's binary_logloss: 0.108319\tvalid_1's auc: 0.854269\n",
      "[50]\ttraining's binary_logloss: 0.109525\ttraining's auc: 0.90772\tvalid_1's binary_logloss: 0.108259\tvalid_1's auc: 0.854339\n",
      "[51]\ttraining's binary_logloss: 0.109287\ttraining's auc: 0.908052\tvalid_1's binary_logloss: 0.108185\tvalid_1's auc: 0.855322\n",
      "[52]\ttraining's binary_logloss: 0.108984\ttraining's auc: 0.908596\tvalid_1's binary_logloss: 0.108253\tvalid_1's auc: 0.855012\n",
      "[53]\ttraining's binary_logloss: 0.108767\ttraining's auc: 0.908728\tvalid_1's binary_logloss: 0.108192\tvalid_1's auc: 0.855437\n",
      "[54]\ttraining's binary_logloss: 0.108513\ttraining's auc: 0.909611\tvalid_1's binary_logloss: 0.108119\tvalid_1's auc: 0.856238\n",
      "[55]\ttraining's binary_logloss: 0.108298\ttraining's auc: 0.909928\tvalid_1's binary_logloss: 0.108035\tvalid_1's auc: 0.856879\n",
      "[56]\ttraining's binary_logloss: 0.108062\ttraining's auc: 0.910722\tvalid_1's binary_logloss: 0.107977\tvalid_1's auc: 0.857785\n",
      "[57]\ttraining's binary_logloss: 0.107778\ttraining's auc: 0.911282\tvalid_1's binary_logloss: 0.107979\tvalid_1's auc: 0.857663\n",
      "[58]\ttraining's binary_logloss: 0.107534\ttraining's auc: 0.91173\tvalid_1's binary_logloss: 0.107983\tvalid_1's auc: 0.85782\n",
      "[59]\ttraining's binary_logloss: 0.107321\ttraining's auc: 0.911827\tvalid_1's binary_logloss: 0.107952\tvalid_1's auc: 0.857559\n",
      "[60]\ttraining's binary_logloss: 0.107136\ttraining's auc: 0.912241\tvalid_1's binary_logloss: 0.107898\tvalid_1's auc: 0.858192\n",
      "[61]\ttraining's binary_logloss: 0.106872\ttraining's auc: 0.912754\tvalid_1's binary_logloss: 0.107941\tvalid_1's auc: 0.85828\n",
      "[62]\ttraining's binary_logloss: 0.106672\ttraining's auc: 0.912879\tvalid_1's binary_logloss: 0.107926\tvalid_1's auc: 0.858299\n",
      "[63]\ttraining's binary_logloss: 0.106458\ttraining's auc: 0.913165\tvalid_1's binary_logloss: 0.107883\tvalid_1's auc: 0.858387\n",
      "[64]\ttraining's binary_logloss: 0.10621\ttraining's auc: 0.913723\tvalid_1's binary_logloss: 0.107853\tvalid_1's auc: 0.858828\n",
      "[65]\ttraining's binary_logloss: 0.105975\ttraining's auc: 0.914107\tvalid_1's binary_logloss: 0.107862\tvalid_1's auc: 0.858703\n",
      "[66]\ttraining's binary_logloss: 0.105778\ttraining's auc: 0.914706\tvalid_1's binary_logloss: 0.107851\tvalid_1's auc: 0.858685\n",
      "[67]\ttraining's binary_logloss: 0.1056\ttraining's auc: 0.915125\tvalid_1's binary_logloss: 0.107804\tvalid_1's auc: 0.859259\n",
      "[68]\ttraining's binary_logloss: 0.1054\ttraining's auc: 0.915455\tvalid_1's binary_logloss: 0.10775\tvalid_1's auc: 0.859397\n",
      "[69]\ttraining's binary_logloss: 0.105202\ttraining's auc: 0.915961\tvalid_1's binary_logloss: 0.107718\tvalid_1's auc: 0.859464\n",
      "[70]\ttraining's binary_logloss: 0.105011\ttraining's auc: 0.916305\tvalid_1's binary_logloss: 0.107743\tvalid_1's auc: 0.859501\n",
      "[71]\ttraining's binary_logloss: 0.10482\ttraining's auc: 0.916591\tvalid_1's binary_logloss: 0.107767\tvalid_1's auc: 0.859511\n",
      "[72]\ttraining's binary_logloss: 0.104678\ttraining's auc: 0.917081\tvalid_1's binary_logloss: 0.107736\tvalid_1's auc: 0.859569\n",
      "[73]\ttraining's binary_logloss: 0.10448\ttraining's auc: 0.917422\tvalid_1's binary_logloss: 0.10773\tvalid_1's auc: 0.859885\n",
      "[74]\ttraining's binary_logloss: 0.104254\ttraining's auc: 0.917906\tvalid_1's binary_logloss: 0.107711\tvalid_1's auc: 0.860027\n",
      "[75]\ttraining's binary_logloss: 0.104078\ttraining's auc: 0.918395\tvalid_1's binary_logloss: 0.107713\tvalid_1's auc: 0.860015\n",
      "[76]\ttraining's binary_logloss: 0.1039\ttraining's auc: 0.91897\tvalid_1's binary_logloss: 0.107713\tvalid_1's auc: 0.86014\n",
      "[77]\ttraining's binary_logloss: 0.103728\ttraining's auc: 0.919383\tvalid_1's binary_logloss: 0.107733\tvalid_1's auc: 0.860064\n",
      "[78]\ttraining's binary_logloss: 0.103564\ttraining's auc: 0.919623\tvalid_1's binary_logloss: 0.10777\tvalid_1's auc: 0.860075\n",
      "[79]\ttraining's binary_logloss: 0.103422\ttraining's auc: 0.919811\tvalid_1's binary_logloss: 0.107717\tvalid_1's auc: 0.860369\n",
      "[80]\ttraining's binary_logloss: 0.103245\ttraining's auc: 0.920101\tvalid_1's binary_logloss: 0.107627\tvalid_1's auc: 0.860646\n",
      "[81]\ttraining's binary_logloss: 0.103048\ttraining's auc: 0.920551\tvalid_1's binary_logloss: 0.107582\tvalid_1's auc: 0.861227\n",
      "[82]\ttraining's binary_logloss: 0.102881\ttraining's auc: 0.920766\tvalid_1's binary_logloss: 0.107674\tvalid_1's auc: 0.860591\n",
      "[83]\ttraining's binary_logloss: 0.102729\ttraining's auc: 0.921096\tvalid_1's binary_logloss: 0.107643\tvalid_1's auc: 0.860806\n",
      "[84]\ttraining's binary_logloss: 0.102503\ttraining's auc: 0.921647\tvalid_1's binary_logloss: 0.10775\tvalid_1's auc: 0.860475\n",
      "[85]\ttraining's binary_logloss: 0.102341\ttraining's auc: 0.921925\tvalid_1's binary_logloss: 0.107762\tvalid_1's auc: 0.860003\n",
      "[86]\ttraining's binary_logloss: 0.102193\ttraining's auc: 0.922177\tvalid_1's binary_logloss: 0.107812\tvalid_1's auc: 0.859668\n",
      "[87]\ttraining's binary_logloss: 0.102028\ttraining's auc: 0.922362\tvalid_1's binary_logloss: 0.107807\tvalid_1's auc: 0.859522\n",
      "[88]\ttraining's binary_logloss: 0.101844\ttraining's auc: 0.922672\tvalid_1's binary_logloss: 0.107833\tvalid_1's auc: 0.859421\n",
      "[89]\ttraining's binary_logloss: 0.101683\ttraining's auc: 0.922893\tvalid_1's binary_logloss: 0.107802\tvalid_1's auc: 0.859992\n",
      "[90]\ttraining's binary_logloss: 0.101558\ttraining's auc: 0.923092\tvalid_1's binary_logloss: 0.107794\tvalid_1's auc: 0.860295\n",
      "[91]\ttraining's binary_logloss: 0.101403\ttraining's auc: 0.923564\tvalid_1's binary_logloss: 0.107797\tvalid_1's auc: 0.859777\n",
      "[92]\ttraining's binary_logloss: 0.101239\ttraining's auc: 0.923806\tvalid_1's binary_logloss: 0.107853\tvalid_1's auc: 0.859652\n"
     ]
    },
    {
     "name": "stdout",
     "output_type": "stream",
     "text": [
      "[93]\ttraining's binary_logloss: 0.101092\ttraining's auc: 0.924003\tvalid_1's binary_logloss: 0.1078\tvalid_1's auc: 0.859696\n",
      "[94]\ttraining's binary_logloss: 0.100929\ttraining's auc: 0.924215\tvalid_1's binary_logloss: 0.107856\tvalid_1's auc: 0.859242\n",
      "[95]\ttraining's binary_logloss: 0.100804\ttraining's auc: 0.924534\tvalid_1's binary_logloss: 0.107849\tvalid_1's auc: 0.859349\n",
      "[96]\ttraining's binary_logloss: 0.100617\ttraining's auc: 0.924908\tvalid_1's binary_logloss: 0.107863\tvalid_1's auc: 0.859314\n",
      "[97]\ttraining's binary_logloss: 0.100478\ttraining's auc: 0.925114\tvalid_1's binary_logloss: 0.107847\tvalid_1's auc: 0.85927\n",
      "[98]\ttraining's binary_logloss: 0.100336\ttraining's auc: 0.925416\tvalid_1's binary_logloss: 0.107899\tvalid_1's auc: 0.858909\n",
      "[99]\ttraining's binary_logloss: 0.100166\ttraining's auc: 0.925806\tvalid_1's binary_logloss: 0.107952\tvalid_1's auc: 0.858893\n",
      "[100]\ttraining's binary_logloss: 0.100055\ttraining's auc: 0.926035\tvalid_1's binary_logloss: 0.107918\tvalid_1's auc: 0.859055\n",
      "[101]\ttraining's binary_logloss: 0.0998364\ttraining's auc: 0.926374\tvalid_1's binary_logloss: 0.10792\tvalid_1's auc: 0.859016\n",
      "[102]\ttraining's binary_logloss: 0.0996722\ttraining's auc: 0.926657\tvalid_1's binary_logloss: 0.107921\tvalid_1's auc: 0.85884\n",
      "[103]\ttraining's binary_logloss: 0.099568\ttraining's auc: 0.92688\tvalid_1's binary_logloss: 0.107925\tvalid_1's auc: 0.858891\n",
      "[104]\ttraining's binary_logloss: 0.0994003\ttraining's auc: 0.927278\tvalid_1's binary_logloss: 0.107918\tvalid_1's auc: 0.858976\n",
      "[105]\ttraining's binary_logloss: 0.099239\ttraining's auc: 0.927594\tvalid_1's binary_logloss: 0.107901\tvalid_1's auc: 0.859182\n",
      "[106]\ttraining's binary_logloss: 0.0991231\ttraining's auc: 0.927804\tvalid_1's binary_logloss: 0.107892\tvalid_1's auc: 0.859222\n",
      "[107]\ttraining's binary_logloss: 0.0989969\ttraining's auc: 0.928001\tvalid_1's binary_logloss: 0.107911\tvalid_1's auc: 0.859159\n",
      "[108]\ttraining's binary_logloss: 0.0987965\ttraining's auc: 0.92842\tvalid_1's binary_logloss: 0.10798\tvalid_1's auc: 0.859004\n",
      "[109]\ttraining's binary_logloss: 0.0986956\ttraining's auc: 0.928612\tvalid_1's binary_logloss: 0.108012\tvalid_1's auc: 0.858969\n",
      "[110]\ttraining's binary_logloss: 0.0985311\ttraining's auc: 0.928973\tvalid_1's binary_logloss: 0.107984\tvalid_1's auc: 0.859094\n",
      "[111]\ttraining's binary_logloss: 0.0984331\ttraining's auc: 0.929173\tvalid_1's binary_logloss: 0.107992\tvalid_1's auc: 0.859081\n",
      "[112]\ttraining's binary_logloss: 0.0982968\ttraining's auc: 0.929368\tvalid_1's binary_logloss: 0.107992\tvalid_1's auc: 0.859201\n",
      "[113]\ttraining's binary_logloss: 0.0981805\ttraining's auc: 0.929605\tvalid_1's binary_logloss: 0.108003\tvalid_1's auc: 0.858847\n",
      "[114]\ttraining's binary_logloss: 0.0980225\ttraining's auc: 0.929874\tvalid_1's binary_logloss: 0.108005\tvalid_1's auc: 0.858678\n",
      "[115]\ttraining's binary_logloss: 0.0978284\ttraining's auc: 0.930213\tvalid_1's binary_logloss: 0.107944\tvalid_1's auc: 0.859122\n",
      "[116]\ttraining's binary_logloss: 0.0977141\ttraining's auc: 0.930327\tvalid_1's binary_logloss: 0.10799\tvalid_1's auc: 0.858821\n",
      "[117]\ttraining's binary_logloss: 0.0975849\ttraining's auc: 0.930638\tvalid_1's binary_logloss: 0.107976\tvalid_1's auc: 0.858993\n",
      "[118]\ttraining's binary_logloss: 0.0974348\ttraining's auc: 0.931101\tvalid_1's binary_logloss: 0.10798\tvalid_1's auc: 0.858833\n",
      "[119]\ttraining's binary_logloss: 0.0972882\ttraining's auc: 0.931427\tvalid_1's binary_logloss: 0.108058\tvalid_1's auc: 0.858717\n",
      "[120]\ttraining's binary_logloss: 0.097141\ttraining's auc: 0.93177\tvalid_1's binary_logloss: 0.108072\tvalid_1's auc: 0.85862\n",
      "[121]\ttraining's binary_logloss: 0.0970223\ttraining's auc: 0.9319\tvalid_1's binary_logloss: 0.1081\tvalid_1's auc: 0.858509\n",
      "[122]\ttraining's binary_logloss: 0.0969013\ttraining's auc: 0.932103\tvalid_1's binary_logloss: 0.108086\tvalid_1's auc: 0.858727\n",
      "[123]\ttraining's binary_logloss: 0.096762\ttraining's auc: 0.932301\tvalid_1's binary_logloss: 0.108173\tvalid_1's auc: 0.858239\n",
      "[124]\ttraining's binary_logloss: 0.0966406\ttraining's auc: 0.932475\tvalid_1's binary_logloss: 0.108171\tvalid_1's auc: 0.858107\n",
      "[125]\ttraining's binary_logloss: 0.0964789\ttraining's auc: 0.932871\tvalid_1's binary_logloss: 0.108122\tvalid_1's auc: 0.858289\n",
      "[126]\ttraining's binary_logloss: 0.0963636\ttraining's auc: 0.933029\tvalid_1's binary_logloss: 0.108121\tvalid_1's auc: 0.858421\n",
      "[127]\ttraining's binary_logloss: 0.0962774\ttraining's auc: 0.933173\tvalid_1's binary_logloss: 0.108105\tvalid_1's auc: 0.858498\n",
      "[128]\ttraining's binary_logloss: 0.0961616\ttraining's auc: 0.933317\tvalid_1's binary_logloss: 0.10812\tvalid_1's auc: 0.858324\n",
      "[129]\ttraining's binary_logloss: 0.0960223\ttraining's auc: 0.933682\tvalid_1's binary_logloss: 0.108085\tvalid_1's auc: 0.858627\n",
      "[130]\ttraining's binary_logloss: 0.0958831\ttraining's auc: 0.933971\tvalid_1's binary_logloss: 0.108113\tvalid_1's auc: 0.858477\n",
      "[131]\ttraining's binary_logloss: 0.0957456\ttraining's auc: 0.934263\tvalid_1's binary_logloss: 0.108117\tvalid_1's auc: 0.858419\n",
      "Early stopping, best iteration is:\n",
      "[81]\ttraining's binary_logloss: 0.103048\ttraining's auc: 0.920551\tvalid_1's binary_logloss: 0.107582\tvalid_1's auc: 0.861227\n",
      "****************************************************************************************************\n",
      "[1]\ttraining's binary_logloss: 0.147951\ttraining's auc: 0.832519\tvalid_1's binary_logloss: 0.136145\tvalid_1's auc: 0.790728\n",
      "Training until validation scores don't improve for 50 rounds.\n",
      "[2]\ttraining's binary_logloss: 0.14463\ttraining's auc: 0.846096\tvalid_1's binary_logloss: 0.133635\tvalid_1's auc: 0.79895\n",
      "[3]\ttraining's binary_logloss: 0.141639\ttraining's auc: 0.8559\tvalid_1's binary_logloss: 0.131335\tvalid_1's auc: 0.810103\n",
      "[4]\ttraining's binary_logloss: 0.139289\ttraining's auc: 0.872169\tvalid_1's binary_logloss: 0.129386\tvalid_1's auc: 0.825814\n",
      "[5]\ttraining's binary_logloss: 0.136902\ttraining's auc: 0.872728\tvalid_1's binary_logloss: 0.127793\tvalid_1's auc: 0.822568\n",
      "[6]\ttraining's binary_logloss: 0.134795\ttraining's auc: 0.874903\tvalid_1's binary_logloss: 0.126323\tvalid_1's auc: 0.820951\n",
      "[7]\ttraining's binary_logloss: 0.132863\ttraining's auc: 0.878336\tvalid_1's binary_logloss: 0.124972\tvalid_1's auc: 0.824786\n",
      "[8]\ttraining's binary_logloss: 0.131255\ttraining's auc: 0.879103\tvalid_1's binary_logloss: 0.123906\tvalid_1's auc: 0.827933\n",
      "[9]\ttraining's binary_logloss: 0.129715\ttraining's auc: 0.880461\tvalid_1's binary_logloss: 0.122859\tvalid_1's auc: 0.831274\n",
      "[10]\ttraining's binary_logloss: 0.128309\ttraining's auc: 0.881798\tvalid_1's binary_logloss: 0.121862\tvalid_1's auc: 0.83384\n",
      "[11]\ttraining's binary_logloss: 0.127094\ttraining's auc: 0.881907\tvalid_1's binary_logloss: 0.120845\tvalid_1's auc: 0.835498\n",
      "[12]\ttraining's binary_logloss: 0.12587\ttraining's auc: 0.884761\tvalid_1's binary_logloss: 0.11997\tvalid_1's auc: 0.835811\n",
      "[13]\ttraining's binary_logloss: 0.12477\ttraining's auc: 0.885403\tvalid_1's binary_logloss: 0.119312\tvalid_1's auc: 0.835616\n",
      "[14]\ttraining's binary_logloss: 0.123747\ttraining's auc: 0.886081\tvalid_1's binary_logloss: 0.118676\tvalid_1's auc: 0.835775\n",
      "[15]\ttraining's binary_logloss: 0.122832\ttraining's auc: 0.886672\tvalid_1's binary_logloss: 0.118133\tvalid_1's auc: 0.835744\n",
      "[16]\ttraining's binary_logloss: 0.121937\ttraining's auc: 0.887619\tvalid_1's binary_logloss: 0.117525\tvalid_1's auc: 0.836427\n",
      "[17]\ttraining's binary_logloss: 0.121126\ttraining's auc: 0.8883\tvalid_1's binary_logloss: 0.117097\tvalid_1's auc: 0.836325\n",
      "[18]\ttraining's binary_logloss: 0.120419\ttraining's auc: 0.889501\tvalid_1's binary_logloss: 0.116682\tvalid_1's auc: 0.838222\n",
      "[19]\ttraining's binary_logloss: 0.119716\ttraining's auc: 0.889781\tvalid_1's binary_logloss: 0.116294\tvalid_1's auc: 0.838166\n",
      "[20]\ttraining's binary_logloss: 0.119057\ttraining's auc: 0.891861\tvalid_1's binary_logloss: 0.115906\tvalid_1's auc: 0.839603\n",
      "[21]\ttraining's binary_logloss: 0.118474\ttraining's auc: 0.892026\tvalid_1's binary_logloss: 0.115587\tvalid_1's auc: 0.839737\n",
      "[22]\ttraining's binary_logloss: 0.117865\ttraining's auc: 0.893059\tvalid_1's binary_logloss: 0.115318\tvalid_1's auc: 0.840703\n",
      "[23]\ttraining's binary_logloss: 0.117264\ttraining's auc: 0.894833\tvalid_1's binary_logloss: 0.115102\tvalid_1's auc: 0.842365\n",
      "[24]\ttraining's binary_logloss: 0.116769\ttraining's auc: 0.895334\tvalid_1's binary_logloss: 0.114839\tvalid_1's auc: 0.842267\n",
      "[25]\ttraining's binary_logloss: 0.116281\ttraining's auc: 0.896027\tvalid_1's binary_logloss: 0.114655\tvalid_1's auc: 0.843321\n",
      "[26]\ttraining's binary_logloss: 0.115777\ttraining's auc: 0.896923\tvalid_1's binary_logloss: 0.114374\tvalid_1's auc: 0.84419\n",
      "[27]\ttraining's binary_logloss: 0.115354\ttraining's auc: 0.897201\tvalid_1's binary_logloss: 0.114194\tvalid_1's auc: 0.844649\n",
      "[28]\ttraining's binary_logloss: 0.11491\ttraining's auc: 0.897826\tvalid_1's binary_logloss: 0.114009\tvalid_1's auc: 0.844845\n",
      "[29]\ttraining's binary_logloss: 0.11448\ttraining's auc: 0.898522\tvalid_1's binary_logloss: 0.113771\tvalid_1's auc: 0.845368\n",
      "[30]\ttraining's binary_logloss: 0.114085\ttraining's auc: 0.898899\tvalid_1's binary_logloss: 0.113632\tvalid_1's auc: 0.844898\n",
      "[31]\ttraining's binary_logloss: 0.113698\ttraining's auc: 0.899568\tvalid_1's binary_logloss: 0.113394\tvalid_1's auc: 0.846112\n",
      "[32]\ttraining's binary_logloss: 0.11335\ttraining's auc: 0.900149\tvalid_1's binary_logloss: 0.113144\tvalid_1's auc: 0.846806\n",
      "[33]\ttraining's binary_logloss: 0.112993\ttraining's auc: 0.90079\tvalid_1's binary_logloss: 0.112903\tvalid_1's auc: 0.848107\n",
      "[34]\ttraining's binary_logloss: 0.112641\ttraining's auc: 0.901271\tvalid_1's binary_logloss: 0.112698\tvalid_1's auc: 0.848522\n",
      "[35]\ttraining's binary_logloss: 0.112302\ttraining's auc: 0.901884\tvalid_1's binary_logloss: 0.112629\tvalid_1's auc: 0.848019\n",
      "[36]\ttraining's binary_logloss: 0.111948\ttraining's auc: 0.902588\tvalid_1's binary_logloss: 0.112479\tvalid_1's auc: 0.847569\n",
      "[37]\ttraining's binary_logloss: 0.111635\ttraining's auc: 0.902895\tvalid_1's binary_logloss: 0.112296\tvalid_1's auc: 0.84793\n",
      "[38]\ttraining's binary_logloss: 0.111341\ttraining's auc: 0.903252\tvalid_1's binary_logloss: 0.112232\tvalid_1's auc: 0.847727\n",
      "[39]\ttraining's binary_logloss: 0.111077\ttraining's auc: 0.903672\tvalid_1's binary_logloss: 0.112167\tvalid_1's auc: 0.848431\n",
      "[40]\ttraining's binary_logloss: 0.110802\ttraining's auc: 0.904551\tvalid_1's binary_logloss: 0.112033\tvalid_1's auc: 0.84919\n",
      "[41]\ttraining's binary_logloss: 0.11054\ttraining's auc: 0.905353\tvalid_1's binary_logloss: 0.111934\tvalid_1's auc: 0.849743\n"
     ]
    },
    {
     "name": "stdout",
     "output_type": "stream",
     "text": [
      "[42]\ttraining's binary_logloss: 0.110243\ttraining's auc: 0.905872\tvalid_1's binary_logloss: 0.111826\tvalid_1's auc: 0.85028\n",
      "[43]\ttraining's binary_logloss: 0.109944\ttraining's auc: 0.906747\tvalid_1's binary_logloss: 0.111653\tvalid_1's auc: 0.850968\n",
      "[44]\ttraining's binary_logloss: 0.109642\ttraining's auc: 0.907582\tvalid_1's binary_logloss: 0.111615\tvalid_1's auc: 0.850554\n",
      "[45]\ttraining's binary_logloss: 0.109385\ttraining's auc: 0.908082\tvalid_1's binary_logloss: 0.111502\tvalid_1's auc: 0.850104\n",
      "[46]\ttraining's binary_logloss: 0.109117\ttraining's auc: 0.908363\tvalid_1's binary_logloss: 0.111351\tvalid_1's auc: 0.850646\n",
      "[47]\ttraining's binary_logloss: 0.108909\ttraining's auc: 0.908449\tvalid_1's binary_logloss: 0.111322\tvalid_1's auc: 0.850863\n",
      "[48]\ttraining's binary_logloss: 0.108689\ttraining's auc: 0.908672\tvalid_1's binary_logloss: 0.111322\tvalid_1's auc: 0.85065\n",
      "[49]\ttraining's binary_logloss: 0.108464\ttraining's auc: 0.909119\tvalid_1's binary_logloss: 0.111233\tvalid_1's auc: 0.850646\n",
      "[50]\ttraining's binary_logloss: 0.108183\ttraining's auc: 0.909891\tvalid_1's binary_logloss: 0.111137\tvalid_1's auc: 0.851102\n",
      "[51]\ttraining's binary_logloss: 0.107916\ttraining's auc: 0.910282\tvalid_1's binary_logloss: 0.110987\tvalid_1's auc: 0.851794\n",
      "[52]\ttraining's binary_logloss: 0.107674\ttraining's auc: 0.911054\tvalid_1's binary_logloss: 0.110969\tvalid_1's auc: 0.851178\n",
      "[53]\ttraining's binary_logloss: 0.107434\ttraining's auc: 0.911588\tvalid_1's binary_logloss: 0.110957\tvalid_1's auc: 0.850908\n",
      "[54]\ttraining's binary_logloss: 0.107238\ttraining's auc: 0.911738\tvalid_1's binary_logloss: 0.110987\tvalid_1's auc: 0.850478\n",
      "[55]\ttraining's binary_logloss: 0.106987\ttraining's auc: 0.912313\tvalid_1's binary_logloss: 0.110872\tvalid_1's auc: 0.850928\n",
      "[56]\ttraining's binary_logloss: 0.10672\ttraining's auc: 0.91316\tvalid_1's binary_logloss: 0.110778\tvalid_1's auc: 0.851071\n",
      "[57]\ttraining's binary_logloss: 0.106536\ttraining's auc: 0.91353\tvalid_1's binary_logloss: 0.110751\tvalid_1's auc: 0.850914\n",
      "[58]\ttraining's binary_logloss: 0.106326\ttraining's auc: 0.913836\tvalid_1's binary_logloss: 0.110642\tvalid_1's auc: 0.8513\n",
      "[59]\ttraining's binary_logloss: 0.106159\ttraining's auc: 0.914098\tvalid_1's binary_logloss: 0.110543\tvalid_1's auc: 0.851757\n",
      "[60]\ttraining's binary_logloss: 0.105907\ttraining's auc: 0.914849\tvalid_1's binary_logloss: 0.110488\tvalid_1's auc: 0.851699\n",
      "[61]\ttraining's binary_logloss: 0.105692\ttraining's auc: 0.915503\tvalid_1's binary_logloss: 0.110513\tvalid_1's auc: 0.851312\n",
      "[62]\ttraining's binary_logloss: 0.105535\ttraining's auc: 0.915735\tvalid_1's binary_logloss: 0.110473\tvalid_1's auc: 0.851529\n",
      "[63]\ttraining's binary_logloss: 0.105338\ttraining's auc: 0.91602\tvalid_1's binary_logloss: 0.110451\tvalid_1's auc: 0.851278\n",
      "[64]\ttraining's binary_logloss: 0.105084\ttraining's auc: 0.916824\tvalid_1's binary_logloss: 0.11036\tvalid_1's auc: 0.851941\n",
      "[65]\ttraining's binary_logloss: 0.104862\ttraining's auc: 0.917197\tvalid_1's binary_logloss: 0.110346\tvalid_1's auc: 0.852106\n",
      "[66]\ttraining's binary_logloss: 0.104653\ttraining's auc: 0.917647\tvalid_1's binary_logloss: 0.1103\tvalid_1's auc: 0.851891\n",
      "[67]\ttraining's binary_logloss: 0.104434\ttraining's auc: 0.918251\tvalid_1's binary_logloss: 0.110231\tvalid_1's auc: 0.852344\n",
      "[68]\ttraining's binary_logloss: 0.104264\ttraining's auc: 0.918712\tvalid_1's binary_logloss: 0.110229\tvalid_1's auc: 0.852088\n",
      "[69]\ttraining's binary_logloss: 0.10404\ttraining's auc: 0.919028\tvalid_1's binary_logloss: 0.110186\tvalid_1's auc: 0.85235\n",
      "[70]\ttraining's binary_logloss: 0.103897\ttraining's auc: 0.919251\tvalid_1's binary_logloss: 0.110136\tvalid_1's auc: 0.852845\n",
      "[71]\ttraining's binary_logloss: 0.103713\ttraining's auc: 0.91947\tvalid_1's binary_logloss: 0.110054\tvalid_1's auc: 0.853212\n",
      "[72]\ttraining's binary_logloss: 0.103496\ttraining's auc: 0.92016\tvalid_1's binary_logloss: 0.109989\tvalid_1's auc: 0.853304\n",
      "[73]\ttraining's binary_logloss: 0.103265\ttraining's auc: 0.920571\tvalid_1's binary_logloss: 0.10995\tvalid_1's auc: 0.85319\n",
      "[74]\ttraining's binary_logloss: 0.103052\ttraining's auc: 0.92109\tvalid_1's binary_logloss: 0.109939\tvalid_1's auc: 0.852722\n",
      "[75]\ttraining's binary_logloss: 0.102839\ttraining's auc: 0.921481\tvalid_1's binary_logloss: 0.109903\tvalid_1's auc: 0.852798\n",
      "[76]\ttraining's binary_logloss: 0.102642\ttraining's auc: 0.921997\tvalid_1's binary_logloss: 0.109886\tvalid_1's auc: 0.852545\n",
      "[77]\ttraining's binary_logloss: 0.102476\ttraining's auc: 0.922287\tvalid_1's binary_logloss: 0.10984\tvalid_1's auc: 0.852429\n",
      "[78]\ttraining's binary_logloss: 0.102301\ttraining's auc: 0.92271\tvalid_1's binary_logloss: 0.109791\tvalid_1's auc: 0.852599\n",
      "[79]\ttraining's binary_logloss: 0.102106\ttraining's auc: 0.923166\tvalid_1's binary_logloss: 0.109795\tvalid_1's auc: 0.852299\n",
      "[80]\ttraining's binary_logloss: 0.101915\ttraining's auc: 0.923583\tvalid_1's binary_logloss: 0.109764\tvalid_1's auc: 0.852549\n",
      "[81]\ttraining's binary_logloss: 0.101722\ttraining's auc: 0.923919\tvalid_1's binary_logloss: 0.109734\tvalid_1's auc: 0.853033\n",
      "[82]\ttraining's binary_logloss: 0.101565\ttraining's auc: 0.924357\tvalid_1's binary_logloss: 0.109772\tvalid_1's auc: 0.852617\n",
      "[83]\ttraining's binary_logloss: 0.101404\ttraining's auc: 0.924702\tvalid_1's binary_logloss: 0.109777\tvalid_1's auc: 0.852377\n",
      "[84]\ttraining's binary_logloss: 0.101249\ttraining's auc: 0.924921\tvalid_1's binary_logloss: 0.10969\tvalid_1's auc: 0.852758\n",
      "[85]\ttraining's binary_logloss: 0.101071\ttraining's auc: 0.925184\tvalid_1's binary_logloss: 0.109656\tvalid_1's auc: 0.85269\n",
      "[86]\ttraining's binary_logloss: 0.100866\ttraining's auc: 0.925633\tvalid_1's binary_logloss: 0.109667\tvalid_1's auc: 0.852576\n",
      "[87]\ttraining's binary_logloss: 0.100712\ttraining's auc: 0.925811\tvalid_1's binary_logloss: 0.10961\tvalid_1's auc: 0.852946\n",
      "[88]\ttraining's binary_logloss: 0.100575\ttraining's auc: 0.926082\tvalid_1's binary_logloss: 0.109584\tvalid_1's auc: 0.852776\n",
      "[89]\ttraining's binary_logloss: 0.100379\ttraining's auc: 0.926504\tvalid_1's binary_logloss: 0.109541\tvalid_1's auc: 0.852959\n",
      "[90]\ttraining's binary_logloss: 0.100194\ttraining's auc: 0.92701\tvalid_1's binary_logloss: 0.109574\tvalid_1's auc: 0.852825\n",
      "[91]\ttraining's binary_logloss: 0.100024\ttraining's auc: 0.927327\tvalid_1's binary_logloss: 0.10959\tvalid_1's auc: 0.852997\n",
      "[92]\ttraining's binary_logloss: 0.0998572\ttraining's auc: 0.927866\tvalid_1's binary_logloss: 0.109577\tvalid_1's auc: 0.852863\n",
      "[93]\ttraining's binary_logloss: 0.0996802\ttraining's auc: 0.928187\tvalid_1's binary_logloss: 0.109567\tvalid_1's auc: 0.85327\n",
      "[94]\ttraining's binary_logloss: 0.099528\ttraining's auc: 0.928485\tvalid_1's binary_logloss: 0.109608\tvalid_1's auc: 0.853067\n",
      "[95]\ttraining's binary_logloss: 0.0993568\ttraining's auc: 0.92887\tvalid_1's binary_logloss: 0.109636\tvalid_1's auc: 0.852908\n",
      "[96]\ttraining's binary_logloss: 0.0991518\ttraining's auc: 0.929436\tvalid_1's binary_logloss: 0.109649\tvalid_1's auc: 0.852704\n",
      "[97]\ttraining's binary_logloss: 0.0990165\ttraining's auc: 0.929774\tvalid_1's binary_logloss: 0.109666\tvalid_1's auc: 0.852708\n",
      "[98]\ttraining's binary_logloss: 0.098884\ttraining's auc: 0.929982\tvalid_1's binary_logloss: 0.109642\tvalid_1's auc: 0.852746\n",
      "[99]\ttraining's binary_logloss: 0.0987294\ttraining's auc: 0.930223\tvalid_1's binary_logloss: 0.109668\tvalid_1's auc: 0.852673\n",
      "[100]\ttraining's binary_logloss: 0.0985572\ttraining's auc: 0.930663\tvalid_1's binary_logloss: 0.109655\tvalid_1's auc: 0.852619\n",
      "[101]\ttraining's binary_logloss: 0.0983811\ttraining's auc: 0.931041\tvalid_1's binary_logloss: 0.109673\tvalid_1's auc: 0.852476\n",
      "[102]\ttraining's binary_logloss: 0.0982324\ttraining's auc: 0.931369\tvalid_1's binary_logloss: 0.109682\tvalid_1's auc: 0.852444\n",
      "[103]\ttraining's binary_logloss: 0.0981048\ttraining's auc: 0.931454\tvalid_1's binary_logloss: 0.109636\tvalid_1's auc: 0.852646\n",
      "[104]\ttraining's binary_logloss: 0.0979235\ttraining's auc: 0.931862\tvalid_1's binary_logloss: 0.109593\tvalid_1's auc: 0.852563\n",
      "[105]\ttraining's binary_logloss: 0.0977833\ttraining's auc: 0.932181\tvalid_1's binary_logloss: 0.109593\tvalid_1's auc: 0.85276\n",
      "[106]\ttraining's binary_logloss: 0.0976378\ttraining's auc: 0.932478\tvalid_1's binary_logloss: 0.109596\tvalid_1's auc: 0.852583\n",
      "[107]\ttraining's binary_logloss: 0.0974712\ttraining's auc: 0.932896\tvalid_1's binary_logloss: 0.109583\tvalid_1's auc: 0.852632\n",
      "[108]\ttraining's binary_logloss: 0.0973192\ttraining's auc: 0.933082\tvalid_1's binary_logloss: 0.109586\tvalid_1's auc: 0.852852\n",
      "[109]\ttraining's binary_logloss: 0.0971474\ttraining's auc: 0.933316\tvalid_1's binary_logloss: 0.109567\tvalid_1's auc: 0.852905\n",
      "[110]\ttraining's binary_logloss: 0.0969858\ttraining's auc: 0.933708\tvalid_1's binary_logloss: 0.109561\tvalid_1's auc: 0.852742\n",
      "[111]\ttraining's binary_logloss: 0.0968682\ttraining's auc: 0.933961\tvalid_1's binary_logloss: 0.109548\tvalid_1's auc: 0.852793\n",
      "[112]\ttraining's binary_logloss: 0.0966684\ttraining's auc: 0.93437\tvalid_1's binary_logloss: 0.109514\tvalid_1's auc: 0.852708\n",
      "[113]\ttraining's binary_logloss: 0.0965301\ttraining's auc: 0.934524\tvalid_1's binary_logloss: 0.109532\tvalid_1's auc: 0.852628\n",
      "[114]\ttraining's binary_logloss: 0.0964221\ttraining's auc: 0.934596\tvalid_1's binary_logloss: 0.109531\tvalid_1's auc: 0.852722\n",
      "[115]\ttraining's binary_logloss: 0.0962578\ttraining's auc: 0.935016\tvalid_1's binary_logloss: 0.109465\tvalid_1's auc: 0.852874\n",
      "[116]\ttraining's binary_logloss: 0.096103\ttraining's auc: 0.935421\tvalid_1's binary_logloss: 0.109446\tvalid_1's auc: 0.852923\n",
      "[117]\ttraining's binary_logloss: 0.0959504\ttraining's auc: 0.935807\tvalid_1's binary_logloss: 0.109448\tvalid_1's auc: 0.852952\n",
      "[118]\ttraining's binary_logloss: 0.0957811\ttraining's auc: 0.936186\tvalid_1's binary_logloss: 0.109471\tvalid_1's auc: 0.852767\n",
      "[119]\ttraining's binary_logloss: 0.0956572\ttraining's auc: 0.936343\tvalid_1's binary_logloss: 0.109477\tvalid_1's auc: 0.852762\n",
      "[120]\ttraining's binary_logloss: 0.0954903\ttraining's auc: 0.936704\tvalid_1's binary_logloss: 0.109483\tvalid_1's auc: 0.8528\n",
      "[121]\ttraining's binary_logloss: 0.0953802\ttraining's auc: 0.936882\tvalid_1's binary_logloss: 0.10945\tvalid_1's auc: 0.852946\n",
      "[122]\ttraining's binary_logloss: 0.0952655\ttraining's auc: 0.937167\tvalid_1's binary_logloss: 0.109452\tvalid_1's auc: 0.853055\n",
      "Early stopping, best iteration is:\n",
      "[72]\ttraining's binary_logloss: 0.103496\ttraining's auc: 0.92016\tvalid_1's binary_logloss: 0.109989\tvalid_1's auc: 0.853304\n"
     ]
    },
    {
     "name": "stdout",
     "output_type": "stream",
     "text": [
      "****************************************************************************************************\n",
      "[1]\ttraining's binary_logloss: 0.134156\ttraining's auc: 0.832794\tvalid_1's binary_logloss: 0.165241\tvalid_1's auc: 0.802798\n",
      "Training until validation scores don't improve for 50 rounds.\n",
      "[2]\ttraining's binary_logloss: 0.131528\ttraining's auc: 0.840816\tvalid_1's binary_logloss: 0.162139\tvalid_1's auc: 0.82194\n",
      "[3]\ttraining's binary_logloss: 0.129098\ttraining's auc: 0.849372\tvalid_1's binary_logloss: 0.159283\tvalid_1's auc: 0.832531\n",
      "[4]\ttraining's binary_logloss: 0.127203\ttraining's auc: 0.865129\tvalid_1's binary_logloss: 0.157139\tvalid_1's auc: 0.846971\n",
      "[5]\ttraining's binary_logloss: 0.125284\ttraining's auc: 0.86824\tvalid_1's binary_logloss: 0.15515\tvalid_1's auc: 0.848744\n",
      "[6]\ttraining's binary_logloss: 0.123443\ttraining's auc: 0.874456\tvalid_1's binary_logloss: 0.153141\tvalid_1's auc: 0.847642\n",
      "[7]\ttraining's binary_logloss: 0.121868\ttraining's auc: 0.874997\tvalid_1's binary_logloss: 0.151355\tvalid_1's auc: 0.84636\n",
      "[8]\ttraining's binary_logloss: 0.120534\ttraining's auc: 0.879245\tvalid_1's binary_logloss: 0.149977\tvalid_1's auc: 0.849638\n",
      "[9]\ttraining's binary_logloss: 0.119171\ttraining's auc: 0.880328\tvalid_1's binary_logloss: 0.148644\tvalid_1's auc: 0.848708\n",
      "[10]\ttraining's binary_logloss: 0.118021\ttraining's auc: 0.880348\tvalid_1's binary_logloss: 0.14729\tvalid_1's auc: 0.850435\n",
      "[11]\ttraining's binary_logloss: 0.116955\ttraining's auc: 0.881257\tvalid_1's binary_logloss: 0.146274\tvalid_1's auc: 0.852688\n",
      "[12]\ttraining's binary_logloss: 0.115949\ttraining's auc: 0.883151\tvalid_1's binary_logloss: 0.145205\tvalid_1's auc: 0.85427\n",
      "[13]\ttraining's binary_logloss: 0.114964\ttraining's auc: 0.884037\tvalid_1's binary_logloss: 0.144166\tvalid_1's auc: 0.853537\n",
      "[14]\ttraining's binary_logloss: 0.11401\ttraining's auc: 0.885228\tvalid_1's binary_logloss: 0.143221\tvalid_1's auc: 0.854594\n",
      "[15]\ttraining's binary_logloss: 0.11322\ttraining's auc: 0.885311\tvalid_1's binary_logloss: 0.142358\tvalid_1's auc: 0.855288\n",
      "[16]\ttraining's binary_logloss: 0.112404\ttraining's auc: 0.886161\tvalid_1's binary_logloss: 0.141587\tvalid_1's auc: 0.855807\n",
      "[17]\ttraining's binary_logloss: 0.11173\ttraining's auc: 0.886536\tvalid_1's binary_logloss: 0.140913\tvalid_1's auc: 0.855964\n",
      "[18]\ttraining's binary_logloss: 0.111106\ttraining's auc: 0.886768\tvalid_1's binary_logloss: 0.140397\tvalid_1's auc: 0.857328\n",
      "[19]\ttraining's binary_logloss: 0.110449\ttraining's auc: 0.886974\tvalid_1's binary_logloss: 0.139729\tvalid_1's auc: 0.857736\n",
      "[20]\ttraining's binary_logloss: 0.109866\ttraining's auc: 0.888349\tvalid_1's binary_logloss: 0.139267\tvalid_1's auc: 0.858467\n",
      "[21]\ttraining's binary_logloss: 0.109256\ttraining's auc: 0.890284\tvalid_1's binary_logloss: 0.138664\tvalid_1's auc: 0.859539\n",
      "[22]\ttraining's binary_logloss: 0.108743\ttraining's auc: 0.890838\tvalid_1's binary_logloss: 0.138262\tvalid_1's auc: 0.859711\n",
      "[23]\ttraining's binary_logloss: 0.108233\ttraining's auc: 0.891361\tvalid_1's binary_logloss: 0.137932\tvalid_1's auc: 0.85905\n",
      "[24]\ttraining's binary_logloss: 0.107746\ttraining's auc: 0.89286\tvalid_1's binary_logloss: 0.137729\tvalid_1's auc: 0.858583\n",
      "[25]\ttraining's binary_logloss: 0.107318\ttraining's auc: 0.893274\tvalid_1's binary_logloss: 0.137393\tvalid_1's auc: 0.858461\n",
      "[26]\ttraining's binary_logloss: 0.106909\ttraining's auc: 0.893912\tvalid_1's binary_logloss: 0.137246\tvalid_1's auc: 0.857982\n",
      "[27]\ttraining's binary_logloss: 0.106513\ttraining's auc: 0.894672\tvalid_1's binary_logloss: 0.137122\tvalid_1's auc: 0.857429\n",
      "[28]\ttraining's binary_logloss: 0.106069\ttraining's auc: 0.895313\tvalid_1's binary_logloss: 0.136702\tvalid_1's auc: 0.857696\n",
      "[29]\ttraining's binary_logloss: 0.105667\ttraining's auc: 0.895969\tvalid_1's binary_logloss: 0.136275\tvalid_1's auc: 0.857992\n",
      "[30]\ttraining's binary_logloss: 0.105272\ttraining's auc: 0.896839\tvalid_1's binary_logloss: 0.136028\tvalid_1's auc: 0.857484\n",
      "[31]\ttraining's binary_logloss: 0.10488\ttraining's auc: 0.898087\tvalid_1's binary_logloss: 0.135713\tvalid_1's auc: 0.857498\n",
      "[32]\ttraining's binary_logloss: 0.104562\ttraining's auc: 0.898301\tvalid_1's binary_logloss: 0.135509\tvalid_1's auc: 0.858015\n",
      "[33]\ttraining's binary_logloss: 0.104183\ttraining's auc: 0.899449\tvalid_1's binary_logloss: 0.135275\tvalid_1's auc: 0.857836\n",
      "[34]\ttraining's binary_logloss: 0.103813\ttraining's auc: 0.899969\tvalid_1's binary_logloss: 0.135103\tvalid_1's auc: 0.857654\n",
      "[35]\ttraining's binary_logloss: 0.103542\ttraining's auc: 0.900506\tvalid_1's binary_logloss: 0.135024\tvalid_1's auc: 0.857194\n",
      "[36]\ttraining's binary_logloss: 0.103203\ttraining's auc: 0.90138\tvalid_1's binary_logloss: 0.134837\tvalid_1's auc: 0.856635\n",
      "[37]\ttraining's binary_logloss: 0.102884\ttraining's auc: 0.901875\tvalid_1's binary_logloss: 0.134787\tvalid_1's auc: 0.856324\n",
      "[38]\ttraining's binary_logloss: 0.102568\ttraining's auc: 0.902758\tvalid_1's binary_logloss: 0.134582\tvalid_1's auc: 0.855889\n",
      "[39]\ttraining's binary_logloss: 0.102253\ttraining's auc: 0.903349\tvalid_1's binary_logloss: 0.134289\tvalid_1's auc: 0.856073\n",
      "[40]\ttraining's binary_logloss: 0.102001\ttraining's auc: 0.903886\tvalid_1's binary_logloss: 0.134201\tvalid_1's auc: 0.8564\n",
      "[41]\ttraining's binary_logloss: 0.101749\ttraining's auc: 0.904608\tvalid_1's binary_logloss: 0.134194\tvalid_1's auc: 0.855987\n",
      "[42]\ttraining's binary_logloss: 0.101446\ttraining's auc: 0.905168\tvalid_1's binary_logloss: 0.134093\tvalid_1's auc: 0.855918\n",
      "[43]\ttraining's binary_logloss: 0.101141\ttraining's auc: 0.905733\tvalid_1's binary_logloss: 0.133963\tvalid_1's auc: 0.855765\n",
      "[44]\ttraining's binary_logloss: 0.100875\ttraining's auc: 0.906194\tvalid_1's binary_logloss: 0.133826\tvalid_1's auc: 0.855967\n",
      "[45]\ttraining's binary_logloss: 0.10067\ttraining's auc: 0.906652\tvalid_1's binary_logloss: 0.133795\tvalid_1's auc: 0.855911\n",
      "[46]\ttraining's binary_logloss: 0.100391\ttraining's auc: 0.907169\tvalid_1's binary_logloss: 0.133682\tvalid_1's auc: 0.856349\n",
      "[47]\ttraining's binary_logloss: 0.10017\ttraining's auc: 0.907714\tvalid_1's binary_logloss: 0.133689\tvalid_1's auc: 0.856485\n",
      "[48]\ttraining's binary_logloss: 0.0999141\ttraining's auc: 0.908332\tvalid_1's binary_logloss: 0.133652\tvalid_1's auc: 0.8562\n",
      "[49]\ttraining's binary_logloss: 0.099709\ttraining's auc: 0.908694\tvalid_1's binary_logloss: 0.133698\tvalid_1's auc: 0.856027\n",
      "[50]\ttraining's binary_logloss: 0.0994615\ttraining's auc: 0.909364\tvalid_1's binary_logloss: 0.13376\tvalid_1's auc: 0.855324\n",
      "[51]\ttraining's binary_logloss: 0.0992071\ttraining's auc: 0.909996\tvalid_1's binary_logloss: 0.133704\tvalid_1's auc: 0.854863\n",
      "[52]\ttraining's binary_logloss: 0.0989592\ttraining's auc: 0.910342\tvalid_1's binary_logloss: 0.133681\tvalid_1's auc: 0.854716\n",
      "[53]\ttraining's binary_logloss: 0.0987753\ttraining's auc: 0.910734\tvalid_1's binary_logloss: 0.133693\tvalid_1's auc: 0.854404\n",
      "[54]\ttraining's binary_logloss: 0.098496\ttraining's auc: 0.91166\tvalid_1's binary_logloss: 0.133639\tvalid_1's auc: 0.854678\n",
      "[55]\ttraining's binary_logloss: 0.098266\ttraining's auc: 0.911943\tvalid_1's binary_logloss: 0.133538\tvalid_1's auc: 0.854736\n",
      "[56]\ttraining's binary_logloss: 0.0980164\ttraining's auc: 0.912567\tvalid_1's binary_logloss: 0.133388\tvalid_1's auc: 0.854998\n",
      "[57]\ttraining's binary_logloss: 0.0978414\ttraining's auc: 0.913071\tvalid_1's binary_logloss: 0.133335\tvalid_1's auc: 0.855154\n",
      "[58]\ttraining's binary_logloss: 0.0976164\ttraining's auc: 0.913964\tvalid_1's binary_logloss: 0.133361\tvalid_1's auc: 0.854881\n",
      "[59]\ttraining's binary_logloss: 0.0974569\ttraining's auc: 0.914157\tvalid_1's binary_logloss: 0.13339\tvalid_1's auc: 0.854828\n",
      "[60]\ttraining's binary_logloss: 0.0971963\ttraining's auc: 0.914943\tvalid_1's binary_logloss: 0.133329\tvalid_1's auc: 0.855187\n",
      "[61]\ttraining's binary_logloss: 0.0969764\ttraining's auc: 0.915571\tvalid_1's binary_logloss: 0.133271\tvalid_1's auc: 0.855296\n",
      "[62]\ttraining's binary_logloss: 0.0968249\ttraining's auc: 0.915751\tvalid_1's binary_logloss: 0.133237\tvalid_1's auc: 0.855548\n",
      "[63]\ttraining's binary_logloss: 0.0966037\ttraining's auc: 0.916143\tvalid_1's binary_logloss: 0.133205\tvalid_1's auc: 0.855323\n",
      "[64]\ttraining's binary_logloss: 0.0964393\ttraining's auc: 0.916374\tvalid_1's binary_logloss: 0.133259\tvalid_1's auc: 0.855232\n",
      "[65]\ttraining's binary_logloss: 0.0962465\ttraining's auc: 0.916924\tvalid_1's binary_logloss: 0.133243\tvalid_1's auc: 0.855239\n",
      "[66]\ttraining's binary_logloss: 0.0961012\ttraining's auc: 0.917059\tvalid_1's binary_logloss: 0.13305\tvalid_1's auc: 0.855824\n",
      "[67]\ttraining's binary_logloss: 0.0958848\ttraining's auc: 0.91761\tvalid_1's binary_logloss: 0.133025\tvalid_1's auc: 0.855773\n",
      "[68]\ttraining's binary_logloss: 0.0956801\ttraining's auc: 0.918266\tvalid_1's binary_logloss: 0.132972\tvalid_1's auc: 0.856203\n",
      "[69]\ttraining's binary_logloss: 0.0955032\ttraining's auc: 0.918725\tvalid_1's binary_logloss: 0.132959\tvalid_1's auc: 0.856442\n",
      "[70]\ttraining's binary_logloss: 0.0953154\ttraining's auc: 0.919067\tvalid_1's binary_logloss: 0.132962\tvalid_1's auc: 0.856127\n",
      "[71]\ttraining's binary_logloss: 0.095123\ttraining's auc: 0.919592\tvalid_1's binary_logloss: 0.132928\tvalid_1's auc: 0.856405\n",
      "[72]\ttraining's binary_logloss: 0.0949705\ttraining's auc: 0.919844\tvalid_1's binary_logloss: 0.133015\tvalid_1's auc: 0.856238\n",
      "Early stopping, best iteration is:\n",
      "[22]\ttraining's binary_logloss: 0.108743\ttraining's auc: 0.890838\tvalid_1's binary_logloss: 0.138262\tvalid_1's auc: 0.859711\n"
     ]
    },
    {
     "name": "stdout",
     "output_type": "stream",
     "text": [
      "****************************************************************************************************\n"
     ]
    }
   ],
   "source": [
    "fi = []\n",
    "test_probs = []\n",
    "i = 0\n",
    "categorical_features = []\n",
    "for train_idx, valid_idx in model_selection.KFold(n_splits=3, shuffle=True).split(X_train):\n",
    "    i += 1\n",
    "    Xt = X_train.iloc[train_idx]\n",
    "    yt = y_train.iloc[train_idx]\n",
    "\n",
    "    Xv = X_train.iloc[valid_idx]\n",
    "    yv = y_train.iloc[valid_idx]\n",
    "    \n",
    "    learner = LGBMClassifier(n_estimators=10000, **params)\n",
    "    learner.fit(Xt, yt,  early_stopping_rounds=50, eval_metric=\"auc\",\n",
    "                eval_set=[(Xt, yt), (Xv, yv)])\n",
    "    \n",
    "    test_probs.append(pd.Series(learner.predict_proba(X_test)[:, -1],\n",
    "                                index=X_test.index, name=\"fold_\" + str(i)))\n",
    "    fi.append(pd.Series(learner.feature_importances_ / learner.feature_importances_.sum(), index=Xt.columns))\n",
    "    print('*'*100)\n",
    "\n",
    "test_probs = pd.concat(test_probs, axis=1).mean(axis=1)\n",
    "test_probs.index.name=\"USER_ID\"\n",
    "test_probs.name=\"SCORE\"\n",
    "fi = pd.concat(fi, axis=1).mean(axis=1)"
   ]
  },
  {
   "cell_type": "code",
   "execution_count": 233,
   "metadata": {
    "collapsed": true
   },
   "outputs": [],
   "source": [
    "test_probs.to_csv(\"benchmark_04-09-2019_tuned_lgb.zip\", header=True, compression=\"zip\")"
   ]
  },
  {
   "cell_type": "code",
   "execution_count": null,
   "metadata": {
    "collapsed": true
   },
   "outputs": [],
   "source": []
  },
  {
   "cell_type": "code",
   "execution_count": null,
   "metadata": {
    "collapsed": true
   },
   "outputs": [],
   "source": []
  },
  {
   "cell_type": "markdown",
   "metadata": {
    "collapsed": true
   },
   "source": [
    "### Using XGB"
   ]
  },
  {
   "cell_type": "code",
   "execution_count": 174,
   "metadata": {
    "collapsed": true
   },
   "outputs": [],
   "source": [
    "import xgboost as xgb\n",
    "from sklearn.model_selection import train_test_split\n",
    "from sklearn.metrics import roc_auc_score"
   ]
  },
  {
   "cell_type": "code",
   "execution_count": 175,
   "metadata": {
    "collapsed": true
   },
   "outputs": [],
   "source": [
    "train = X_train.copy()\n",
    "test = X_test.copy()\n",
    "target = y_train.copy()"
   ]
  },
  {
   "cell_type": "code",
   "execution_count": 176,
   "metadata": {
    "collapsed": true
   },
   "outputs": [],
   "source": [
    "XX_train, XX_valid, yy_train, yy_valid = train_test_split(train, target, test_size = 0.2, stratify = target)\n",
    "\n",
    "\n"
   ]
  },
  {
   "cell_type": "code",
   "execution_count": 177,
   "metadata": {
    "collapsed": true
   },
   "outputs": [],
   "source": [
    "clf = xgb.XGBClassifier(max_depth = 4,\n",
    "                n_estimators=10000,\n",
    "                learning_rate=0.1, \n",
    "                # nthread=4,\n",
    "                subsample=0.8,\n",
    "                colsample_bytree=0.8,\n",
    "                #min_child_weight = 3,\n",
    "                # scale_pos_weight = ratio,\n",
    "                #reg_alpha=50,\n",
    "                #reg_lambda = 50,\n",
    "                seed=42)"
   ]
  },
  {
   "cell_type": "code",
   "execution_count": 178,
   "metadata": {
    "scrolled": true
   },
   "outputs": [
    {
     "name": "stdout",
     "output_type": "stream",
     "text": [
      "[0]\tvalidation_0-auc:0.818687\tvalidation_1-auc:0.787636\n",
      "Multiple eval metrics have been passed: 'validation_1-auc' will be used for early stopping.\n",
      "\n",
      "Will train until validation_1-auc hasn't improved in 50 rounds.\n",
      "[1]\tvalidation_0-auc:0.826944\tvalidation_1-auc:0.787118\n",
      "[2]\tvalidation_0-auc:0.844102\tvalidation_1-auc:0.788626\n",
      "[3]\tvalidation_0-auc:0.859109\tvalidation_1-auc:0.793387\n",
      "[4]\tvalidation_0-auc:0.884856\tvalidation_1-auc:0.804994\n",
      "[5]\tvalidation_0-auc:0.886563\tvalidation_1-auc:0.806786\n",
      "[6]\tvalidation_0-auc:0.89115\tvalidation_1-auc:0.803584\n",
      "[7]\tvalidation_0-auc:0.893021\tvalidation_1-auc:0.803023\n",
      "[8]\tvalidation_0-auc:0.899585\tvalidation_1-auc:0.820018\n",
      "[9]\tvalidation_0-auc:0.899996\tvalidation_1-auc:0.820392\n",
      "[10]\tvalidation_0-auc:0.902817\tvalidation_1-auc:0.819983\n",
      "[11]\tvalidation_0-auc:0.909219\tvalidation_1-auc:0.829231\n",
      "[12]\tvalidation_0-auc:0.912691\tvalidation_1-auc:0.830154\n",
      "[13]\tvalidation_0-auc:0.91381\tvalidation_1-auc:0.830514\n",
      "[14]\tvalidation_0-auc:0.914642\tvalidation_1-auc:0.829668\n",
      "[15]\tvalidation_0-auc:0.915714\tvalidation_1-auc:0.829863\n",
      "[16]\tvalidation_0-auc:0.917183\tvalidation_1-auc:0.828793\n",
      "[17]\tvalidation_0-auc:0.920056\tvalidation_1-auc:0.829277\n",
      "[18]\tvalidation_0-auc:0.919797\tvalidation_1-auc:0.828048\n",
      "[19]\tvalidation_0-auc:0.920644\tvalidation_1-auc:0.833989\n",
      "[20]\tvalidation_0-auc:0.92418\tvalidation_1-auc:0.83323\n",
      "[21]\tvalidation_0-auc:0.924859\tvalidation_1-auc:0.832721\n",
      "[22]\tvalidation_0-auc:0.926895\tvalidation_1-auc:0.832942\n",
      "[23]\tvalidation_0-auc:0.926908\tvalidation_1-auc:0.832467\n",
      "[24]\tvalidation_0-auc:0.92797\tvalidation_1-auc:0.833348\n",
      "[25]\tvalidation_0-auc:0.929412\tvalidation_1-auc:0.832013\n",
      "[26]\tvalidation_0-auc:0.931584\tvalidation_1-auc:0.831662\n",
      "[27]\tvalidation_0-auc:0.93228\tvalidation_1-auc:0.831944\n",
      "[28]\tvalidation_0-auc:0.932891\tvalidation_1-auc:0.833814\n",
      "[29]\tvalidation_0-auc:0.933905\tvalidation_1-auc:0.835739\n",
      "[30]\tvalidation_0-auc:0.935516\tvalidation_1-auc:0.83428\n",
      "[31]\tvalidation_0-auc:0.93572\tvalidation_1-auc:0.834084\n",
      "[32]\tvalidation_0-auc:0.939081\tvalidation_1-auc:0.834032\n",
      "[33]\tvalidation_0-auc:0.939693\tvalidation_1-auc:0.832349\n",
      "[34]\tvalidation_0-auc:0.940579\tvalidation_1-auc:0.833575\n",
      "[35]\tvalidation_0-auc:0.941515\tvalidation_1-auc:0.833074\n",
      "[36]\tvalidation_0-auc:0.943071\tvalidation_1-auc:0.830683\n",
      "[37]\tvalidation_0-auc:0.944694\tvalidation_1-auc:0.828782\n",
      "[38]\tvalidation_0-auc:0.946662\tvalidation_1-auc:0.829187\n",
      "[39]\tvalidation_0-auc:0.947113\tvalidation_1-auc:0.832085\n",
      "[40]\tvalidation_0-auc:0.948034\tvalidation_1-auc:0.834349\n",
      "[41]\tvalidation_0-auc:0.95002\tvalidation_1-auc:0.832205\n",
      "[42]\tvalidation_0-auc:0.951958\tvalidation_1-auc:0.837822\n",
      "[43]\tvalidation_0-auc:0.953975\tvalidation_1-auc:0.837249\n",
      "[44]\tvalidation_0-auc:0.955158\tvalidation_1-auc:0.836133\n",
      "[45]\tvalidation_0-auc:0.956943\tvalidation_1-auc:0.838357\n",
      "[46]\tvalidation_0-auc:0.958296\tvalidation_1-auc:0.837289\n",
      "[47]\tvalidation_0-auc:0.959455\tvalidation_1-auc:0.836541\n",
      "[48]\tvalidation_0-auc:0.960748\tvalidation_1-auc:0.836823\n",
      "[49]\tvalidation_0-auc:0.961504\tvalidation_1-auc:0.836941\n",
      "[50]\tvalidation_0-auc:0.962513\tvalidation_1-auc:0.836803\n",
      "[51]\tvalidation_0-auc:0.963195\tvalidation_1-auc:0.835655\n",
      "[52]\tvalidation_0-auc:0.964788\tvalidation_1-auc:0.83722\n",
      "[53]\tvalidation_0-auc:0.965143\tvalidation_1-auc:0.836841\n",
      "[54]\tvalidation_0-auc:0.966637\tvalidation_1-auc:0.835391\n",
      "[55]\tvalidation_0-auc:0.967604\tvalidation_1-auc:0.836\n",
      "[56]\tvalidation_0-auc:0.96896\tvalidation_1-auc:0.83455\n",
      "[57]\tvalidation_0-auc:0.970339\tvalidation_1-auc:0.833587\n",
      "[58]\tvalidation_0-auc:0.971178\tvalidation_1-auc:0.833529\n",
      "[59]\tvalidation_0-auc:0.971747\tvalidation_1-auc:0.831601\n",
      "[60]\tvalidation_0-auc:0.972856\tvalidation_1-auc:0.834668\n",
      "[61]\tvalidation_0-auc:0.973241\tvalidation_1-auc:0.833903\n",
      "[62]\tvalidation_0-auc:0.974562\tvalidation_1-auc:0.832539\n",
      "[63]\tvalidation_0-auc:0.97559\tvalidation_1-auc:0.830583\n",
      "[64]\tvalidation_0-auc:0.976187\tvalidation_1-auc:0.831555\n",
      "[65]\tvalidation_0-auc:0.976592\tvalidation_1-auc:0.833909\n",
      "[66]\tvalidation_0-auc:0.976878\tvalidation_1-auc:0.832942\n",
      "[67]\tvalidation_0-auc:0.977256\tvalidation_1-auc:0.83304\n",
      "[68]\tvalidation_0-auc:0.977434\tvalidation_1-auc:0.834041\n",
      "[69]\tvalidation_0-auc:0.977497\tvalidation_1-auc:0.833961\n",
      "[70]\tvalidation_0-auc:0.978304\tvalidation_1-auc:0.832108\n",
      "[71]\tvalidation_0-auc:0.979064\tvalidation_1-auc:0.830911\n",
      "[72]\tvalidation_0-auc:0.97966\tvalidation_1-auc:0.829576\n",
      "[73]\tvalidation_0-auc:0.980408\tvalidation_1-auc:0.8293\n",
      "[74]\tvalidation_0-auc:0.981182\tvalidation_1-auc:0.82797\n",
      "[75]\tvalidation_0-auc:0.981661\tvalidation_1-auc:0.82816\n",
      "[76]\tvalidation_0-auc:0.982451\tvalidation_1-auc:0.828356\n",
      "[77]\tvalidation_0-auc:0.983024\tvalidation_1-auc:0.827671\n",
      "[78]\tvalidation_0-auc:0.983281\tvalidation_1-auc:0.827798\n",
      "[79]\tvalidation_0-auc:0.984147\tvalidation_1-auc:0.828603\n",
      "[80]\tvalidation_0-auc:0.984323\tvalidation_1-auc:0.827516\n",
      "[81]\tvalidation_0-auc:0.98481\tvalidation_1-auc:0.826445\n",
      "[82]\tvalidation_0-auc:0.98517\tvalidation_1-auc:0.826555\n",
      "[83]\tvalidation_0-auc:0.985361\tvalidation_1-auc:0.827124\n",
      "[84]\tvalidation_0-auc:0.985883\tvalidation_1-auc:0.82835\n",
      "[85]\tvalidation_0-auc:0.986529\tvalidation_1-auc:0.827153\n",
      "[86]\tvalidation_0-auc:0.986805\tvalidation_1-auc:0.826825\n",
      "[87]\tvalidation_0-auc:0.987011\tvalidation_1-auc:0.827637\n",
      "[88]\tvalidation_0-auc:0.987264\tvalidation_1-auc:0.826814\n",
      "[89]\tvalidation_0-auc:0.987837\tvalidation_1-auc:0.826267\n",
      "[90]\tvalidation_0-auc:0.988159\tvalidation_1-auc:0.827101\n",
      "[91]\tvalidation_0-auc:0.988428\tvalidation_1-auc:0.826388\n",
      "[92]\tvalidation_0-auc:0.988677\tvalidation_1-auc:0.827522\n",
      "[93]\tvalidation_0-auc:0.988862\tvalidation_1-auc:0.826463\n",
      "[94]\tvalidation_0-auc:0.989129\tvalidation_1-auc:0.826405\n",
      "[95]\tvalidation_0-auc:0.989665\tvalidation_1-auc:0.82568\n",
      "Stopping. Best iteration:\n",
      "[45]\tvalidation_0-auc:0.956943\tvalidation_1-auc:0.838357\n",
      "\n"
     ]
    },
    {
     "data": {
      "text/plain": [
       "XGBClassifier(base_score=0.5, booster='gbtree', colsample_bylevel=1,\n",
       "              colsample_bytree=0.8, gamma=0, learning_rate=0.1,\n",
       "              max_delta_step=0, max_depth=4, min_child_weight=1, missing=None,\n",
       "              n_estimators=10000, n_jobs=1, nthread=None,\n",
       "              objective='binary:logistic', random_state=0, reg_alpha=0,\n",
       "              reg_lambda=1, scale_pos_weight=1, seed=42, silent=True,\n",
       "              subsample=0.8)"
      ]
     },
     "execution_count": 178,
     "metadata": {},
     "output_type": "execute_result"
    }
   ],
   "source": [
    "clf.fit(XX_train, yy_train, early_stopping_rounds=50, eval_metric=\"auc\",\n",
    "        eval_set=[(XX_train, yy_train), (XX_valid, yy_valid)])"
   ]
  },
  {
   "cell_type": "code",
   "execution_count": 183,
   "metadata": {
    "scrolled": true
   },
   "outputs": [
    {
     "data": {
      "image/png": "[encoded data removed]",
      "text/plain": [
       "<Figure size 1440x2160 with 1 Axes>"
      ]
     },
     "metadata": {
      "needs_background": "light"
     },
     "output_type": "display_data"
    }
   ],
   "source": [
    "# model with replies features\n",
    "import matplotlib.pyplot as plt\n",
    "import seaborn as sns\n",
    "%matplotlib inline\n",
    "\n",
    "feature_imp = pd.DataFrame(sorted(zip(clf.feature_importances_,X_train.columns)), columns=['Value','Feature'])\n",
    "\n",
    "plt.figure(figsize=(20, 30))\n",
    "sns.barplot(x=\"Value\", y=\"Feature\", data=feature_imp.sort_values(by=\"Value\", ascending=False).head(50))\n",
    "plt.title('LightGBM Features')\n",
    "plt.show()"
   ]
  },
  {
   "cell_type": "code",
   "execution_count": null,
   "metadata": {
    "collapsed": true
   },
   "outputs": [],
   "source": []
  },
  {
   "cell_type": "code",
   "execution_count": 37,
   "metadata": {
    "collapsed": true
   },
   "outputs": [],
   "source": [
    "from hyperopt import STATUS_OK, Trials, fmin, hp, tpe"
   ]
  },
  {
   "cell_type": "code",
   "execution_count": 39,
   "metadata": {
    "collapsed": true
   },
   "outputs": [],
   "source": [
    "def score(params):\n",
    "    num_round = int(params['n_estimators'])\n",
    "    del params['n_estimators']\n",
    "    dtrain = xgb.DMatrix(X_train, label=y_train)\n",
    "    dvalid = xgb.DMatrix(X_valid, label=y_valid)\n",
    "    watchlist = [(dvalid, 'eval'), (dtrain, 'train')]\n",
    "    bst = xgb.train(params, \n",
    "                      dtrain, \n",
    "                      num_round,\n",
    "                      evals=watchlist,\n",
    "                      verbose_eval=False)\n",
    "    predictions = bst.predict(dvalid, ntree_limit=bst.best_iteration)\n",
    "    roc = roc_auc_score(y_valid, np.array(predictions))\n",
    "    print(roc)\n",
    "    return {'loss': roc, 'status': STATUS_OK}"
   ]
  },
  {
   "cell_type": "code",
   "execution_count": 40,
   "metadata": {
    "collapsed": true
   },
   "outputs": [],
   "source": [
    "def optimize(evals, cores, trials, optimizer=tpe.suggest, random_state=42):\n",
    "    space = {\n",
    "        'n_estimators': hp.quniform('n_estimators', 100, 600, 1),\n",
    "        'eta': hp.quniform('eta', 0.025, 0.25, 0.025), # A problem with max_depth casted to float instead of int with the hp.quniform method.\n",
    "        'max_depth':  hp.choice('max_depth', np.arange(1, 14, dtype=int)),\n",
    "        'min_child_weight': hp.quniform('min_child_weight', 1, 10, 1),\n",
    "        'subsample': hp.quniform('subsample', 0.7, 1, 0.05),\n",
    "        'gamma': hp.quniform('gamma', 0.5, 1, 0.05),\n",
    "        'colsample_bytree': hp.quniform('colsample_bytree', 0.7, 1, 0.05),\n",
    "        'alpha' :  hp.quniform('alpha', 0, 10, 1),\n",
    "        'lambda': hp.quniform('lambda', 1, 2, 0.1),\n",
    "        'nthread': cores,\n",
    "        'objective': 'binary:logistic',\n",
    "        'booster': 'gbtree',\n",
    "        'seed': random_state\n",
    "    }\n",
    "    best = fmin(score, space, algo=tpe.suggest, max_evals=evals, trials = trials)\n",
    "    return best"
   ]
  },
  {
   "cell_type": "code",
   "execution_count": 43,
   "metadata": {
    "scrolled": true
   },
   "outputs": [
    {
     "name": "stdout",
     "output_type": "stream",
     "text": [
      "0.8020687645687645                                  \n",
      " 10%|█         | 1/10 [01:37<14:41, 97.91s/it, best loss: 0.8020687645687645]"
     ]
    },
    {
     "name": "stderr",
     "output_type": "stream",
     "text": [
      "/anaconda3/envs/pyenv/lib/python3.7/site-packages/xgboost/core.py:587: FutureWarning: Series.base is deprecated and will be removed in a future version\n",
      "  if getattr(data, 'base', None) is not None and \\\n",
      "\n"
     ]
    },
    {
     "name": "stdout",
     "output_type": "stream",
     "text": [
      "0.8221853146853146                                                           \n",
      " 20%|██        | 2/10 [02:53<12:09, 91.17s/it, best loss: 0.8020687645687645]"
     ]
    },
    {
     "name": "stderr",
     "output_type": "stream",
     "text": [
      "/anaconda3/envs/pyenv/lib/python3.7/site-packages/xgboost/core.py:587: FutureWarning: Series.base is deprecated and will be removed in a future version\n",
      "  if getattr(data, 'base', None) is not None and \\\n",
      "\n"
     ]
    },
    {
     "name": "stdout",
     "output_type": "stream",
     "text": [
      "0.8257983682983683                                                           \n",
      " 30%|███       | 3/10 [07:44<17:39, 151.29s/it, best loss: 0.8020687645687645]"
     ]
    },
    {
     "name": "stderr",
     "output_type": "stream",
     "text": [
      "/anaconda3/envs/pyenv/lib/python3.7/site-packages/xgboost/core.py:587: FutureWarning: Series.base is deprecated and will be removed in a future version\n",
      "  if getattr(data, 'base', None) is not None and \\\n",
      "\n"
     ]
    },
    {
     "name": "stdout",
     "output_type": "stream",
     "text": [
      "0.8397843822843822                                                            \n",
      " 40%|████      | 4/10 [09:50<14:21, 143.50s/it, best loss: 0.8020687645687645]"
     ]
    },
    {
     "name": "stderr",
     "output_type": "stream",
     "text": [
      "/anaconda3/envs/pyenv/lib/python3.7/site-packages/xgboost/core.py:587: FutureWarning: Series.base is deprecated and will be removed in a future version\n",
      "  if getattr(data, 'base', None) is not None and \\\n",
      "\n"
     ]
    },
    {
     "name": "stdout",
     "output_type": "stream",
     "text": [
      "0.8381002331002331                                                            \n",
      " 50%|█████     | 5/10 [15:14<16:28, 197.69s/it, best loss: 0.8020687645687645]"
     ]
    },
    {
     "name": "stderr",
     "output_type": "stream",
     "text": [
      "/anaconda3/envs/pyenv/lib/python3.7/site-packages/xgboost/core.py:587: FutureWarning: Series.base is deprecated and will be removed in a future version\n",
      "  if getattr(data, 'base', None) is not None and \\\n",
      "\n"
     ]
    },
    {
     "name": "stdout",
     "output_type": "stream",
     "text": [
      "0.7970920745920745                                                            \n",
      " 60%|██████    | 6/10 [18:06<12:39, 189.97s/it, best loss: 0.7970920745920745]"
     ]
    },
    {
     "name": "stderr",
     "output_type": "stream",
     "text": [
      "/anaconda3/envs/pyenv/lib/python3.7/site-packages/xgboost/core.py:587: FutureWarning: Series.base is deprecated and will be removed in a future version\n",
      "  if getattr(data, 'base', None) is not None and \\\n",
      "\n"
     ]
    },
    {
     "name": "stdout",
     "output_type": "stream",
     "text": [
      "0.839965034965035                                                             \n",
      " 70%|███████   | 7/10 [19:11<07:37, 152.44s/it, best loss: 0.7970920745920745]"
     ]
    },
    {
     "name": "stderr",
     "output_type": "stream",
     "text": [
      "/anaconda3/envs/pyenv/lib/python3.7/site-packages/xgboost/core.py:587: FutureWarning: Series.base is deprecated and will be removed in a future version\n",
      "  if getattr(data, 'base', None) is not None and \\\n",
      "\n"
     ]
    },
    {
     "name": "stdout",
     "output_type": "stream",
     "text": [
      "0.7940209790209791                                                            \n",
      " 80%|████████  | 8/10 [21:04<04:41, 140.79s/it, best loss: 0.7940209790209791]"
     ]
    },
    {
     "name": "stderr",
     "output_type": "stream",
     "text": [
      "/anaconda3/envs/pyenv/lib/python3.7/site-packages/xgboost/core.py:587: FutureWarning: Series.base is deprecated and will be removed in a future version\n",
      "  if getattr(data, 'base', None) is not None and \\\n",
      "\n"
     ]
    },
    {
     "name": "stdout",
     "output_type": "stream",
     "text": [
      "0.8001165501165503                                                            \n",
      " 90%|█████████ | 9/10 [23:49<02:27, 147.95s/it, best loss: 0.7940209790209791]"
     ]
    },
    {
     "name": "stderr",
     "output_type": "stream",
     "text": [
      "/anaconda3/envs/pyenv/lib/python3.7/site-packages/xgboost/core.py:587: FutureWarning: Series.base is deprecated and will be removed in a future version\n",
      "  if getattr(data, 'base', None) is not None and \\\n",
      "\n"
     ]
    },
    {
     "name": "stdout",
     "output_type": "stream",
     "text": [
      "0.8047552447552447                                                            \n",
      "100%|██████████| 10/10 [25:20<00:00, 152.09s/it, best loss: 0.7940209790209791]\n"
     ]
    }
   ],
   "source": [
    "trials = Trials()\n",
    "cores = 8\n",
    "n= 10\n",
    "best_param = optimize(evals = n,\n",
    "                      optimizer=tpe.suggest,\n",
    "                      cores = cores,\n",
    "                      trials = trials)"
   ]
  },
  {
   "cell_type": "code",
   "execution_count": 44,
   "metadata": {},
   "outputs": [
    {
     "data": {
      "text/plain": [
       "{'alpha': 0.0,\n",
       " 'colsample_bytree': 0.7000000000000001,\n",
       " 'eta': 0.2,\n",
       " 'gamma': 0.9,\n",
       " 'lambda': 1.0,\n",
       " 'max_depth': 6,\n",
       " 'min_child_weight': 8.0,\n",
       " 'n_estimators': 231.0,\n",
       " 'subsample': 0.75}"
      ]
     },
     "execution_count": 44,
     "metadata": {},
     "output_type": "execute_result"
    }
   ],
   "source": [
    "best_param"
   ]
  },
  {
   "cell_type": "code",
   "execution_count": null,
   "metadata": {
    "collapsed": true
   },
   "outputs": [],
   "source": []
  },
  {
   "cell_type": "markdown",
   "metadata": {
    "collapsed": true
   },
   "source": [
    "### Logistic Regression\n"
   ]
  },
  {
   "cell_type": "code",
   "execution_count": 199,
   "metadata": {
    "collapsed": true
   },
   "outputs": [],
   "source": [
    "from sklearn.linear_model import LogisticRegression, LogisticRegressionCV\n",
    "from sklearn.svm import LinearSVC"
   ]
  },
  {
   "cell_type": "code",
   "execution_count": 200,
   "metadata": {
    "collapsed": true
   },
   "outputs": [],
   "source": [
    "lr = LinearSVC()"
   ]
  },
  {
   "cell_type": "code",
   "execution_count": 191,
   "metadata": {
    "collapsed": true
   },
   "outputs": [],
   "source": [
    "XX_train, XX_valid, yy_train, yy_valid = train_test_split(train, target, test_size = 0.2, stratify = target)"
   ]
  },
  {
   "cell_type": "code",
   "execution_count": 201,
   "metadata": {},
   "outputs": [
    {
     "data": {
      "text/plain": [
       "LinearSVC(C=1.0, class_weight=None, dual=True, fit_intercept=True,\n",
       "          intercept_scaling=1, loss='squared_hinge', max_iter=1000,\n",
       "          multi_class='ovr', penalty='l2', random_state=None, tol=0.0001,\n",
       "          verbose=0)"
      ]
     },
     "execution_count": 201,
     "metadata": {},
     "output_type": "execute_result"
    }
   ],
   "source": [
    "lr.fit(XX_train, yy_train)"
   ]
  },
  {
   "cell_type": "code",
   "execution_count": 203,
   "metadata": {
    "collapsed": true
   },
   "outputs": [],
   "source": [
    "vals = lr.predict(XX_valid)"
   ]
  },
  {
   "cell_type": "code",
   "execution_count": 205,
   "metadata": {},
   "outputs": [
    {
     "data": {
      "text/plain": [
       "0.5"
      ]
     },
     "execution_count": 205,
     "metadata": {},
     "output_type": "execute_result"
    }
   ],
   "source": [
    "metrics.roc_auc_score(yy_valid, vals)"
   ]
  },
  {
   "cell_type": "code",
   "execution_count": null,
   "metadata": {
    "collapsed": true
   },
   "outputs": [],
   "source": []
  },
  {
   "cell_type": "code",
   "execution_count": null,
   "metadata": {
    "collapsed": true
   },
   "outputs": [],
   "source": []
  },
  {
   "cell_type": "code",
   "execution_count": 190,
   "metadata": {
    "scrolled": true
   },
   "outputs": [
    {
     "name": "stdout",
     "output_type": "stream",
     "text": [
      "Model building..\n"
     ]
    },
    {
     "name": "stderr",
     "output_type": "stream",
     "text": [
      "/anaconda3/envs/pyenv/lib/python3.7/site-packages/sklearn/linear_model/logistic.py:432: FutureWarning: Default solver will be changed to 'lbfgs' in 0.22. Specify a solver to silence this warning.\n",
      "  FutureWarning)\n"
     ]
    },
    {
     "name": "stdout",
     "output_type": "stream",
     "text": [
      "cv scores: [0.5]\n",
      "cv scores: [0.5, 0.5]\n"
     ]
    },
    {
     "name": "stderr",
     "output_type": "stream",
     "text": [
      "/anaconda3/envs/pyenv/lib/python3.7/site-packages/sklearn/linear_model/logistic.py:432: FutureWarning: Default solver will be changed to 'lbfgs' in 0.22. Specify a solver to silence this warning.\n",
      "  FutureWarning)\n",
      "/anaconda3/envs/pyenv/lib/python3.7/site-packages/sklearn/linear_model/logistic.py:432: FutureWarning: Default solver will be changed to 'lbfgs' in 0.22. Specify a solver to silence this warning.\n",
      "  FutureWarning)\n"
     ]
    },
    {
     "name": "stdout",
     "output_type": "stream",
     "text": [
      "cv scores: [0.5, 0.5, 0.5]\n",
      "cv scores: [0.5, 0.5, 0.5, 0.5]\n"
     ]
    },
    {
     "name": "stderr",
     "output_type": "stream",
     "text": [
      "/anaconda3/envs/pyenv/lib/python3.7/site-packages/sklearn/linear_model/logistic.py:432: FutureWarning: Default solver will be changed to 'lbfgs' in 0.22. Specify a solver to silence this warning.\n",
      "  FutureWarning)\n",
      "/anaconda3/envs/pyenv/lib/python3.7/site-packages/sklearn/linear_model/logistic.py:432: FutureWarning: Default solver will be changed to 'lbfgs' in 0.22. Specify a solver to silence this warning.\n",
      "  FutureWarning)\n"
     ]
    },
    {
     "name": "stdout",
     "output_type": "stream",
     "text": [
      "cv scores: [0.5, 0.5, 0.5, 0.5, 0.5]\n"
     ]
    },
    {
     "ename": "TypeError",
     "evalue": "ufunc 'true_divide' output (typecode 'd') could not be coerced to provided output parameter (typecode 'l') according to the casting rule ''same_kind''",
     "output_type": "error",
     "traceback": [
      "\u001b[0;31m---------------------------------------------------------------------------\u001b[0m",
      "\u001b[0;31mTypeError\u001b[0m                                 Traceback (most recent call last)",
      "\u001b[0;32m<ipython-input-190-a5111c6ea899>\u001b[0m in \u001b[0;36m<module>\u001b[0;34m\u001b[0m\n\u001b[1;32m     21\u001b[0m         \u001b[0mcv_scores\u001b[0m\u001b[0;34m.\u001b[0m\u001b[0mappend\u001b[0m\u001b[0;34m(\u001b[0m\u001b[0mloss\u001b[0m\u001b[0;34m)\u001b[0m\u001b[0;34m\u001b[0m\u001b[0;34m\u001b[0m\u001b[0m\n\u001b[1;32m     22\u001b[0m         \u001b[0mprint\u001b[0m \u001b[0;34m(\u001b[0m\u001b[0;34m'cv scores:'\u001b[0m\u001b[0;34m,\u001b[0m \u001b[0mcv_scores\u001b[0m\u001b[0;34m)\u001b[0m\u001b[0;34m\u001b[0m\u001b[0;34m\u001b[0m\u001b[0m\n\u001b[0;32m---> 23\u001b[0;31m     \u001b[0mpred_test_full\u001b[0m \u001b[0;34m/=\u001b[0m \u001b[0;36m5.\u001b[0m\u001b[0;34m\u001b[0m\u001b[0;34m\u001b[0m\u001b[0m\n\u001b[0m\u001b[1;32m     24\u001b[0m     \u001b[0mprint\u001b[0m \u001b[0;34m(\u001b[0m\u001b[0;34m'roc:'\u001b[0m\u001b[0;34m,\u001b[0m \u001b[0mmetrics\u001b[0m\u001b[0;34m.\u001b[0m\u001b[0mroc_auc_score\u001b[0m\u001b[0;34m(\u001b[0m\u001b[0my_train\u001b[0m\u001b[0;34m,\u001b[0m \u001b[0mpred_val_full\u001b[0m\u001b[0;34m)\u001b[0m\u001b[0;34m)\u001b[0m\u001b[0;34m\u001b[0m\u001b[0;34m\u001b[0m\u001b[0m\n",
      "\u001b[0;31mTypeError\u001b[0m: ufunc 'true_divide' output (typecode 'd') could not be coerced to provided output parameter (typecode 'l') according to the casting rule ''same_kind''"
     ]
    }
   ],
   "source": [
    "print (\"Model building..\")\n",
    "\n",
    "for model_name in [\"logreg\"]:\n",
    "\n",
    "    kf = model_selection.KFold(n_splits=5, shuffle=True, random_state=2018)\n",
    "    cv_scores = []\n",
    "    pred_test_full = 0\n",
    "    pred_val_full = np.zeros(X_train.shape[0])\n",
    "    for dev_index, val_index in kf.split(X_train):\n",
    "        dev_X, val_X = X_train.iloc[dev_index,:], X_train.iloc[val_index,:]\n",
    "        dev_y, val_y = y_train[dev_index], y_train[val_index]\n",
    "\n",
    "        if model_name == \"logreg\":\n",
    "            lr.fit(dev_X, dev_y)\n",
    "            pred_val = lr.predict(val_X)\n",
    "            pred_test = lr.predict(X_test)\n",
    "            loss = metrics.roc_auc_score(val_y, pred_val)\n",
    "        \n",
    "        pred_val_full[val_index] = pred_val\n",
    "        pred_test_full = pred_test_full + pred_test\n",
    "        cv_scores.append(loss)\n",
    "        print ('cv scores:', cv_scores)\n",
    "    pred_test_full /= 5.\n",
    "    print ('roc:', metrics.roc_auc_score(y_train, pred_val_full))"
   ]
  },
  {
   "cell_type": "code",
   "execution_count": null,
   "metadata": {
    "collapsed": true
   },
   "outputs": [],
   "source": []
  },
  {
   "cell_type": "code",
   "execution_count": null,
   "metadata": {
    "collapsed": true
   },
   "outputs": [],
   "source": []
  },
  {
   "cell_type": "code",
   "execution_count": null,
   "metadata": {
    "collapsed": true
   },
   "outputs": [],
   "source": []
  },
  {
   "cell_type": "code",
   "execution_count": null,
   "metadata": {
    "collapsed": true
   },
   "outputs": [],
   "source": []
  },
  {
   "cell_type": "code",
   "execution_count": null,
   "metadata": {
    "collapsed": true
   },
   "outputs": [],
   "source": []
  },
  {
   "cell_type": "code",
   "execution_count": null,
   "metadata": {
    "collapsed": true
   },
   "outputs": [],
   "source": []
  }
 ],
 "metadata": {
  "kernelspec": {
   "display_name": "Python pyenv",
   "language": "python",
   "name": "python3"
  },
  "language_info": {
   "codemirror_mode": {
    "name": "ipython",
    "version": 3
   },
   "file_extension": ".py",
   "mimetype": "text/x-python",
   "name": "python",
   "nbconvert_exporter": "python",
   "pygments_lexer": "ipython3",
   "version": "3.7.1"
  }
 },
 "nbformat": 4,
 "nbformat_minor": 2
}
